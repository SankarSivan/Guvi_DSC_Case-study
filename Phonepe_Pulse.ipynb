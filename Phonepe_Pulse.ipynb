{
  "nbformat": 4,
  "nbformat_minor": 0,
  "metadata": {
    "colab": {
      "provenance": [],
      "toc_visible": true,
      "include_colab_link": true
    },
    "kernelspec": {
      "name": "python3",
      "display_name": "Python 3"
    },
    "language_info": {
      "name": "python"
    }
  },
  "cells": [
    {
      "cell_type": "markdown",
      "metadata": {
        "id": "view-in-github",
        "colab_type": "text"
      },
      "source": [
        "<a href=\"https://colab.research.google.com/github/SankarSivan/Guvi_DSC_Case-study/blob/main/Phonepe_Pulse.ipynb\" target=\"_parent\"><img src=\"https://colab.research.google.com/assets/colab-badge.svg\" alt=\"Open In Colab\"/></a>"
      ]
    },
    {
      "cell_type": "code",
      "execution_count": 1,
      "metadata": {
        "colab": {
          "base_uri": "https://localhost:8080/"
        },
        "id": "WXj8aLm53hoa",
        "outputId": "105d7135-31bd-4cb5-a3d9-6bfdeb809075"
      },
      "outputs": [
        {
          "output_type": "stream",
          "name": "stdout",
          "text": [
            "Cloning into 'pulse'...\n",
            "remote: Enumerating objects: 17904, done.\u001b[K\n",
            "remote: Counting objects: 100% (2702/2702), done.\u001b[K\n",
            "remote: Compressing objects: 100% (2153/2153), done.\u001b[K\n",
            "remote: Total 17904 (delta 842), reused 2301 (delta 507), pack-reused 15202 (from 1)\u001b[K\n",
            "Receiving objects: 100% (17904/17904), 26.21 MiB | 17.86 MiB/s, done.\n",
            "Resolving deltas: 100% (8584/8584), done.\n",
            "Updating files: 100% (9029/9029), done.\n"
          ]
        }
      ],
      "source": [
        "!git clone https://github.com/PhonePe/pulse.git"
      ]
    },
    {
      "cell_type": "code",
      "source": [
        "import pandas as pd\n",
        "import json\n",
        "import os"
      ],
      "metadata": {
        "id": "tTzN1O8Z5q1c"
      },
      "execution_count": 2,
      "outputs": []
    },
    {
      "cell_type": "code",
      "source": [
        "import seaborn as sns\n",
        "import matplotlib.pyplot as plt\n",
        "import plotly.express as px\n",
        "import streamlit as st"
      ],
      "metadata": {
        "id": "ufIbS1XmtOHE"
      },
      "execution_count": 4,
      "outputs": []
    },
    {
      "cell_type": "markdown",
      "source": [
        "# Data Extraction"
      ],
      "metadata": {
        "id": "7BfIjRrseA1w"
      }
    },
    {
      "cell_type": "markdown",
      "source": [
        "### **1.1 Aggregated Transaction**\n",
        "\n"
      ],
      "metadata": {
        "id": "MJVaMJIxgti4"
      }
    },
    {
      "cell_type": "code",
      "source": [
        "import os\n",
        "path = \"/content/pulse/data/aggregated/transaction/country/india/state\"\n",
        "Aggr_state_list = os.listdir(path)\n",
        "print(Aggr_state_list)\n"
      ],
      "metadata": {
        "colab": {
          "base_uri": "https://localhost:8080/"
        },
        "id": "Ki9LIa1S3ueE",
        "outputId": "e87df4a9-9636-45ec-d906-d0489a7af229",
        "collapsed": true
      },
      "execution_count": 5,
      "outputs": [
        {
          "output_type": "stream",
          "name": "stdout",
          "text": [
            "['puducherry', 'bihar', 'odisha', 'lakshadweep', 'gujarat', 'andaman-&-nicobar-islands', 'himachal-pradesh', 'chhattisgarh', 'jammu-&-kashmir', 'ladakh', 'sikkim', 'dadra-&-nagar-haveli-&-daman-&-diu', 'nagaland', 'tripura', 'mizoram', 'madhya-pradesh', 'jharkhand', 'arunachal-pradesh', 'west-bengal', 'uttarakhand', 'rajasthan', 'manipur', 'telangana', 'andhra-pradesh', 'goa', 'chandigarh', 'kerala', 'karnataka', 'delhi', 'assam', 'punjab', 'haryana', 'maharashtra', 'meghalaya', 'uttar-pradesh', 'tamil-nadu']\n"
          ]
        }
      ]
    },
    {
      "cell_type": "code",
      "source": [
        "# Extract the Aggr_data\n",
        "\n",
        "clm = {'state':[], 'year':[], 'quater':[], 'transaction_type':[], 'transaction_count':[], 'transaction_amount':[]}\n",
        "\n",
        "# pull data\n",
        "for i in Aggr_state_list:\n",
        "  p_i = path + '/' + i + '/'\n",
        "  Aggr_yr = os.listdir(p_i)\n",
        "\n",
        "  #print(Aggr_yr)\n",
        "  for j in Aggr_yr:\n",
        "    p_j = p_i + j + '/'\n",
        "    Aggr_qutr = os.listdir(p_j)\n",
        "    #print(Aggr_qutr)\n",
        "\n",
        "    for k in Aggr_qutr:\n",
        "      p_k = p_j + k\n",
        "      Data = open(p_k, 'r')\n",
        "      D = json.load(Data)\n",
        "\n",
        "      for z in D['data']['transactionData']:\n",
        "        Name = z['name']\n",
        "        Count = z['paymentInstruments'][0]['count']\n",
        "        Amount = z['paymentInstruments'][0]['amount']\n",
        "        clm['transaction_type'].append(Name)\n",
        "        clm['transaction_count'].append(Count)\n",
        "        clm['transaction_amount'].append(Amount)\n",
        "        clm ['state'].append(i)\n",
        "        clm ['year'].append(j)\n",
        "        clm ['quater'].append(int(k.strip('.json')))\n",
        "\n",
        "aggr_trans = pd.DataFrame(clm)\n",
        "print(aggr_trans)\n"
      ],
      "metadata": {
        "colab": {
          "base_uri": "https://localhost:8080/"
        },
        "id": "18x66YG046KN",
        "outputId": "22aebd2a-2f3e-4c2a-b618-efbd5bcf0cb4",
        "collapsed": true
      },
      "execution_count": 122,
      "outputs": [
        {
          "output_type": "stream",
          "name": "stdout",
          "text": [
            "           state  year  quater          transaction_type  transaction_count  \\\n",
            "0     puducherry  2020       3     Peer-to-peer payments             855511   \n",
            "1     puducherry  2020       3         Merchant payments             560420   \n",
            "2     puducherry  2020       3  Recharge & bill payments             306852   \n",
            "3     puducherry  2020       3        Financial Services               3039   \n",
            "4     puducherry  2020       3                    Others               5080   \n",
            "...          ...   ...     ...                       ...                ...   \n",
            "5029  tamil-nadu  2018       4     Peer-to-peer payments           11538547   \n",
            "5030  tamil-nadu  2018       4  Recharge & bill payments            7093764   \n",
            "5031  tamil-nadu  2018       4         Merchant payments            3145621   \n",
            "5032  tamil-nadu  2018       4        Financial Services             228398   \n",
            "5033  tamil-nadu  2018       4                    Others             451114   \n",
            "\n",
            "      transaction_amount  \n",
            "0           3.116584e+09  \n",
            "1           3.355834e+08  \n",
            "2           1.389254e+08  \n",
            "3           4.788490e+06  \n",
            "4           2.199408e+06  \n",
            "...                  ...  \n",
            "5029        3.918008e+10  \n",
            "5030        2.020330e+09  \n",
            "5031        1.742903e+09  \n",
            "5032        4.657176e+07  \n",
            "5033        3.121857e+08  \n",
            "\n",
            "[5034 rows x 6 columns]\n"
          ]
        }
      ]
    },
    {
      "cell_type": "code",
      "source": [
        "aggr_trans.nunique()"
      ],
      "metadata": {
        "colab": {
          "base_uri": "https://localhost:8080/",
          "height": 272
        },
        "id": "dNjLfg8vf_zd",
        "outputId": "4228ec62-a5ac-4950-a37a-1c100f1d84ae"
      },
      "execution_count": 123,
      "outputs": [
        {
          "output_type": "execute_result",
          "data": {
            "text/plain": [
              "state                   36\n",
              "year                     7\n",
              "quater                   4\n",
              "transaction_type         5\n",
              "transaction_count     4966\n",
              "transaction_amount    5034\n",
              "dtype: int64"
            ],
            "text/html": [
              "<div>\n",
              "<style scoped>\n",
              "    .dataframe tbody tr th:only-of-type {\n",
              "        vertical-align: middle;\n",
              "    }\n",
              "\n",
              "    .dataframe tbody tr th {\n",
              "        vertical-align: top;\n",
              "    }\n",
              "\n",
              "    .dataframe thead th {\n",
              "        text-align: right;\n",
              "    }\n",
              "</style>\n",
              "<table border=\"1\" class=\"dataframe\">\n",
              "  <thead>\n",
              "    <tr style=\"text-align: right;\">\n",
              "      <th></th>\n",
              "      <th>0</th>\n",
              "    </tr>\n",
              "  </thead>\n",
              "  <tbody>\n",
              "    <tr>\n",
              "      <th>state</th>\n",
              "      <td>36</td>\n",
              "    </tr>\n",
              "    <tr>\n",
              "      <th>year</th>\n",
              "      <td>7</td>\n",
              "    </tr>\n",
              "    <tr>\n",
              "      <th>quater</th>\n",
              "      <td>4</td>\n",
              "    </tr>\n",
              "    <tr>\n",
              "      <th>transaction_type</th>\n",
              "      <td>5</td>\n",
              "    </tr>\n",
              "    <tr>\n",
              "      <th>transaction_count</th>\n",
              "      <td>4966</td>\n",
              "    </tr>\n",
              "    <tr>\n",
              "      <th>transaction_amount</th>\n",
              "      <td>5034</td>\n",
              "    </tr>\n",
              "  </tbody>\n",
              "</table>\n",
              "</div><br><label><b>dtype:</b> int64</label>"
            ]
          },
          "metadata": {},
          "execution_count": 123
        }
      ]
    },
    {
      "cell_type": "markdown",
      "source": [
        "### **1.2 Aggregated User**"
      ],
      "metadata": {
        "id": "rA2rdY7SgPLi"
      }
    },
    {
      "cell_type": "markdown",
      "source": [
        "aggr_usr_path = \"/content/pulse/data/aggregated/user/country/india/state\"\n",
        "\n",
        "Aggr_user_state_list = os.listdir(aggr_usr_path)\n",
        "print(Aggr_user_state_list)"
      ],
      "metadata": {
        "id": "FB58Dl8Ar-kH"
      }
    },
    {
      "cell_type": "code",
      "source": [
        "# Extract the Aggr_User\n",
        "\n",
        "clm = {'state':[], 'year':[], 'quater':[], 'User_Brand':[], 'User_count':[], 'User_percentage':[]}\n",
        "\n",
        "# Define the path to the aggregated user data\n",
        "agg_usr_path = \"/content/pulse/data/aggregated/user/country/india/state\"\n",
        "#print(os.listdir(agg_usr_path))\n",
        "\n",
        "# List all states (folders) in the given path\n",
        "Aggr_user_state_list = os.listdir(agg_usr_path)\n",
        "\n",
        "# pull data\n",
        "for i in Aggr_user_state_list:\n",
        "  p_i = os.path.join(agg_usr_path, i)\n",
        "  Aggr_yr = os.listdir(p_i)\n",
        "  #print(Aggr_yr)\n",
        "\n",
        "  for j in Aggr_yr:\n",
        "    p_j = os.path.join(p_i, j)\n",
        "    Aggr_qutr = os.listdir(p_j)\n",
        "    #print(Aggr_qutr)\n",
        "\n",
        "    #The for loop for to be indented to be in the j loop\n",
        "    for k in Aggr_qutr:\n",
        "      p_k = os.path.join(p_j, k)\n",
        "      #print('p_k')\n",
        "\n",
        "    # Open and load JSON data\n",
        "    with open(p_k, 'r') as Data:\n",
        "      D = json.load(Data)\n",
        "\n",
        "    # Check if 'usersByDevice' key exists and is not None\n",
        "    if D['data'] and 'usersByDevice' in D['data'] and D['data']['usersByDevice']:\n",
        "        for z in D['data']['usersByDevice']:\n",
        "            clm['User_Brand'].append(z['brand'])\n",
        "            clm['User_count'].append(z['count'])\n",
        "            clm['User_percentage'].append(z['percentage'])\n",
        "            clm['state'].append(i)\n",
        "            clm['year'].append(j)\n",
        "            clm['quater'].append(int(k.strip('.json')))\n",
        "\n",
        "# Convert dictionary to DataFrame\n",
        "aggr_user = pd.DataFrame(clm)\n",
        "print(aggr_user)\n"
      ],
      "metadata": {
        "colab": {
          "base_uri": "https://localhost:8080/"
        },
        "id": "Mzl9rlhkNwvQ",
        "outputId": "a9b4b276-9ef4-471f-cfa6-10a1f6287b18"
      },
      "execution_count": 66,
      "outputs": [
        {
          "output_type": "stream",
          "name": "stdout",
          "text": [
            "           state  year  quater User_Brand  User_count  User_percentage\n",
            "0     puducherry  2020       4     Xiaomi       71555         0.223871\n",
            "1     puducherry  2020       4    Samsung       63620         0.199045\n",
            "2     puducherry  2020       4       Vivo       61208         0.191499\n",
            "3     puducherry  2020       4       Oppo       33860         0.105936\n",
            "4     puducherry  2020       4     Realme       14505         0.045381\n",
            "...          ...   ...     ...        ...         ...              ...\n",
            "1579  tamil-nadu  2018       4     Lenovo      194451         0.037395\n",
            "1580  tamil-nadu  2018       4      Apple      191032         0.036738\n",
            "1581  tamil-nadu  2018       4    OnePlus      180637         0.034739\n",
            "1582  tamil-nadu  2018       4     Huawei      164880         0.031708\n",
            "1583  tamil-nadu  2018       4     Others      558850         0.107474\n",
            "\n",
            "[1584 rows x 6 columns]\n"
          ]
        }
      ]
    },
    {
      "cell_type": "markdown",
      "source": [
        "### 1.3 Aggregated insurance"
      ],
      "metadata": {
        "id": "YUYuwNPsHzh5"
      }
    },
    {
      "cell_type": "code",
      "source": [
        "# Extract the Aggregated_Insurance\n",
        "\n",
        "clm = {'state':[], 'year':[], 'quater':[], 'name':[], 'count':[], 'amount':[]}\n",
        "\n",
        "# Define the path to the aggregated insurance data\n",
        "aggr_insurance_path = \"/content/pulse/data/aggregated/insurance/country/india/state\"\n",
        "#print(os.listdir(aggr_insurance_path))\n",
        "\n",
        "\n",
        "# List all states (folders) in the given path\n",
        "Aggr_insurance_state_list = os.listdir(aggr_insurance_path)\n",
        "#print(Aggr_insurance_state_list)\n",
        "\n",
        "\n",
        "# pull data\n",
        "for i in Aggr_insurance_state_list:\n",
        "  p_i = os.path.join(aggr_insurance_path, i)\n",
        "  Aggr_yr = os.listdir(p_i)\n",
        "  #print(Aggr_yr)\n",
        "\n",
        "\n",
        "  for j in Aggr_yr:\n",
        "    p_j = os.path.join(p_i, j)\n",
        "    Aggr_qutr = os.listdir(p_j)\n",
        "    #print(Aggr_qutr)\n",
        "\n",
        "    #The for loop for to be indented to be in the j loop\n",
        "    for k in Aggr_qutr:\n",
        "      p_k = os.path.join(p_j, k)\n",
        "      #print(p_k)\n",
        "\n",
        "\n",
        "    # Open and load JSON data\n",
        "    with open(p_k, 'r') as Data:\n",
        "      D = json.load(Data)\n",
        "\n",
        "    # Loading data to clm\n",
        "    if D['data'] and 'transactionData' in D['data'] and D['data']['transactionData']:\n",
        "        for z in D['data']['transactionData']:\n",
        "            clm['name'].append(z['name'])\n",
        "            clm['count'].append(z['paymentInstruments'][0]['count'])\n",
        "            clm['amount'].append(z['paymentInstruments'][0]['amount'])\n",
        "            clm['state'].append(i)\n",
        "            clm['year'].append(j)\n",
        "            clm['quater'].append(int(k.strip('.json')))\n",
        "\n",
        "# Convert dictionary to DataFrame\n",
        "aggr_insurance = pd.DataFrame(clm)\n",
        "print(aggr_insurance)\n"
      ],
      "metadata": {
        "colab": {
          "base_uri": "https://localhost:8080/"
        },
        "outputId": "2f0d9d3a-2dba-4ba6-fcc6-0e7caba7c92c",
        "id": "cILrffhdILoa"
      },
      "execution_count": 67,
      "outputs": [
        {
          "output_type": "stream",
          "name": "stdout",
          "text": [
            "          state  year  quater       name   count       amount\n",
            "0    puducherry  2020       4  Insurance     234     197955.0\n",
            "1    puducherry  2024       4  Insurance    2838    3896033.0\n",
            "2    puducherry  2021       4  Insurance     786     946607.0\n",
            "3    puducherry  2023       4  Insurance    2447    3419395.0\n",
            "4    puducherry  2022       4  Insurance    2331    2693130.0\n",
            "..          ...   ...     ...        ...     ...          ...\n",
            "174  tamil-nadu  2020       4  Insurance   10290    8993575.0\n",
            "175  tamil-nadu  2024       4  Insurance  127002  173784251.0\n",
            "176  tamil-nadu  2021       4  Insurance   33037   42184290.0\n",
            "177  tamil-nadu  2023       4  Insurance  104871  139433796.0\n",
            "178  tamil-nadu  2022       4  Insurance  125491  146457790.0\n",
            "\n",
            "[179 rows x 6 columns]\n"
          ]
        }
      ]
    },
    {
      "cell_type": "markdown",
      "source": [
        "### **2.1 Map insurance**"
      ],
      "metadata": {
        "id": "uE5pYwLqPqZL"
      }
    },
    {
      "cell_type": "code",
      "source": [
        "# Extract the Map_Insurance\n",
        "\n",
        "clm = {'state':[], 'year':[], 'quater':[], 'name':[], 'count':[], 'amount':[]}\n",
        "\n",
        "# Define the path to the map insurance data\n",
        "map_insurance_path = \"/content/pulse/data/map/insurance/country/india/state\"\n",
        "#print(os.listdir(map_insurance_path))\n",
        "\n",
        "\n",
        "# List all states (folders) in the given path\n",
        "map_insurance_state_list = os.listdir(map_insurance_path)\n",
        "#print(map_insurance_state_list)\n",
        "\n",
        "# pull data\n",
        "for i in Aggr_insurance_state_list:\n",
        "  p_i = os.path.join(aggr_insurance_path, i)\n",
        "  Aggr_yr = os.listdir(p_i)\n",
        "  #print(Aggr_yr)\n",
        "\n",
        "  for j in Aggr_yr:\n",
        "    p_j = os.path.join(p_i, j)\n",
        "    Aggr_qutr = os.listdir(p_j)\n",
        "    #print(Aggr_qutr)\n",
        "\n",
        "    #The for loop for to be indented to be in the j loop\n",
        "    for k in Aggr_qutr:\n",
        "      p_k = os.path.join(p_j, k)\n",
        "     #print(p_k)\n",
        "\n",
        "\n",
        "    # Open and load JSON data\n",
        "    with open(p_k, 'r') as Data:\n",
        "      D = json.load(Data)\n",
        "\n",
        "    # l;oading data to clm\n",
        "    if D['data'] and 'transactionData' in D['data'] and D['data']['transactionData']:\n",
        "        for z in D['data']['transactionData']:\n",
        "            clm['name'].append(z['name'])\n",
        "            clm['count'].append(z['paymentInstruments'][0]['count'])\n",
        "            clm['amount'].append(z['paymentInstruments'][0]['amount'])\n",
        "            clm['state'].append(i)\n",
        "            clm['year'].append(j)\n",
        "            clm['quater'].append(int(k.strip('.json')))\n",
        "\n",
        "# Convert dictionary to DataFrame\n",
        "map_insurance = pd.DataFrame(clm)\n",
        "print(map_insurance)\n"
      ],
      "metadata": {
        "id": "JVGvvXiKT27J",
        "outputId": "f32e5194-0a14-4113-d76b-316e7a6e5483",
        "colab": {
          "base_uri": "https://localhost:8080/"
        },
        "collapsed": true
      },
      "execution_count": 68,
      "outputs": [
        {
          "output_type": "stream",
          "name": "stdout",
          "text": [
            "          state  year  quater       name   count       amount\n",
            "0    puducherry  2020       4  Insurance     234     197955.0\n",
            "1    puducherry  2024       4  Insurance    2838    3896033.0\n",
            "2    puducherry  2021       4  Insurance     786     946607.0\n",
            "3    puducherry  2023       4  Insurance    2447    3419395.0\n",
            "4    puducherry  2022       4  Insurance    2331    2693130.0\n",
            "..          ...   ...     ...        ...     ...          ...\n",
            "174  tamil-nadu  2020       4  Insurance   10290    8993575.0\n",
            "175  tamil-nadu  2024       4  Insurance  127002  173784251.0\n",
            "176  tamil-nadu  2021       4  Insurance   33037   42184290.0\n",
            "177  tamil-nadu  2023       4  Insurance  104871  139433796.0\n",
            "178  tamil-nadu  2022       4  Insurance  125491  146457790.0\n",
            "\n",
            "[179 rows x 6 columns]\n"
          ]
        }
      ]
    },
    {
      "cell_type": "markdown",
      "source": [
        "## 2.2 Map user"
      ],
      "metadata": {
        "id": "RyKjV_J68bW-"
      }
    },
    {
      "cell_type": "code",
      "source": [
        "# Define the dictionary to store extracted data\n",
        "clm_user = {'state': [], 'year': [], 'quarter': [], 'district': [], 'registered_users': [], 'app_opens': []}\n",
        "\n",
        "# Set the file path\n",
        "map_user_path = \"/content/pulse/data/map/user/hover/country/india/state\"\n",
        "state_list = os.listdir(map_user_path)\n",
        "\n",
        "for state in state_list:\n",
        "    state_path = os.path.join(map_user_path, state)\n",
        "    if not os.path.isdir(state_path):  # Skip if not a directory\n",
        "        continue\n",
        "\n",
        "    year_list = os.listdir(state_path)\n",
        "\n",
        "    for year in year_list:\n",
        "        year_path = os.path.join(state_path, year)\n",
        "        if not os.path.isdir(year_path):  # Skip if not a directory\n",
        "            continue\n",
        "\n",
        "        quarter_list = os.listdir(year_path)\n",
        "\n",
        "        for quarter in quarter_list:\n",
        "            quarter_path = os.path.join(year_path, quarter)\n",
        "            if not quarter_path.endswith('.json'):  # Ensure it's a JSON file\n",
        "                continue\n",
        "\n",
        "            with open(quarter_path, 'r') as data_file:\n",
        "                data = json.load(data_file)\n",
        "\n",
        "            if data.get(\"data\") and \"hoverData\" in data[\"data\"]:\n",
        "                for district, values in data[\"data\"][\"hoverData\"].items():\n",
        "                    clm_user['state'].append(state)\n",
        "                    clm_user['year'].append(year)\n",
        "                    clm_user['quarter'].append(int(quarter.strip('.json')))\n",
        "                    clm_user['district'].append(district)\n",
        "                    clm_user['registered_users'].append(values.get('registeredUsers', 0))\n",
        "                    clm_user['app_opens'].append(values.get('appOpens', 0))\n",
        "\n",
        "# Convert to DataFrame\n",
        "map_user = pd.DataFrame(clm_user)\n",
        "print(map_user)"
      ],
      "metadata": {
        "colab": {
          "base_uri": "https://localhost:8080/"
        },
        "id": "qPC1FNnB8BJm",
        "outputId": "c262ff7f-c424-461e-dc9c-9841577f6e03",
        "collapsed": true
      },
      "execution_count": 69,
      "outputs": [
        {
          "output_type": "stream",
          "name": "stdout",
          "text": [
            "            state  year  quarter             district  registered_users  \\\n",
            "0      puducherry  2020        3    karaikal district             26910   \n",
            "1      puducherry  2020        3  puducherry district            239707   \n",
            "2      puducherry  2020        3       yanam district             11054   \n",
            "3      puducherry  2020        3        mahe district              7502   \n",
            "4      puducherry  2020        2    karaikal district             23612   \n",
            "...           ...   ...      ...                  ...               ...   \n",
            "20603  tamil-nadu  2018        4       theni district             49911   \n",
            "20604  tamil-nadu  2018        4     ranipet district             75577   \n",
            "20605  tamil-nadu  2018        4    namakkal district             94773   \n",
            "20606  tamil-nadu  2018        4     vellore district            103405   \n",
            "20607  tamil-nadu  2018        4  thiruvarur district             31566   \n",
            "\n",
            "       app_opens  \n",
            "0         303955  \n",
            "1        3437500  \n",
            "2         396823  \n",
            "3          83881  \n",
            "4         239666  \n",
            "...          ...  \n",
            "20603          0  \n",
            "20604          0  \n",
            "20605          0  \n",
            "20606          0  \n",
            "20607          0  \n",
            "\n",
            "[20608 rows x 6 columns]\n"
          ]
        }
      ]
    },
    {
      "cell_type": "markdown",
      "source": [
        "## 2.3 map_transaction"
      ],
      "metadata": {
        "id": "c-hbfIMQ75tS"
      }
    },
    {
      "cell_type": "code",
      "source": [
        "clm_transaction = {'state': [], 'year': [], 'quater': [], 'transaction_count': [], 'transaction_amount': []}\n",
        "\n",
        "map_transaction_path = \"/content/pulse/data/map/transaction/hover/country/india\"\n",
        "year_list = os.listdir(map_transaction_path)\n",
        "\n",
        "for year in year_list:\n",
        "    year_path = os.path.join(map_transaction_path, year)\n",
        "\n",
        "    if not os.path.isdir(year_path):  # Skip if it's not a directory\n",
        "        continue\n",
        "\n",
        "    quarter_list = os.listdir(year_path)\n",
        "\n",
        "    for quarter in quarter_list:\n",
        "        quarter_path = os.path.join(year_path, quarter)\n",
        "\n",
        "        if not quarter_path.endswith('.json'):  # Skip non-JSON files\n",
        "            continue\n",
        "\n",
        "        with open(quarter_path, 'r') as Data:\n",
        "            D = json.load(Data)\n",
        "\n",
        "        if 'data' in D and 'hoverDataList' in D['data']:\n",
        "            for entry in D['data']['hoverDataList']:\n",
        "                clm_transaction['state'].append(entry['name'])\n",
        "                clm_transaction['year'].append(year)\n",
        "                clm_transaction['quater'].append(int(quarter.strip('.json')))\n",
        "                clm_transaction['transaction_count'].append(entry['metric'][0]['count'])\n",
        "                clm_transaction['transaction_amount'].append(entry['metric'][0]['amount'])\n",
        "\n",
        "map_transaction = pd.DataFrame(clm_transaction)\n",
        "print(map_transaction)"
      ],
      "metadata": {
        "colab": {
          "base_uri": "https://localhost:8080/"
        },
        "id": "70yh1-Ds7wiW",
        "outputId": "de34b33b-201f-494b-eff8-ae77ab2df3b1"
      },
      "execution_count": 70,
      "outputs": [
        {
          "output_type": "stream",
          "name": "stdout",
          "text": [
            "                  state  year  quater  transaction_count  transaction_amount\n",
            "0            puducherry  2020       3            1730902        3.598080e+09\n",
            "1            tamil nadu  2020       3           70277825        1.438414e+11\n",
            "2         uttar pradesh  2020       3          127405259        2.486900e+11\n",
            "3        madhya pradesh  2020       3          108579881        2.057017e+11\n",
            "4        andhra pradesh  2020       3          204902935        4.670841e+11\n",
            "...                 ...   ...     ...                ...                 ...\n",
            "1003    jammu & kashmir  2018       4            2721310        5.664720e+09\n",
            "1004                goa  2018       4             514755        1.153005e+09\n",
            "1005  arunachal pradesh  2018       4             176429        5.040400e+08\n",
            "1006              delhi  2018       4           29187719        3.972286e+10\n",
            "1007        uttarakhand  2018       4            3178761        5.654272e+09\n",
            "\n",
            "[1008 rows x 5 columns]\n"
          ]
        }
      ]
    },
    {
      "cell_type": "markdown",
      "source": [
        "## 3.1 top_insurance"
      ],
      "metadata": {
        "id": "4bQf1d8X9aa3"
      }
    },
    {
      "cell_type": "code",
      "source": [
        "# Define data structure\n",
        "clm_insurance = {'state':[], 'year':[], 'quater':[], 'district/pincode':[], 'top_insurance_count':[], 'top_insurance_amount':[]}\n",
        "\n",
        "# Define the path to the top insurance data\n",
        "top_insurance_path = \"/content/pulse/data/top/insurance/country/india/state\"\n",
        "Top_insurance_state_list = os.listdir(top_insurance_path)\n",
        "\n",
        "# Extract data\n",
        "for i in Top_insurance_state_list:\n",
        "    p_i = os.path.join(top_insurance_path, i)\n",
        "    Top_yr = os.listdir(p_i)\n",
        "\n",
        "    for j in Top_yr:\n",
        "        p_j = os.path.join(p_i, j)\n",
        "        Top_qutr = os.listdir(p_j)\n",
        "\n",
        "        for k in Top_qutr:\n",
        "            p_k = os.path.join(p_j, k)\n",
        "\n",
        "            with open(p_k, 'r') as Data:\n",
        "                D = json.load(Data)\n",
        "\n",
        "            if D['data']:\n",
        "                # Extract district data\n",
        "                if 'districts' in D['data'] and D['data']['districts']:\n",
        "                    for dist in D['data']['districts']:\n",
        "                        clm_insurance['state'].append(i)\n",
        "                        clm_insurance['year'].append(j)\n",
        "                        clm_insurance['quater'].append(int(k.strip('.json')))\n",
        "                        clm_insurance['district/pincode'].append(dist['entityName'])\n",
        "                        clm_insurance['top_insurance_count'].append(dist['metric']['count'])\n",
        "                        clm_insurance['top_insurance_amount'].append(dist['metric']['amount'])\n",
        "\n",
        "                # Extract pincode data\n",
        "                if 'pincodes' in D['data'] and D['data']['pincodes']:\n",
        "                    for pin in D['data']['pincodes']:\n",
        "                        clm_insurance['state'].append(i)\n",
        "                        clm_insurance['year'].append(j)\n",
        "                        clm_insurance['quater'].append(int(k.strip('.json')))\n",
        "                        clm_insurance['district/pincode'].append(pin['entityName'])\n",
        "                        clm_insurance['top_insurance_count'].append(pin['metric']['count'])\n",
        "                        clm_insurance['top_insurance_amount'].append(pin['metric']['amount'])\n",
        "\n",
        "# Convert dictionary to DataFrame\n",
        "top_insurance = pd.DataFrame(clm_insurance)\n",
        "print(top_insurance)"
      ],
      "metadata": {
        "colab": {
          "base_uri": "https://localhost:8080/"
        },
        "id": "9WHLkRJz9Wm7",
        "outputId": "447ff12d-8483-4b7a-a152-0a66c3563fb4"
      },
      "execution_count": 71,
      "outputs": [
        {
          "output_type": "stream",
          "name": "stdout",
          "text": [
            "            state  year  quater district/pincode  top_insurance_count  \\\n",
            "0      puducherry  2020       3       puducherry                  143   \n",
            "1      puducherry  2020       3            yanam                   25   \n",
            "2      puducherry  2020       3         karaikal                   14   \n",
            "3      puducherry  2020       3             mahe                    9   \n",
            "4      puducherry  2020       3           605004                   26   \n",
            "...           ...   ...     ...              ...                  ...   \n",
            "12271  tamil-nadu  2022       4           600106                  909   \n",
            "12272  tamil-nadu  2022       4           600083                  886   \n",
            "12273  tamil-nadu  2022       4           600056                  869   \n",
            "12274  tamil-nadu  2022       4           600053                  812   \n",
            "12275  tamil-nadu  2022       4           600119                  808   \n",
            "\n",
            "       top_insurance_amount  \n",
            "0                   40754.0  \n",
            "1                    6919.0  \n",
            "2                    5445.0  \n",
            "3                    5281.0  \n",
            "4                    6761.0  \n",
            "...                     ...  \n",
            "12271              889359.0  \n",
            "12272              844984.0  \n",
            "12273              865067.0  \n",
            "12274              834462.0  \n",
            "12275             1024353.0  \n",
            "\n",
            "[12276 rows x 6 columns]\n"
          ]
        }
      ]
    },
    {
      "cell_type": "code",
      "source": [],
      "metadata": {
        "id": "XkhqDFBO9OBK"
      },
      "execution_count": 71,
      "outputs": []
    },
    {
      "cell_type": "markdown",
      "source": [
        "## 3.2 top transactions"
      ],
      "metadata": {
        "id": "4kSp5ZUP-nIM"
      }
    },
    {
      "cell_type": "code",
      "source": [
        "# Define data structure\n",
        "clm = {'state':[], 'year':[], 'quater':[], 'district/pincode':[], 'top_transaction_count':[], 'top_transaction_amount':[]}\n",
        "\n",
        "# Define the path to the top transactions data\n",
        "top_txn_path = \"/content/pulse/data/top/transaction/country/india/state\"\n",
        "Top_txn_state_list = os.listdir(top_txn_path)\n",
        "\n",
        "# Extract data\n",
        "for i in Top_txn_state_list:\n",
        "    p_i = os.path.join(top_txn_path, i)\n",
        "    Top_yr = os.listdir(p_i)\n",
        "\n",
        "    for j in Top_yr:\n",
        "        p_j = os.path.join(p_i, j)\n",
        "        Top_qutr = os.listdir(p_j)\n",
        "\n",
        "        for k in Top_qutr:\n",
        "            p_k = os.path.join(p_j, k)\n",
        "\n",
        "            with open(p_k, 'r') as Data:\n",
        "                D = json.load(Data)\n",
        "\n",
        "            if D['data']:\n",
        "                # Extract district data\n",
        "                if 'districts' in D['data'] and D['data']['districts']:\n",
        "                    for dist in D['data']['districts']:\n",
        "                        clm['state'].append(i)\n",
        "                        clm['year'].append(j)\n",
        "                        clm['quater'].append(int(k.strip('.json')))\n",
        "                        clm['district/pincode'].append(dist['entityName'])\n",
        "                        clm['top_transaction_count'].append(dist['metric']['count'])\n",
        "                        clm['top_transaction_amount'].append(dist['metric']['amount'])\n",
        "\n",
        "                # Extract pincode data\n",
        "                if 'pincodes' in D['data'] and D['data']['pincodes']:\n",
        "                    for pin in D['data']['pincodes']:\n",
        "                        clm['state'].append(i)\n",
        "                        clm['year'].append(j)\n",
        "                        clm['quater'].append(int(k.strip('.json')))\n",
        "                        clm['district/pincode'].append(pin['entityName'])\n",
        "                        clm['top_transaction_count'].append(pin['metric']['count'])\n",
        "                        clm['top_transaction_amount'].append(pin['metric']['amount'])\n",
        "\n",
        "# Convert dictionary to DataFrame\n",
        "top_transaction = pd.DataFrame(clm)\n",
        "print(top_transaction)"
      ],
      "metadata": {
        "colab": {
          "base_uri": "https://localhost:8080/"
        },
        "id": "KHoO_R-G-nl5",
        "outputId": "cd557cc7-18db-44bb-95aa-1327667b36e5"
      },
      "execution_count": 72,
      "outputs": [
        {
          "output_type": "stream",
          "name": "stdout",
          "text": [
            "            state  year  quater district/pincode  top_transaction_count  \\\n",
            "0      puducherry  2020       3       puducherry                1515874   \n",
            "1      puducherry  2020       3            yanam                 105613   \n",
            "2      puducherry  2020       3         karaikal                  85556   \n",
            "3      puducherry  2020       3             mahe                  23859   \n",
            "4      puducherry  2020       3           605002                 563408   \n",
            "...           ...   ...     ...              ...                    ...   \n",
            "18290  tamil-nadu  2018       4           635126                 203970   \n",
            "18291  tamil-nadu  2018       4           641601                 183276   \n",
            "18292  tamil-nadu  2018       4           602105                 165149   \n",
            "18293  tamil-nadu  2018       4           600100                 155543   \n",
            "18294  tamil-nadu  2018       4           620001                 155412   \n",
            "\n",
            "       top_transaction_amount  \n",
            "0                3.144232e+09  \n",
            "1                2.123505e+08  \n",
            "2                2.017964e+08  \n",
            "3                3.970115e+07  \n",
            "4                1.463606e+09  \n",
            "...                       ...  \n",
            "18290            4.214194e+08  \n",
            "18291            3.526235e+08  \n",
            "18292            2.477569e+08  \n",
            "18293            2.785690e+08  \n",
            "18294            3.055017e+08  \n",
            "\n",
            "[18295 rows x 6 columns]\n"
          ]
        }
      ]
    },
    {
      "cell_type": "markdown",
      "source": [
        "## 3.3 Top_user"
      ],
      "metadata": {
        "id": "OcLUylBL7rAY"
      }
    },
    {
      "cell_type": "code",
      "source": [
        "# Define dictionary structure\n",
        "clm_user = {'state': [], 'year': [], 'quater': [], 'district/pincode': [], 'top_user_count': []}\n",
        "\n",
        "# Define the path\n",
        "top_user_path = \"/content/pulse/data/top/user/country/india/state\"\n",
        "Top_user_state_list = os.listdir(top_user_path)\n",
        "\n",
        "for i in Top_user_state_list:\n",
        "    p_i = os.path.join(top_user_path, i)\n",
        "    Top_yr = os.listdir(p_i)\n",
        "\n",
        "    for j in Top_yr:\n",
        "        p_j = os.path.join(p_i, j)\n",
        "        Top_qutr = os.listdir(p_j)\n",
        "\n",
        "        for k in Top_qutr:\n",
        "            p_k = os.path.join(p_j, k)\n",
        "\n",
        "            with open(p_k, 'r') as Data:\n",
        "                D = json.load(Data)\n",
        "\n",
        "            if D['data']:\n",
        "                # Extract district data\n",
        "                if 'districts' in D['data'] and D['data']['districts']:\n",
        "                    for dist in D['data']['districts']:\n",
        "                        clm_user['state'].append(i)\n",
        "                        clm_user['year'].append(j)\n",
        "                        clm_user['quater'].append(int(k.strip('.json')))\n",
        "                        clm_user['district/pincode'].append(dist['name'])\n",
        "                        clm_user['top_user_count'].append(dist['registeredUsers'])\n",
        "\n",
        "                # Extract pincode data\n",
        "                if 'pincodes' in D['data'] and D['data']['pincodes']:\n",
        "                    for pin in D['data']['pincodes']:\n",
        "                        clm_user['state'].append(i)\n",
        "                        clm_user['year'].append(j)\n",
        "                        clm_user['quater'].append(int(k.strip('.json')))\n",
        "                        clm_user['district/pincode'].append(pin['name'])\n",
        "                        clm_user['top_user_count'].append(pin['registeredUsers'])\n",
        "\n",
        "# Convert dictionary to DataFrame\n",
        "top_user = pd.DataFrame(clm_user)\n",
        "print(top_user)"
      ],
      "metadata": {
        "colab": {
          "base_uri": "https://localhost:8080/"
        },
        "id": "zFpT8tn49KGA",
        "outputId": "0c637711-2120-423d-c272-6b4f42302028"
      },
      "execution_count": 73,
      "outputs": [
        {
          "output_type": "stream",
          "name": "stdout",
          "text": [
            "            state  year  quater district/pincode  top_user_count\n",
            "0      puducherry  2020       3       puducherry          239707\n",
            "1      puducherry  2020       3         karaikal           26910\n",
            "2      puducherry  2020       3            yanam           11054\n",
            "3      puducherry  2020       3             mahe            7502\n",
            "4      puducherry  2020       3           605110           32402\n",
            "...           ...   ...     ...              ...             ...\n",
            "18291  tamil-nadu  2018       4           600056           34394\n",
            "18292  tamil-nadu  2018       4           635126           33327\n",
            "18293  tamil-nadu  2018       4           600119           32763\n",
            "18294  tamil-nadu  2018       4           600053           32652\n",
            "18295  tamil-nadu  2018       4           600003           31780\n",
            "\n",
            "[18296 rows x 5 columns]\n"
          ]
        }
      ]
    },
    {
      "cell_type": "markdown",
      "source": [
        "## Trying get out"
      ],
      "metadata": {
        "id": "M9AGJoISASB_"
      }
    },
    {
      "cell_type": "code",
      "source": [
        "print(top_user)\n",
        "print(top_transaction)\n",
        "print(top_insurance)\n",
        "print(map_transaction)\n",
        "print(map_user)\n",
        "print(map_insurance)\n",
        "print(aggr_user)\n",
        "print(aggr_trans)\n",
        "print(aggr_insurance)"
      ],
      "metadata": {
        "collapsed": true,
        "colab": {
          "base_uri": "https://localhost:8080/"
        },
        "id": "B1DquVLOAL9L",
        "outputId": "ffe13843-9296-48eb-a5e7-dedf4c9b8d67"
      },
      "execution_count": 74,
      "outputs": [
        {
          "output_type": "stream",
          "name": "stdout",
          "text": [
            "            state  year  quater district/pincode  top_user_count\n",
            "0      puducherry  2020       3       puducherry          239707\n",
            "1      puducherry  2020       3         karaikal           26910\n",
            "2      puducherry  2020       3            yanam           11054\n",
            "3      puducherry  2020       3             mahe            7502\n",
            "4      puducherry  2020       3           605110           32402\n",
            "...           ...   ...     ...              ...             ...\n",
            "18291  tamil-nadu  2018       4           600056           34394\n",
            "18292  tamil-nadu  2018       4           635126           33327\n",
            "18293  tamil-nadu  2018       4           600119           32763\n",
            "18294  tamil-nadu  2018       4           600053           32652\n",
            "18295  tamil-nadu  2018       4           600003           31780\n",
            "\n",
            "[18296 rows x 5 columns]\n",
            "            state  year  quater district/pincode  top_transaction_count  \\\n",
            "0      puducherry  2020       3       puducherry                1515874   \n",
            "1      puducherry  2020       3            yanam                 105613   \n",
            "2      puducherry  2020       3         karaikal                  85556   \n",
            "3      puducherry  2020       3             mahe                  23859   \n",
            "4      puducherry  2020       3           605002                 563408   \n",
            "...           ...   ...     ...              ...                    ...   \n",
            "18290  tamil-nadu  2018       4           635126                 203970   \n",
            "18291  tamil-nadu  2018       4           641601                 183276   \n",
            "18292  tamil-nadu  2018       4           602105                 165149   \n",
            "18293  tamil-nadu  2018       4           600100                 155543   \n",
            "18294  tamil-nadu  2018       4           620001                 155412   \n",
            "\n",
            "       top_transaction_amount  \n",
            "0                3.144232e+09  \n",
            "1                2.123505e+08  \n",
            "2                2.017964e+08  \n",
            "3                3.970115e+07  \n",
            "4                1.463606e+09  \n",
            "...                       ...  \n",
            "18290            4.214194e+08  \n",
            "18291            3.526235e+08  \n",
            "18292            2.477569e+08  \n",
            "18293            2.785690e+08  \n",
            "18294            3.055017e+08  \n",
            "\n",
            "[18295 rows x 6 columns]\n",
            "            state  year  quater district/pincode  top_insurance_count  \\\n",
            "0      puducherry  2020       3       puducherry                  143   \n",
            "1      puducherry  2020       3            yanam                   25   \n",
            "2      puducherry  2020       3         karaikal                   14   \n",
            "3      puducherry  2020       3             mahe                    9   \n",
            "4      puducherry  2020       3           605004                   26   \n",
            "...           ...   ...     ...              ...                  ...   \n",
            "12271  tamil-nadu  2022       4           600106                  909   \n",
            "12272  tamil-nadu  2022       4           600083                  886   \n",
            "12273  tamil-nadu  2022       4           600056                  869   \n",
            "12274  tamil-nadu  2022       4           600053                  812   \n",
            "12275  tamil-nadu  2022       4           600119                  808   \n",
            "\n",
            "       top_insurance_amount  \n",
            "0                   40754.0  \n",
            "1                    6919.0  \n",
            "2                    5445.0  \n",
            "3                    5281.0  \n",
            "4                    6761.0  \n",
            "...                     ...  \n",
            "12271              889359.0  \n",
            "12272              844984.0  \n",
            "12273              865067.0  \n",
            "12274              834462.0  \n",
            "12275             1024353.0  \n",
            "\n",
            "[12276 rows x 6 columns]\n",
            "                  state  year  quater  transaction_count  transaction_amount\n",
            "0            puducherry  2020       3            1730902        3.598080e+09\n",
            "1            tamil nadu  2020       3           70277825        1.438414e+11\n",
            "2         uttar pradesh  2020       3          127405259        2.486900e+11\n",
            "3        madhya pradesh  2020       3          108579881        2.057017e+11\n",
            "4        andhra pradesh  2020       3          204902935        4.670841e+11\n",
            "...                 ...   ...     ...                ...                 ...\n",
            "1003    jammu & kashmir  2018       4            2721310        5.664720e+09\n",
            "1004                goa  2018       4             514755        1.153005e+09\n",
            "1005  arunachal pradesh  2018       4             176429        5.040400e+08\n",
            "1006              delhi  2018       4           29187719        3.972286e+10\n",
            "1007        uttarakhand  2018       4            3178761        5.654272e+09\n",
            "\n",
            "[1008 rows x 5 columns]\n",
            "            state  year  quarter             district  registered_users  \\\n",
            "0      puducherry  2020        3    karaikal district             26910   \n",
            "1      puducherry  2020        3  puducherry district            239707   \n",
            "2      puducherry  2020        3       yanam district             11054   \n",
            "3      puducherry  2020        3        mahe district              7502   \n",
            "4      puducherry  2020        2    karaikal district             23612   \n",
            "...           ...   ...      ...                  ...               ...   \n",
            "20603  tamil-nadu  2018        4       theni district             49911   \n",
            "20604  tamil-nadu  2018        4     ranipet district             75577   \n",
            "20605  tamil-nadu  2018        4    namakkal district             94773   \n",
            "20606  tamil-nadu  2018        4     vellore district            103405   \n",
            "20607  tamil-nadu  2018        4  thiruvarur district             31566   \n",
            "\n",
            "       app_opens  \n",
            "0         303955  \n",
            "1        3437500  \n",
            "2         396823  \n",
            "3          83881  \n",
            "4         239666  \n",
            "...          ...  \n",
            "20603          0  \n",
            "20604          0  \n",
            "20605          0  \n",
            "20606          0  \n",
            "20607          0  \n",
            "\n",
            "[20608 rows x 6 columns]\n",
            "          state  year  quater       name   count       amount\n",
            "0    puducherry  2020       4  Insurance     234     197955.0\n",
            "1    puducherry  2024       4  Insurance    2838    3896033.0\n",
            "2    puducherry  2021       4  Insurance     786     946607.0\n",
            "3    puducherry  2023       4  Insurance    2447    3419395.0\n",
            "4    puducherry  2022       4  Insurance    2331    2693130.0\n",
            "..          ...   ...     ...        ...     ...          ...\n",
            "174  tamil-nadu  2020       4  Insurance   10290    8993575.0\n",
            "175  tamil-nadu  2024       4  Insurance  127002  173784251.0\n",
            "176  tamil-nadu  2021       4  Insurance   33037   42184290.0\n",
            "177  tamil-nadu  2023       4  Insurance  104871  139433796.0\n",
            "178  tamil-nadu  2022       4  Insurance  125491  146457790.0\n",
            "\n",
            "[179 rows x 6 columns]\n",
            "           state  year  quater User_Brand  User_count  User_percentage\n",
            "0     puducherry  2020       4     Xiaomi       71555         0.223871\n",
            "1     puducherry  2020       4    Samsung       63620         0.199045\n",
            "2     puducherry  2020       4       Vivo       61208         0.191499\n",
            "3     puducherry  2020       4       Oppo       33860         0.105936\n",
            "4     puducherry  2020       4     Realme       14505         0.045381\n",
            "...          ...   ...     ...        ...         ...              ...\n",
            "1579  tamil-nadu  2018       4     Lenovo      194451         0.037395\n",
            "1580  tamil-nadu  2018       4      Apple      191032         0.036738\n",
            "1581  tamil-nadu  2018       4    OnePlus      180637         0.034739\n",
            "1582  tamil-nadu  2018       4     Huawei      164880         0.031708\n",
            "1583  tamil-nadu  2018       4     Others      558850         0.107474\n",
            "\n",
            "[1584 rows x 6 columns]\n",
            "           state  year  quater          transaction_type  transaction_count  \\\n",
            "0     puducherry  2020       3     Peer-to-peer payments             855511   \n",
            "1     puducherry  2020       3         Merchant payments             560420   \n",
            "2     puducherry  2020       3  Recharge & bill payments             306852   \n",
            "3     puducherry  2020       3        Financial Services               3039   \n",
            "4     puducherry  2020       3                    Others               5080   \n",
            "...          ...   ...     ...                       ...                ...   \n",
            "5029  tamil-nadu  2018       4     Peer-to-peer payments           11538547   \n",
            "5030  tamil-nadu  2018       4  Recharge & bill payments            7093764   \n",
            "5031  tamil-nadu  2018       4         Merchant payments            3145621   \n",
            "5032  tamil-nadu  2018       4        Financial Services             228398   \n",
            "5033  tamil-nadu  2018       4                    Others             451114   \n",
            "\n",
            "      transaction_amount  \n",
            "0           3.116584e+09  \n",
            "1           3.355834e+08  \n",
            "2           1.389254e+08  \n",
            "3           4.788490e+06  \n",
            "4           2.199408e+06  \n",
            "...                  ...  \n",
            "5029        3.918008e+10  \n",
            "5030        2.020330e+09  \n",
            "5031        1.742903e+09  \n",
            "5032        4.657176e+07  \n",
            "5033        3.121857e+08  \n",
            "\n",
            "[5034 rows x 6 columns]\n",
            "          state  year  quater       name   count       amount\n",
            "0    puducherry  2020       4  Insurance     234     197955.0\n",
            "1    puducherry  2024       4  Insurance    2838    3896033.0\n",
            "2    puducherry  2021       4  Insurance     786     946607.0\n",
            "3    puducherry  2023       4  Insurance    2447    3419395.0\n",
            "4    puducherry  2022       4  Insurance    2331    2693130.0\n",
            "..          ...   ...     ...        ...     ...          ...\n",
            "174  tamil-nadu  2020       4  Insurance   10290    8993575.0\n",
            "175  tamil-nadu  2024       4  Insurance  127002  173784251.0\n",
            "176  tamil-nadu  2021       4  Insurance   33037   42184290.0\n",
            "177  tamil-nadu  2023       4  Insurance  104871  139433796.0\n",
            "178  tamil-nadu  2022       4  Insurance  125491  146457790.0\n",
            "\n",
            "[179 rows x 6 columns]\n"
          ]
        }
      ]
    },
    {
      "cell_type": "code",
      "source": [
        "print(top_user.shape)\n",
        "print(top_transaction.shape)\n",
        "print(top_insurance.shape)\n",
        "print(map_transaction.shape)\n",
        "print(map_user.shape)\n",
        "print(map_insurance.shape)\n",
        "print(aggr_user.shape)\n",
        "print(aggr_trans.shape)\n",
        "print(aggr_insurance.shape)"
      ],
      "metadata": {
        "colab": {
          "base_uri": "https://localhost:8080/"
        },
        "id": "XDXDmBD7AXsO",
        "outputId": "0aa03906-a8ad-4419-c551-eaa363cf7eff"
      },
      "execution_count": 75,
      "outputs": [
        {
          "output_type": "stream",
          "name": "stdout",
          "text": [
            "(18296, 5)\n",
            "(18295, 6)\n",
            "(12276, 6)\n",
            "(1008, 5)\n",
            "(20608, 6)\n",
            "(179, 6)\n",
            "(1584, 6)\n",
            "(5034, 6)\n",
            "(179, 6)\n"
          ]
        }
      ]
    },
    {
      "cell_type": "code",
      "source": [
        "\n",
        "top_user.to_csv('top_user.csv', index=False)\n",
        "top_transaction.to_csv('top_transaction.csv', index=False)\n",
        "top_insurance.to_csv('top_insurance.csv', index=False)\n",
        "map_transaction.to_csv('map_transaction.csv', index=False)\n",
        "map_user.to_csv('map_user.csv', index=False)\n",
        "map_insurance.to_csv('map_insurance.csv', index=False)\n",
        "aggr_user.to_csv('aggr_user.csv', index=False)\n",
        "aggr_trans.to_csv('aggr_trans.csv', index=False)\n",
        "aggr_insurance.to_csv('aggr_insurance.csv', index=False)\n"
      ],
      "metadata": {
        "id": "_1kTkkdtAgRA"
      },
      "execution_count": 76,
      "outputs": []
    },
    {
      "cell_type": "markdown",
      "source": [
        "# Data Preprocessing"
      ],
      "metadata": {
        "id": "d2W8jIKUkAJM"
      }
    },
    {
      "cell_type": "code",
      "source": [
        "tables = ([top_user, top_transaction, top_insurance, map_transaction, map_user, map_insurance, aggr_user, aggr_trans, aggr_insurance])\n",
        "\n",
        "for table in tables:\n",
        "  print(table.columns)"
      ],
      "metadata": {
        "collapsed": true,
        "colab": {
          "base_uri": "https://localhost:8080/"
        },
        "id": "iSq7Qtc0krAn",
        "outputId": "67793a04-216f-4b14-e103-5d06fd0dc7c2"
      },
      "execution_count": 77,
      "outputs": [
        {
          "output_type": "stream",
          "name": "stdout",
          "text": [
            "Index(['state', 'year', 'quater', 'district/pincode', 'top_user_count'], dtype='object')\n",
            "Index(['state', 'year', 'quater', 'district/pincode', 'top_transaction_count',\n",
            "       'top_transaction_amount'],\n",
            "      dtype='object')\n",
            "Index(['state', 'year', 'quater', 'district/pincode', 'top_insurance_count',\n",
            "       'top_insurance_amount'],\n",
            "      dtype='object')\n",
            "Index(['state', 'year', 'quater', 'transaction_count', 'transaction_amount'], dtype='object')\n",
            "Index(['state', 'year', 'quarter', 'district', 'registered_users',\n",
            "       'app_opens'],\n",
            "      dtype='object')\n",
            "Index(['state', 'year', 'quater', 'name', 'count', 'amount'], dtype='object')\n",
            "Index(['state', 'year', 'quater', 'User_Brand', 'User_count',\n",
            "       'User_percentage'],\n",
            "      dtype='object')\n",
            "Index(['state', 'year', 'quater', 'transaction_type', 'transaction_count',\n",
            "       'transaction_amount'],\n",
            "      dtype='object')\n",
            "Index(['state', 'year', 'quater', 'name', 'count', 'amount'], dtype='object')\n"
          ]
        }
      ]
    },
    {
      "cell_type": "markdown",
      "source": [
        "for table in tables:\n",
        " print(top_user.info())"
      ],
      "metadata": {
        "id": "jlgYhqJ2rDxH"
      }
    },
    {
      "cell_type": "code",
      "source": [
        "for table in tables:\n",
        "  print(table.info())"
      ],
      "metadata": {
        "collapsed": true,
        "colab": {
          "base_uri": "https://localhost:8080/"
        },
        "id": "6nQmRR7rqkXi",
        "outputId": "64952e1a-f277-4613-ae3b-a4315aebba91"
      },
      "execution_count": 78,
      "outputs": [
        {
          "output_type": "stream",
          "name": "stdout",
          "text": [
            "<class 'pandas.core.frame.DataFrame'>\n",
            "RangeIndex: 18296 entries, 0 to 18295\n",
            "Data columns (total 5 columns):\n",
            " #   Column            Non-Null Count  Dtype \n",
            "---  ------            --------------  ----- \n",
            " 0   state             18296 non-null  object\n",
            " 1   year              18296 non-null  object\n",
            " 2   quater            18296 non-null  int64 \n",
            " 3   district/pincode  18296 non-null  object\n",
            " 4   top_user_count    18296 non-null  int64 \n",
            "dtypes: int64(2), object(3)\n",
            "memory usage: 714.8+ KB\n",
            "None\n",
            "<class 'pandas.core.frame.DataFrame'>\n",
            "RangeIndex: 18295 entries, 0 to 18294\n",
            "Data columns (total 6 columns):\n",
            " #   Column                  Non-Null Count  Dtype  \n",
            "---  ------                  --------------  -----  \n",
            " 0   state                   18295 non-null  object \n",
            " 1   year                    18295 non-null  object \n",
            " 2   quater                  18295 non-null  int64  \n",
            " 3   district/pincode        18293 non-null  object \n",
            " 4   top_transaction_count   18295 non-null  int64  \n",
            " 5   top_transaction_amount  18295 non-null  float64\n",
            "dtypes: float64(1), int64(2), object(3)\n",
            "memory usage: 857.7+ KB\n",
            "None\n",
            "<class 'pandas.core.frame.DataFrame'>\n",
            "RangeIndex: 12276 entries, 0 to 12275\n",
            "Data columns (total 6 columns):\n",
            " #   Column                Non-Null Count  Dtype  \n",
            "---  ------                --------------  -----  \n",
            " 0   state                 12276 non-null  object \n",
            " 1   year                  12276 non-null  object \n",
            " 2   quater                12276 non-null  int64  \n",
            " 3   district/pincode      12273 non-null  object \n",
            " 4   top_insurance_count   12276 non-null  int64  \n",
            " 5   top_insurance_amount  12276 non-null  float64\n",
            "dtypes: float64(1), int64(2), object(3)\n",
            "memory usage: 575.6+ KB\n",
            "None\n",
            "<class 'pandas.core.frame.DataFrame'>\n",
            "RangeIndex: 1008 entries, 0 to 1007\n",
            "Data columns (total 5 columns):\n",
            " #   Column              Non-Null Count  Dtype  \n",
            "---  ------              --------------  -----  \n",
            " 0   state               1008 non-null   object \n",
            " 1   year                1008 non-null   object \n",
            " 2   quater              1008 non-null   int64  \n",
            " 3   transaction_count   1008 non-null   int64  \n",
            " 4   transaction_amount  1008 non-null   float64\n",
            "dtypes: float64(1), int64(2), object(2)\n",
            "memory usage: 39.5+ KB\n",
            "None\n",
            "<class 'pandas.core.frame.DataFrame'>\n",
            "RangeIndex: 20608 entries, 0 to 20607\n",
            "Data columns (total 6 columns):\n",
            " #   Column            Non-Null Count  Dtype \n",
            "---  ------            --------------  ----- \n",
            " 0   state             20608 non-null  object\n",
            " 1   year              20608 non-null  object\n",
            " 2   quarter           20608 non-null  int64 \n",
            " 3   district          20608 non-null  object\n",
            " 4   registered_users  20608 non-null  int64 \n",
            " 5   app_opens         20608 non-null  int64 \n",
            "dtypes: int64(3), object(3)\n",
            "memory usage: 966.1+ KB\n",
            "None\n",
            "<class 'pandas.core.frame.DataFrame'>\n",
            "RangeIndex: 179 entries, 0 to 178\n",
            "Data columns (total 6 columns):\n",
            " #   Column  Non-Null Count  Dtype  \n",
            "---  ------  --------------  -----  \n",
            " 0   state   179 non-null    object \n",
            " 1   year    179 non-null    object \n",
            " 2   quater  179 non-null    int64  \n",
            " 3   name    179 non-null    object \n",
            " 4   count   179 non-null    int64  \n",
            " 5   amount  179 non-null    float64\n",
            "dtypes: float64(1), int64(2), object(3)\n",
            "memory usage: 8.5+ KB\n",
            "None\n",
            "<class 'pandas.core.frame.DataFrame'>\n",
            "RangeIndex: 1584 entries, 0 to 1583\n",
            "Data columns (total 6 columns):\n",
            " #   Column           Non-Null Count  Dtype  \n",
            "---  ------           --------------  -----  \n",
            " 0   state            1584 non-null   object \n",
            " 1   year             1584 non-null   object \n",
            " 2   quater           1584 non-null   int64  \n",
            " 3   User_Brand       1584 non-null   object \n",
            " 4   User_count       1584 non-null   int64  \n",
            " 5   User_percentage  1584 non-null   float64\n",
            "dtypes: float64(1), int64(2), object(3)\n",
            "memory usage: 74.4+ KB\n",
            "None\n",
            "<class 'pandas.core.frame.DataFrame'>\n",
            "RangeIndex: 5034 entries, 0 to 5033\n",
            "Data columns (total 6 columns):\n",
            " #   Column              Non-Null Count  Dtype  \n",
            "---  ------              --------------  -----  \n",
            " 0   state               5034 non-null   object \n",
            " 1   year                5034 non-null   object \n",
            " 2   quater              5034 non-null   int64  \n",
            " 3   transaction_type    5034 non-null   object \n",
            " 4   transaction_count   5034 non-null   int64  \n",
            " 5   transaction_amount  5034 non-null   float64\n",
            "dtypes: float64(1), int64(2), object(3)\n",
            "memory usage: 236.1+ KB\n",
            "None\n",
            "<class 'pandas.core.frame.DataFrame'>\n",
            "RangeIndex: 179 entries, 0 to 178\n",
            "Data columns (total 6 columns):\n",
            " #   Column  Non-Null Count  Dtype  \n",
            "---  ------  --------------  -----  \n",
            " 0   state   179 non-null    object \n",
            " 1   year    179 non-null    object \n",
            " 2   quater  179 non-null    int64  \n",
            " 3   name    179 non-null    object \n",
            " 4   count   179 non-null    int64  \n",
            " 5   amount  179 non-null    float64\n",
            "dtypes: float64(1), int64(2), object(3)\n",
            "memory usage: 8.5+ KB\n",
            "None\n"
          ]
        }
      ]
    },
    {
      "cell_type": "code",
      "source": [
        "top_user.columns"
      ],
      "metadata": {
        "colab": {
          "base_uri": "https://localhost:8080/"
        },
        "id": "poUavtGDo4_i",
        "outputId": "315d131d-3733-49b2-8a10-554492156672"
      },
      "execution_count": 79,
      "outputs": [
        {
          "output_type": "execute_result",
          "data": {
            "text/plain": [
              "Index(['state', 'year', 'quater', 'district/pincode', 'top_user_count'], dtype='object')"
            ]
          },
          "metadata": {},
          "execution_count": 79
        }
      ]
    },
    {
      "cell_type": "markdown",
      "source": [
        "# EDA\n",
        "    Business Concernes\n",
        "    1. Transaction Trends & Dynamics\n",
        "    2. Device Usage & User Engagement\n",
        "    3. Insurance Penetration & Market Growth\n",
        "    4. Geographical Analysis (State/District level transactions)\n",
        "    5. User Registration & Growth Analysis"
      ],
      "metadata": {
        "id": "hiqeH_t03_y_"
      }
    },
    {
      "cell_type": "markdown",
      "source": [
        "## 1. Transaction Trends & Dynamics"
      ],
      "metadata": {
        "id": "7HvZqXxGC0_t"
      }
    },
    {
      "cell_type": "code",
      "source": [
        "print(aggr_trans.head(5))"
      ],
      "metadata": {
        "colab": {
          "base_uri": "https://localhost:8080/"
        },
        "id": "Zx0m_SX__sNf",
        "outputId": "d7bc9614-6108-43ec-98c0-24294c166ec5"
      },
      "execution_count": 124,
      "outputs": [
        {
          "output_type": "stream",
          "name": "stdout",
          "text": [
            "        state  year  quater          transaction_type  transaction_count  \\\n",
            "0  puducherry  2020       3     Peer-to-peer payments             855511   \n",
            "1  puducherry  2020       3         Merchant payments             560420   \n",
            "2  puducherry  2020       3  Recharge & bill payments             306852   \n",
            "3  puducherry  2020       3        Financial Services               3039   \n",
            "4  puducherry  2020       3                    Others               5080   \n",
            "\n",
            "   transaction_amount  \n",
            "0        3.116584e+09  \n",
            "1        3.355834e+08  \n",
            "2        1.389254e+08  \n",
            "3        4.788490e+06  \n",
            "4        2.199408e+06  \n"
          ]
        }
      ]
    },
    {
      "cell_type": "code",
      "source": [
        "print(aggr_trans.nunique())"
      ],
      "metadata": {
        "colab": {
          "base_uri": "https://localhost:8080/"
        },
        "id": "OqfnGxZXgQAM",
        "outputId": "741c761b-f061-44e5-8fa4-6ab43befb01a"
      },
      "execution_count": 125,
      "outputs": [
        {
          "output_type": "stream",
          "name": "stdout",
          "text": [
            "state                   36\n",
            "year                     7\n",
            "quater                   4\n",
            "transaction_type         5\n",
            "transaction_count     4966\n",
            "transaction_amount    5034\n",
            "dtype: int64\n"
          ]
        }
      ]
    },
    {
      "cell_type": "code",
      "source": [
        "print(aggr_trans.columns)\n"
      ],
      "metadata": {
        "collapsed": true,
        "colab": {
          "base_uri": "https://localhost:8080/"
        },
        "id": "PGvygAmJ6JfX",
        "outputId": "40c6c875-e881-45e6-a6ac-3a14dee7a294"
      },
      "execution_count": 82,
      "outputs": [
        {
          "output_type": "stream",
          "name": "stdout",
          "text": [
            "Index(['state', 'year', 'quater', 'transaction_type', 'transaction_count',\n",
            "       'transaction_amount'],\n",
            "      dtype='object')\n"
          ]
        }
      ]
    },
    {
      "cell_type": "code",
      "source": [
        "# 1. Transaction Trends & Dynamics\n",
        "\n",
        "# Grouping transaction quarter based\n",
        "aggr_trans_grouped = aggr_trans.groupby('quater')['transaction_count'].sum().reset_index()\n",
        "print(aggr_trans_grouped)"
      ],
      "metadata": {
        "colab": {
          "base_uri": "https://localhost:8080/"
        },
        "id": "sOdOHYoIwVq6",
        "outputId": "6b0268ed-0f6d-48ec-fab8-cc7129bbb01e"
      },
      "execution_count": 128,
      "outputs": [
        {
          "output_type": "stream",
          "name": "stdout",
          "text": [
            "   quater  transaction_count\n",
            "0       1        47844793678\n",
            "1       2        54659969115\n",
            "2       3        62141176425\n",
            "3       4        70638277656\n"
          ]
        }
      ]
    },
    {
      "cell_type": "code",
      "source": [
        "print(aggr_trans['year'].unique())"
      ],
      "metadata": {
        "colab": {
          "base_uri": "https://localhost:8080/"
        },
        "id": "q-F3L4sj99hg",
        "outputId": "f23b5b38-3f59-41f7-81f3-17191ebc6466"
      },
      "execution_count": 84,
      "outputs": [
        {
          "output_type": "stream",
          "name": "stdout",
          "text": [
            "['2020' '2024' '2021' '2023' '2022' '2019' '2018']\n"
          ]
        }
      ]
    },
    {
      "cell_type": "code",
      "source": [
        "print(aggr_trans['quater'].unique())"
      ],
      "metadata": {
        "colab": {
          "base_uri": "https://localhost:8080/"
        },
        "id": "aAz55f_1AteR",
        "outputId": "63808b73-cb10-426c-cf38-f5168ad42c63"
      },
      "execution_count": 85,
      "outputs": [
        {
          "output_type": "stream",
          "name": "stdout",
          "text": [
            "[3 2 1 4]\n"
          ]
        }
      ]
    },
    {
      "cell_type": "code",
      "source": [
        "aggr_trans['quater'] = pd.to_datetime(aggr_trans['quater']).dt.quarter\n",
        "aggr_trans['year'] = pd.to_datetime(aggr_trans['year']).dt.year"
      ],
      "metadata": {
        "id": "wQeAi1lC-Bi8"
      },
      "execution_count": 86,
      "outputs": []
    },
    {
      "cell_type": "code",
      "source": [
        "aggr_trans['year_quater'] = aggr_trans['year'].astype(str) + \" Q\" + aggr_trans['quater'].astype(str)\n",
        "print(aggr_trans['year_quater'].unique())"
      ],
      "metadata": {
        "colab": {
          "base_uri": "https://localhost:8080/"
        },
        "id": "yVncppcu-qaO",
        "outputId": "842dd174-568c-4264-a71d-dab829594d54"
      },
      "execution_count": 133,
      "outputs": [
        {
          "output_type": "stream",
          "name": "stdout",
          "text": [
            "['2018 Q1' '2018 Q2' '2018 Q3' '2018 Q4' '2019 Q1' '2019 Q2' '2019 Q3'\n",
            " '2019 Q4' '2020 Q1' '2020 Q2' '2020 Q3' '2020 Q4' '2021 Q1' '2021 Q2'\n",
            " '2021 Q3' '2021 Q4' '2022 Q1' '2022 Q2' '2022 Q3' '2022 Q4' '2023 Q1'\n",
            " '2023 Q2' '2023 Q3' '2023 Q4' '2024 Q1' '2024 Q2' '2024 Q3' '2024 Q4']\n"
          ]
        }
      ]
    },
    {
      "cell_type": "code",
      "source": [
        "# Sort for continuity\n",
        "aggr_trans = aggr_trans.sort_values(by=['year', 'quater'])\n",
        "\n",
        "# Plot the trend\n",
        "plt.figure(figsize=(12,6))\n",
        "sns.lineplot(data=aggr_trans, x='year_quater', y='transaction_count', marker='o', color='b')\n",
        "\n",
        "# Improve readability\n",
        "plt.title(\"PhonePe Transaction Trends Over Time\")\n",
        "plt.xlabel(\"Quarter\")\n",
        "plt.ylabel(\"Total Transactions\")\n",
        "plt.xticks(rotation=45)\n",
        "plt.grid()\n",
        "plt.show()"
      ],
      "metadata": {
        "colab": {
          "base_uri": "https://localhost:8080/",
          "height": 401
        },
        "id": "MIiqdvuT9nBA",
        "outputId": "93c80a0d-3d9e-47da-de19-e54388dbcaf3"
      },
      "execution_count": 134,
      "outputs": [
        {
          "output_type": "display_data",
          "data": {
            "text/plain": [
              "<Figure size 1200x600 with 1 Axes>"
            ],
            "image/png": "[encoded data removed]"
          },
          "metadata": {}
        }
      ]
    },
    {
      "cell_type": "code",
      "source": [
        "# plot trend\n",
        "\n",
        "plt.figure(figsize= (12,6))\n",
        "sns.lineplot(data=aggr_trans_grouped, x= 'quater', y= 'transaction_count')\n",
        "plt.title('Transaction Trends & Dynamics')\n",
        "plt.xlabel('Quater')\n",
        "plt.ylabel('Transaction Count')\n",
        "plt.xticks(rotation=45)\n",
        "plt.grid()\n",
        "plt.show()"
      ],
      "metadata": {
        "colab": {
          "base_uri": "https://localhost:8080/",
          "height": 384
        },
        "id": "pqkIyYj04-GG",
        "outputId": "74e78e6a-d027-4663-9714-644aaadae128"
      },
      "execution_count": 89,
      "outputs": [
        {
          "output_type": "display_data",
          "data": {
            "text/plain": [
              "<Figure size 1200x600 with 1 Axes>"
            ],
            "image/png": "[encoded data removed]"
          },
          "metadata": {}
        }
      ]
    },
    {
      "cell_type": "markdown",
      "source": [
        "## 2. Device Usage & User Engagement"
      ],
      "metadata": {
        "id": "PbgtkXwFCs6g"
      }
    },
    {
      "cell_type": "code",
      "source": [
        "aggr_user.nunique()"
      ],
      "metadata": {
        "colab": {
          "base_uri": "https://localhost:8080/",
          "height": 272
        },
        "id": "HosQZidnDS2H",
        "outputId": "b7d2bebf-4dfe-42ab-d3b2-124df45d7ef3"
      },
      "execution_count": 90,
      "outputs": [
        {
          "output_type": "execute_result",
          "data": {
            "text/plain": [
              "state                36\n",
              "year                  4\n",
              "quater                1\n",
              "User_Brand           18\n",
              "User_count         1576\n",
              "User_percentage    1584\n",
              "dtype: int64"
            ],
            "text/html": [
              "<div>\n",
              "<style scoped>\n",
              "    .dataframe tbody tr th:only-of-type {\n",
              "        vertical-align: middle;\n",
              "    }\n",
              "\n",
              "    .dataframe tbody tr th {\n",
              "        vertical-align: top;\n",
              "    }\n",
              "\n",
              "    .dataframe thead th {\n",
              "        text-align: right;\n",
              "    }\n",
              "</style>\n",
              "<table border=\"1\" class=\"dataframe\">\n",
              "  <thead>\n",
              "    <tr style=\"text-align: right;\">\n",
              "      <th></th>\n",
              "      <th>0</th>\n",
              "    </tr>\n",
              "  </thead>\n",
              "  <tbody>\n",
              "    <tr>\n",
              "      <th>state</th>\n",
              "      <td>36</td>\n",
              "    </tr>\n",
              "    <tr>\n",
              "      <th>year</th>\n",
              "      <td>4</td>\n",
              "    </tr>\n",
              "    <tr>\n",
              "      <th>quater</th>\n",
              "      <td>1</td>\n",
              "    </tr>\n",
              "    <tr>\n",
              "      <th>User_Brand</th>\n",
              "      <td>18</td>\n",
              "    </tr>\n",
              "    <tr>\n",
              "      <th>User_count</th>\n",
              "      <td>1576</td>\n",
              "    </tr>\n",
              "    <tr>\n",
              "      <th>User_percentage</th>\n",
              "      <td>1584</td>\n",
              "    </tr>\n",
              "  </tbody>\n",
              "</table>\n",
              "</div><br><label><b>dtype:</b> int64</label>"
            ]
          },
          "metadata": {},
          "execution_count": 90
        }
      ]
    },
    {
      "cell_type": "code",
      "source": [
        "aggr_user.rename(columns=lambda x: x.strip(), inplace=True)"
      ],
      "metadata": {
        "id": "QyHfNne1Gj4Z"
      },
      "execution_count": 91,
      "outputs": []
    },
    {
      "cell_type": "code",
      "source": [
        "print(aggr_user.columns)"
      ],
      "metadata": {
        "colab": {
          "base_uri": "https://localhost:8080/"
        },
        "id": "jYn3BWxDGnGX",
        "outputId": "84245fa7-c492-4e39-d3ae-509fe0b34efa"
      },
      "execution_count": 92,
      "outputs": [
        {
          "output_type": "stream",
          "name": "stdout",
          "text": [
            "Index(['state', 'year', 'quater', 'User_Brand', 'User_count',\n",
            "       'User_percentage'],\n",
            "      dtype='object')\n"
          ]
        }
      ]
    },
    {
      "cell_type": "code",
      "source": [
        "aggr_user.head(5)"
      ],
      "metadata": {
        "colab": {
          "base_uri": "https://localhost:8080/",
          "height": 206
        },
        "id": "UdzNlnZ-Dkr4",
        "outputId": "71a6bb8e-36a6-41ef-8615-79df5a7170c5"
      },
      "execution_count": 93,
      "outputs": [
        {
          "output_type": "execute_result",
          "data": {
            "text/plain": [
              "        state  year  quater User_Brand  User_count  User_percentage\n",
              "0  puducherry  2020       4     Xiaomi       71555         0.223871\n",
              "1  puducherry  2020       4    Samsung       63620         0.199045\n",
              "2  puducherry  2020       4       Vivo       61208         0.191499\n",
              "3  puducherry  2020       4       Oppo       33860         0.105936\n",
              "4  puducherry  2020       4     Realme       14505         0.045381"
            ],
            "text/html": [
              "\n",
              "  <div id=\"df-223f91ca-ba4d-481d-b142-6564dac13b40\" class=\"colab-df-container\">\n",
              "    <div>\n",
              "<style scoped>\n",
              "    .dataframe tbody tr th:only-of-type {\n",
              "        vertical-align: middle;\n",
              "    }\n",
              "\n",
              "    .dataframe tbody tr th {\n",
              "        vertical-align: top;\n",
              "    }\n",
              "\n",
              "    .dataframe thead th {\n",
              "        text-align: right;\n",
              "    }\n",
              "</style>\n",
              "<table border=\"1\" class=\"dataframe\">\n",
              "  <thead>\n",
              "    <tr style=\"text-align: right;\">\n",
              "      <th></th>\n",
              "      <th>state</th>\n",
              "      <th>year</th>\n",
              "      <th>quater</th>\n",
              "      <th>User_Brand</th>\n",
              "      <th>User_count</th>\n",
              "      <th>User_percentage</th>\n",
              "    </tr>\n",
              "  </thead>\n",
              "  <tbody>\n",
              "    <tr>\n",
              "      <th>0</th>\n",
              "      <td>puducherry</td>\n",
              "      <td>2020</td>\n",
              "      <td>4</td>\n",
              "      <td>Xiaomi</td>\n",
              "      <td>71555</td>\n",
              "      <td>0.223871</td>\n",
              "    </tr>\n",
              "    <tr>\n",
              "      <th>1</th>\n",
              "      <td>puducherry</td>\n",
              "      <td>2020</td>\n",
              "      <td>4</td>\n",
              "      <td>Samsung</td>\n",
              "      <td>63620</td>\n",
              "      <td>0.199045</td>\n",
              "    </tr>\n",
              "    <tr>\n",
              "      <th>2</th>\n",
              "      <td>puducherry</td>\n",
              "      <td>2020</td>\n",
              "      <td>4</td>\n",
              "      <td>Vivo</td>\n",
              "      <td>61208</td>\n",
              "      <td>0.191499</td>\n",
              "    </tr>\n",
              "    <tr>\n",
              "      <th>3</th>\n",
              "      <td>puducherry</td>\n",
              "      <td>2020</td>\n",
              "      <td>4</td>\n",
              "      <td>Oppo</td>\n",
              "      <td>33860</td>\n",
              "      <td>0.105936</td>\n",
              "    </tr>\n",
              "    <tr>\n",
              "      <th>4</th>\n",
              "      <td>puducherry</td>\n",
              "      <td>2020</td>\n",
              "      <td>4</td>\n",
              "      <td>Realme</td>\n",
              "      <td>14505</td>\n",
              "      <td>0.045381</td>\n",
              "    </tr>\n",
              "  </tbody>\n",
              "</table>\n",
              "</div>\n",
              "    <div class=\"colab-df-buttons\">\n",
              "\n",
              "  <div class=\"colab-df-container\">\n",
              "    <button class=\"colab-df-convert\" onclick=\"convertToInteractive('df-223f91ca-ba4d-481d-b142-6564dac13b40')\"\n",
              "            title=\"Convert this dataframe to an interactive table.\"\n",
              "            style=\"display:none;\">\n",
              "\n",
              "  <svg xmlns=\"http://www.w3.org/2000/svg\" height=\"24px\" viewBox=\"0 -960 960 960\">\n",
              "    <path d=\"M120-120v-720h720v720H120Zm60-500h600v-160H180v160Zm220 220h160v-160H400v160Zm0 220h160v-160H400v160ZM180-400h160v-160H180v160Zm440 0h160v-160H620v160ZM180-180h160v-160H180v160Zm440 0h160v-160H620v160Z\"/>\n",
              "  </svg>\n",
              "    </button>\n",
              "\n",
              "  <style>\n",
              "    .colab-df-container {\n",
              "      display:flex;\n",
              "      gap: 12px;\n",
              "    }\n",
              "\n",
              "    .colab-df-convert {\n",
              "      background-color: #E8F0FE;\n",
              "      border: none;\n",
              "      border-radius: 50%;\n",
              "      cursor: pointer;\n",
              "      display: none;\n",
              "      fill: #1967D2;\n",
              "      height: 32px;\n",
              "      padding: 0 0 0 0;\n",
              "      width: 32px;\n",
              "    }\n",
              "\n",
              "    .colab-df-convert:hover {\n",
              "      background-color: #E2EBFA;\n",
              "      box-shadow: 0px 1px 2px rgba(60, 64, 67, 0.3), 0px 1px 3px 1px rgba(60, 64, 67, 0.15);\n",
              "      fill: #174EA6;\n",
              "    }\n",
              "\n",
              "    .colab-df-buttons div {\n",
              "      margin-bottom: 4px;\n",
              "    }\n",
              "\n",
              "    [theme=dark] .colab-df-convert {\n",
              "      background-color: #3B4455;\n",
              "      fill: #D2E3FC;\n",
              "    }\n",
              "\n",
              "    [theme=dark] .colab-df-convert:hover {\n",
              "      background-color: #434B5C;\n",
              "      box-shadow: 0px 1px 3px 1px rgba(0, 0, 0, 0.15);\n",
              "      filter: drop-shadow(0px 1px 2px rgba(0, 0, 0, 0.3));\n",
              "      fill: #FFFFFF;\n",
              "    }\n",
              "  </style>\n",
              "\n",
              "    <script>\n",
              "      const buttonEl =\n",
              "        document.querySelector('#df-223f91ca-ba4d-481d-b142-6564dac13b40 button.colab-df-convert');\n",
              "      buttonEl.style.display =\n",
              "        google.colab.kernel.accessAllowed ? 'block' : 'none';\n",
              "\n",
              "      async function convertToInteractive(key) {\n",
              "        const element = document.querySelector('#df-223f91ca-ba4d-481d-b142-6564dac13b40');\n",
              "        const dataTable =\n",
              "          await google.colab.kernel.invokeFunction('convertToInteractive',\n",
              "                                                    [key], {});\n",
              "        if (!dataTable) return;\n",
              "\n",
              "        const docLinkHtml = 'Like what you see? Visit the ' +\n",
              "          '<a target=\"_blank\" href=https://colab.research.google.com/notebooks/data_table.ipynb>data table notebook</a>'\n",
              "          + ' to learn more about interactive tables.';\n",
              "        element.innerHTML = '';\n",
              "        dataTable['output_type'] = 'display_data';\n",
              "        await google.colab.output.renderOutput(dataTable, element);\n",
              "        const docLink = document.createElement('div');\n",
              "        docLink.innerHTML = docLinkHtml;\n",
              "        element.appendChild(docLink);\n",
              "      }\n",
              "    </script>\n",
              "  </div>\n",
              "\n",
              "\n",
              "<div id=\"df-303d515d-ed5e-4e0f-9503-0f004c45b757\">\n",
              "  <button class=\"colab-df-quickchart\" onclick=\"quickchart('df-303d515d-ed5e-4e0f-9503-0f004c45b757')\"\n",
              "            title=\"Suggest charts\"\n",
              "            style=\"display:none;\">\n",
              "\n",
              "<svg xmlns=\"http://www.w3.org/2000/svg\" height=\"24px\"viewBox=\"0 0 24 24\"\n",
              "     width=\"24px\">\n",
              "    <g>\n",
              "        <path d=\"M19 3H5c-1.1 0-2 .9-2 2v14c0 1.1.9 2 2 2h14c1.1 0 2-.9 2-2V5c0-1.1-.9-2-2-2zM9 17H7v-7h2v7zm4 0h-2V7h2v10zm4 0h-2v-4h2v4z\"/>\n",
              "    </g>\n",
              "</svg>\n",
              "  </button>\n",
              "\n",
              "<style>\n",
              "  .colab-df-quickchart {\n",
              "      --bg-color: #E8F0FE;\n",
              "      --fill-color: #1967D2;\n",
              "      --hover-bg-color: #E2EBFA;\n",
              "      --hover-fill-color: #174EA6;\n",
              "      --disabled-fill-color: #AAA;\n",
              "      --disabled-bg-color: #DDD;\n",
              "  }\n",
              "\n",
              "  [theme=dark] .colab-df-quickchart {\n",
              "      --bg-color: #3B4455;\n",
              "      --fill-color: #D2E3FC;\n",
              "      --hover-bg-color: #434B5C;\n",
              "      --hover-fill-color: #FFFFFF;\n",
              "      --disabled-bg-color: #3B4455;\n",
              "      --disabled-fill-color: #666;\n",
              "  }\n",
              "\n",
              "  .colab-df-quickchart {\n",
              "    background-color: var(--bg-color);\n",
              "    border: none;\n",
              "    border-radius: 50%;\n",
              "    cursor: pointer;\n",
              "    display: none;\n",
              "    fill: var(--fill-color);\n",
              "    height: 32px;\n",
              "    padding: 0;\n",
              "    width: 32px;\n",
              "  }\n",
              "\n",
              "  .colab-df-quickchart:hover {\n",
              "    background-color: var(--hover-bg-color);\n",
              "    box-shadow: 0 1px 2px rgba(60, 64, 67, 0.3), 0 1px 3px 1px rgba(60, 64, 67, 0.15);\n",
              "    fill: var(--button-hover-fill-color);\n",
              "  }\n",
              "\n",
              "  .colab-df-quickchart-complete:disabled,\n",
              "  .colab-df-quickchart-complete:disabled:hover {\n",
              "    background-color: var(--disabled-bg-color);\n",
              "    fill: var(--disabled-fill-color);\n",
              "    box-shadow: none;\n",
              "  }\n",
              "\n",
              "  .colab-df-spinner {\n",
              "    border: 2px solid var(--fill-color);\n",
              "    border-color: transparent;\n",
              "    border-bottom-color: var(--fill-color);\n",
              "    animation:\n",
              "      spin 1s steps(1) infinite;\n",
              "  }\n",
              "\n",
              "  @keyframes spin {\n",
              "    0% {\n",
              "      border-color: transparent;\n",
              "      border-bottom-color: var(--fill-color);\n",
              "      border-left-color: var(--fill-color);\n",
              "    }\n",
              "    20% {\n",
              "      border-color: transparent;\n",
              "      border-left-color: var(--fill-color);\n",
              "      border-top-color: var(--fill-color);\n",
              "    }\n",
              "    30% {\n",
              "      border-color: transparent;\n",
              "      border-left-color: var(--fill-color);\n",
              "      border-top-color: var(--fill-color);\n",
              "      border-right-color: var(--fill-color);\n",
              "    }\n",
              "    40% {\n",
              "      border-color: transparent;\n",
              "      border-right-color: var(--fill-color);\n",
              "      border-top-color: var(--fill-color);\n",
              "    }\n",
              "    60% {\n",
              "      border-color: transparent;\n",
              "      border-right-color: var(--fill-color);\n",
              "    }\n",
              "    80% {\n",
              "      border-color: transparent;\n",
              "      border-right-color: var(--fill-color);\n",
              "      border-bottom-color: var(--fill-color);\n",
              "    }\n",
              "    90% {\n",
              "      border-color: transparent;\n",
              "      border-bottom-color: var(--fill-color);\n",
              "    }\n",
              "  }\n",
              "</style>\n",
              "\n",
              "  <script>\n",
              "    async function quickchart(key) {\n",
              "      const quickchartButtonEl =\n",
              "        document.querySelector('#' + key + ' button');\n",
              "      quickchartButtonEl.disabled = true;  // To prevent multiple clicks.\n",
              "      quickchartButtonEl.classList.add('colab-df-spinner');\n",
              "      try {\n",
              "        const charts = await google.colab.kernel.invokeFunction(\n",
              "            'suggestCharts', [key], {});\n",
              "      } catch (error) {\n",
              "        console.error('Error during call to suggestCharts:', error);\n",
              "      }\n",
              "      quickchartButtonEl.classList.remove('colab-df-spinner');\n",
              "      quickchartButtonEl.classList.add('colab-df-quickchart-complete');\n",
              "    }\n",
              "    (() => {\n",
              "      let quickchartButtonEl =\n",
              "        document.querySelector('#df-303d515d-ed5e-4e0f-9503-0f004c45b757 button');\n",
              "      quickchartButtonEl.style.display =\n",
              "        google.colab.kernel.accessAllowed ? 'block' : 'none';\n",
              "    })();\n",
              "  </script>\n",
              "</div>\n",
              "\n",
              "    </div>\n",
              "  </div>\n"
            ],
            "application/vnd.google.colaboratory.intrinsic+json": {
              "type": "dataframe",
              "variable_name": "aggr_user",
              "summary": "{\n  \"name\": \"aggr_user\",\n  \"rows\": 1584,\n  \"fields\": [\n    {\n      \"column\": \"state\",\n      \"properties\": {\n        \"dtype\": \"category\",\n        \"num_unique_values\": 36,\n        \"samples\": [\n          \"tamil-nadu\",\n          \"tripura\",\n          \"kerala\"\n        ],\n        \"semantic_type\": \"\",\n        \"description\": \"\"\n      }\n    },\n    {\n      \"column\": \"year\",\n      \"properties\": {\n        \"dtype\": \"object\",\n        \"num_unique_values\": 4,\n        \"samples\": [\n          \"2021\",\n          \"2018\",\n          \"2020\"\n        ],\n        \"semantic_type\": \"\",\n        \"description\": \"\"\n      }\n    },\n    {\n      \"column\": \"quater\",\n      \"properties\": {\n        \"dtype\": \"number\",\n        \"std\": 0,\n        \"min\": 4,\n        \"max\": 4,\n        \"num_unique_values\": 1,\n        \"samples\": [\n          4\n        ],\n        \"semantic_type\": \"\",\n        \"description\": \"\"\n      }\n    },\n    {\n      \"column\": \"User_Brand\",\n      \"properties\": {\n        \"dtype\": \"category\",\n        \"num_unique_values\": 18,\n        \"samples\": [\n          \"Xiaomi\"\n        ],\n        \"semantic_type\": \"\",\n        \"description\": \"\"\n      }\n    },\n    {\n      \"column\": \"User_count\",\n      \"properties\": {\n        \"dtype\": \"number\",\n        \"std\": 1148384,\n        \"min\": 18,\n        \"max\": 10876133,\n        \"num_unique_values\": 1576,\n        \"samples\": [\n          898426\n        ],\n        \"semantic_type\": \"\",\n        \"description\": \"\"\n      }\n    },\n    {\n      \"column\": \"User_percentage\",\n      \"properties\": {\n        \"dtype\": \"number\",\n        \"std\": 0.08397893696457383,\n        \"min\": 0.005157540461996163,\n        \"max\": 0.47707880265399694,\n        \"num_unique_values\": 1584,\n        \"samples\": [\n          0.018026932839994837\n        ],\n        \"semantic_type\": \"\",\n        \"description\": \"\"\n      }\n    }\n  ]\n}"
            }
          },
          "metadata": {},
          "execution_count": 93
        }
      ]
    },
    {
      "cell_type": "code",
      "source": [
        "col = aggr_user.columns\n",
        "print(col)"
      ],
      "metadata": {
        "colab": {
          "base_uri": "https://localhost:8080/"
        },
        "id": "KJe7-3qeHEaz",
        "outputId": "418a9c1b-d885-45fd-d3ac-08792c5caf37"
      },
      "execution_count": 94,
      "outputs": [
        {
          "output_type": "stream",
          "name": "stdout",
          "text": [
            "Index(['state', 'year', 'quater', 'User_Brand', 'User_count',\n",
            "       'User_percentage'],\n",
            "      dtype='object')\n"
          ]
        }
      ]
    },
    {
      "cell_type": "code",
      "source": [
        "corrected_column_name = [col for col in aggr_user.columns if \"user\" in col.lower() and \"brand\" in col.lower()]\n",
        "print(\"Corrected column name:\", corrected_column_name)"
      ],
      "metadata": {
        "colab": {
          "base_uri": "https://localhost:8080/"
        },
        "id": "pQfpoZ6FHOcN",
        "outputId": "7a3cebb9-e33d-4efd-b7a1-18dc34d8ef6a"
      },
      "execution_count": 95,
      "outputs": [
        {
          "output_type": "stream",
          "name": "stdout",
          "text": [
            "Corrected column name: ['User_Brand']\n"
          ]
        }
      ]
    },
    {
      "cell_type": "code",
      "source": [
        "device_usage = aggr_user.groupby(corrected_column_name[0])[['User_count', 'User_percentage']].sum().reset_index()\n",
        "print (device_usage)"
      ],
      "metadata": {
        "colab": {
          "base_uri": "https://localhost:8080/"
        },
        "id": "T6KqgZ_sHZow",
        "outputId": "ca8a62a9-8502-48d9-ebec-65eb8b9910c0"
      },
      "execution_count": 96,
      "outputs": [
        {
          "output_type": "stream",
          "name": "stdout",
          "text": [
            "    User_Brand  User_count  User_percentage\n",
            "0        Apple    24531502         4.204404\n",
            "1         Asus     1052599         0.387832\n",
            "2       Gionee      717411         0.450689\n",
            "3   HMD Global      191869         0.089827\n",
            "4       Huawei    14731750         2.549781\n",
            "5      Infinix     1595413         0.117918\n",
            "6         Lava      401511         0.097134\n",
            "7       Lenovo    10279373         1.725200\n",
            "8     Micromax     2801001         0.742374\n",
            "9     Motorola    18648464         2.802456\n",
            "10     OnePlus    16264161         2.460689\n",
            "11        Oppo   109689555        17.037473\n",
            "12      Others    71683490        12.499098\n",
            "13      Realme    58451904         8.793489\n",
            "14     Samsung   172858674        27.475375\n",
            "15       Tecno     3439980         0.272022\n",
            "16        Vivo   164104226        24.689494\n",
            "17      Xiaomi   224527851        37.604745\n"
          ]
        }
      ]
    },
    {
      "cell_type": "code",
      "source": [
        "aggr_user.head(5)"
      ],
      "metadata": {
        "colab": {
          "base_uri": "https://localhost:8080/",
          "height": 206
        },
        "id": "IBLDhdWeHbUY",
        "outputId": "103fa0ea-7e61-4ef5-d111-d4a6df9ea0ca"
      },
      "execution_count": 97,
      "outputs": [
        {
          "output_type": "execute_result",
          "data": {
            "text/plain": [
              "        state  year  quater User_Brand  User_count  User_percentage\n",
              "0  puducherry  2020       4     Xiaomi       71555         0.223871\n",
              "1  puducherry  2020       4    Samsung       63620         0.199045\n",
              "2  puducherry  2020       4       Vivo       61208         0.191499\n",
              "3  puducherry  2020       4       Oppo       33860         0.105936\n",
              "4  puducherry  2020       4     Realme       14505         0.045381"
            ],
            "text/html": [
              "\n",
              "  <div id=\"df-9a4ad212-c559-48d7-98f2-4ac60148bdcf\" class=\"colab-df-container\">\n",
              "    <div>\n",
              "<style scoped>\n",
              "    .dataframe tbody tr th:only-of-type {\n",
              "        vertical-align: middle;\n",
              "    }\n",
              "\n",
              "    .dataframe tbody tr th {\n",
              "        vertical-align: top;\n",
              "    }\n",
              "\n",
              "    .dataframe thead th {\n",
              "        text-align: right;\n",
              "    }\n",
              "</style>\n",
              "<table border=\"1\" class=\"dataframe\">\n",
              "  <thead>\n",
              "    <tr style=\"text-align: right;\">\n",
              "      <th></th>\n",
              "      <th>state</th>\n",
              "      <th>year</th>\n",
              "      <th>quater</th>\n",
              "      <th>User_Brand</th>\n",
              "      <th>User_count</th>\n",
              "      <th>User_percentage</th>\n",
              "    </tr>\n",
              "  </thead>\n",
              "  <tbody>\n",
              "    <tr>\n",
              "      <th>0</th>\n",
              "      <td>puducherry</td>\n",
              "      <td>2020</td>\n",
              "      <td>4</td>\n",
              "      <td>Xiaomi</td>\n",
              "      <td>71555</td>\n",
              "      <td>0.223871</td>\n",
              "    </tr>\n",
              "    <tr>\n",
              "      <th>1</th>\n",
              "      <td>puducherry</td>\n",
              "      <td>2020</td>\n",
              "      <td>4</td>\n",
              "      <td>Samsung</td>\n",
              "      <td>63620</td>\n",
              "      <td>0.199045</td>\n",
              "    </tr>\n",
              "    <tr>\n",
              "      <th>2</th>\n",
              "      <td>puducherry</td>\n",
              "      <td>2020</td>\n",
              "      <td>4</td>\n",
              "      <td>Vivo</td>\n",
              "      <td>61208</td>\n",
              "      <td>0.191499</td>\n",
              "    </tr>\n",
              "    <tr>\n",
              "      <th>3</th>\n",
              "      <td>puducherry</td>\n",
              "      <td>2020</td>\n",
              "      <td>4</td>\n",
              "      <td>Oppo</td>\n",
              "      <td>33860</td>\n",
              "      <td>0.105936</td>\n",
              "    </tr>\n",
              "    <tr>\n",
              "      <th>4</th>\n",
              "      <td>puducherry</td>\n",
              "      <td>2020</td>\n",
              "      <td>4</td>\n",
              "      <td>Realme</td>\n",
              "      <td>14505</td>\n",
              "      <td>0.045381</td>\n",
              "    </tr>\n",
              "  </tbody>\n",
              "</table>\n",
              "</div>\n",
              "    <div class=\"colab-df-buttons\">\n",
              "\n",
              "  <div class=\"colab-df-container\">\n",
              "    <button class=\"colab-df-convert\" onclick=\"convertToInteractive('df-9a4ad212-c559-48d7-98f2-4ac60148bdcf')\"\n",
              "            title=\"Convert this dataframe to an interactive table.\"\n",
              "            style=\"display:none;\">\n",
              "\n",
              "  <svg xmlns=\"http://www.w3.org/2000/svg\" height=\"24px\" viewBox=\"0 -960 960 960\">\n",
              "    <path d=\"M120-120v-720h720v720H120Zm60-500h600v-160H180v160Zm220 220h160v-160H400v160Zm0 220h160v-160H400v160ZM180-400h160v-160H180v160Zm440 0h160v-160H620v160ZM180-180h160v-160H180v160Zm440 0h160v-160H620v160Z\"/>\n",
              "  </svg>\n",
              "    </button>\n",
              "\n",
              "  <style>\n",
              "    .colab-df-container {\n",
              "      display:flex;\n",
              "      gap: 12px;\n",
              "    }\n",
              "\n",
              "    .colab-df-convert {\n",
              "      background-color: #E8F0FE;\n",
              "      border: none;\n",
              "      border-radius: 50%;\n",
              "      cursor: pointer;\n",
              "      display: none;\n",
              "      fill: #1967D2;\n",
              "      height: 32px;\n",
              "      padding: 0 0 0 0;\n",
              "      width: 32px;\n",
              "    }\n",
              "\n",
              "    .colab-df-convert:hover {\n",
              "      background-color: #E2EBFA;\n",
              "      box-shadow: 0px 1px 2px rgba(60, 64, 67, 0.3), 0px 1px 3px 1px rgba(60, 64, 67, 0.15);\n",
              "      fill: #174EA6;\n",
              "    }\n",
              "\n",
              "    .colab-df-buttons div {\n",
              "      margin-bottom: 4px;\n",
              "    }\n",
              "\n",
              "    [theme=dark] .colab-df-convert {\n",
              "      background-color: #3B4455;\n",
              "      fill: #D2E3FC;\n",
              "    }\n",
              "\n",
              "    [theme=dark] .colab-df-convert:hover {\n",
              "      background-color: #434B5C;\n",
              "      box-shadow: 0px 1px 3px 1px rgba(0, 0, 0, 0.15);\n",
              "      filter: drop-shadow(0px 1px 2px rgba(0, 0, 0, 0.3));\n",
              "      fill: #FFFFFF;\n",
              "    }\n",
              "  </style>\n",
              "\n",
              "    <script>\n",
              "      const buttonEl =\n",
              "        document.querySelector('#df-9a4ad212-c559-48d7-98f2-4ac60148bdcf button.colab-df-convert');\n",
              "      buttonEl.style.display =\n",
              "        google.colab.kernel.accessAllowed ? 'block' : 'none';\n",
              "\n",
              "      async function convertToInteractive(key) {\n",
              "        const element = document.querySelector('#df-9a4ad212-c559-48d7-98f2-4ac60148bdcf');\n",
              "        const dataTable =\n",
              "          await google.colab.kernel.invokeFunction('convertToInteractive',\n",
              "                                                    [key], {});\n",
              "        if (!dataTable) return;\n",
              "\n",
              "        const docLinkHtml = 'Like what you see? Visit the ' +\n",
              "          '<a target=\"_blank\" href=https://colab.research.google.com/notebooks/data_table.ipynb>data table notebook</a>'\n",
              "          + ' to learn more about interactive tables.';\n",
              "        element.innerHTML = '';\n",
              "        dataTable['output_type'] = 'display_data';\n",
              "        await google.colab.output.renderOutput(dataTable, element);\n",
              "        const docLink = document.createElement('div');\n",
              "        docLink.innerHTML = docLinkHtml;\n",
              "        element.appendChild(docLink);\n",
              "      }\n",
              "    </script>\n",
              "  </div>\n",
              "\n",
              "\n",
              "<div id=\"df-1d40fef9-dd51-4311-b797-e6eb6c40aa10\">\n",
              "  <button class=\"colab-df-quickchart\" onclick=\"quickchart('df-1d40fef9-dd51-4311-b797-e6eb6c40aa10')\"\n",
              "            title=\"Suggest charts\"\n",
              "            style=\"display:none;\">\n",
              "\n",
              "<svg xmlns=\"http://www.w3.org/2000/svg\" height=\"24px\"viewBox=\"0 0 24 24\"\n",
              "     width=\"24px\">\n",
              "    <g>\n",
              "        <path d=\"M19 3H5c-1.1 0-2 .9-2 2v14c0 1.1.9 2 2 2h14c1.1 0 2-.9 2-2V5c0-1.1-.9-2-2-2zM9 17H7v-7h2v7zm4 0h-2V7h2v10zm4 0h-2v-4h2v4z\"/>\n",
              "    </g>\n",
              "</svg>\n",
              "  </button>\n",
              "\n",
              "<style>\n",
              "  .colab-df-quickchart {\n",
              "      --bg-color: #E8F0FE;\n",
              "      --fill-color: #1967D2;\n",
              "      --hover-bg-color: #E2EBFA;\n",
              "      --hover-fill-color: #174EA6;\n",
              "      --disabled-fill-color: #AAA;\n",
              "      --disabled-bg-color: #DDD;\n",
              "  }\n",
              "\n",
              "  [theme=dark] .colab-df-quickchart {\n",
              "      --bg-color: #3B4455;\n",
              "      --fill-color: #D2E3FC;\n",
              "      --hover-bg-color: #434B5C;\n",
              "      --hover-fill-color: #FFFFFF;\n",
              "      --disabled-bg-color: #3B4455;\n",
              "      --disabled-fill-color: #666;\n",
              "  }\n",
              "\n",
              "  .colab-df-quickchart {\n",
              "    background-color: var(--bg-color);\n",
              "    border: none;\n",
              "    border-radius: 50%;\n",
              "    cursor: pointer;\n",
              "    display: none;\n",
              "    fill: var(--fill-color);\n",
              "    height: 32px;\n",
              "    padding: 0;\n",
              "    width: 32px;\n",
              "  }\n",
              "\n",
              "  .colab-df-quickchart:hover {\n",
              "    background-color: var(--hover-bg-color);\n",
              "    box-shadow: 0 1px 2px rgba(60, 64, 67, 0.3), 0 1px 3px 1px rgba(60, 64, 67, 0.15);\n",
              "    fill: var(--button-hover-fill-color);\n",
              "  }\n",
              "\n",
              "  .colab-df-quickchart-complete:disabled,\n",
              "  .colab-df-quickchart-complete:disabled:hover {\n",
              "    background-color: var(--disabled-bg-color);\n",
              "    fill: var(--disabled-fill-color);\n",
              "    box-shadow: none;\n",
              "  }\n",
              "\n",
              "  .colab-df-spinner {\n",
              "    border: 2px solid var(--fill-color);\n",
              "    border-color: transparent;\n",
              "    border-bottom-color: var(--fill-color);\n",
              "    animation:\n",
              "      spin 1s steps(1) infinite;\n",
              "  }\n",
              "\n",
              "  @keyframes spin {\n",
              "    0% {\n",
              "      border-color: transparent;\n",
              "      border-bottom-color: var(--fill-color);\n",
              "      border-left-color: var(--fill-color);\n",
              "    }\n",
              "    20% {\n",
              "      border-color: transparent;\n",
              "      border-left-color: var(--fill-color);\n",
              "      border-top-color: var(--fill-color);\n",
              "    }\n",
              "    30% {\n",
              "      border-color: transparent;\n",
              "      border-left-color: var(--fill-color);\n",
              "      border-top-color: var(--fill-color);\n",
              "      border-right-color: var(--fill-color);\n",
              "    }\n",
              "    40% {\n",
              "      border-color: transparent;\n",
              "      border-right-color: var(--fill-color);\n",
              "      border-top-color: var(--fill-color);\n",
              "    }\n",
              "    60% {\n",
              "      border-color: transparent;\n",
              "      border-right-color: var(--fill-color);\n",
              "    }\n",
              "    80% {\n",
              "      border-color: transparent;\n",
              "      border-right-color: var(--fill-color);\n",
              "      border-bottom-color: var(--fill-color);\n",
              "    }\n",
              "    90% {\n",
              "      border-color: transparent;\n",
              "      border-bottom-color: var(--fill-color);\n",
              "    }\n",
              "  }\n",
              "</style>\n",
              "\n",
              "  <script>\n",
              "    async function quickchart(key) {\n",
              "      const quickchartButtonEl =\n",
              "        document.querySelector('#' + key + ' button');\n",
              "      quickchartButtonEl.disabled = true;  // To prevent multiple clicks.\n",
              "      quickchartButtonEl.classList.add('colab-df-spinner');\n",
              "      try {\n",
              "        const charts = await google.colab.kernel.invokeFunction(\n",
              "            'suggestCharts', [key], {});\n",
              "      } catch (error) {\n",
              "        console.error('Error during call to suggestCharts:', error);\n",
              "      }\n",
              "      quickchartButtonEl.classList.remove('colab-df-spinner');\n",
              "      quickchartButtonEl.classList.add('colab-df-quickchart-complete');\n",
              "    }\n",
              "    (() => {\n",
              "      let quickchartButtonEl =\n",
              "        document.querySelector('#df-1d40fef9-dd51-4311-b797-e6eb6c40aa10 button');\n",
              "      quickchartButtonEl.style.display =\n",
              "        google.colab.kernel.accessAllowed ? 'block' : 'none';\n",
              "    })();\n",
              "  </script>\n",
              "</div>\n",
              "\n",
              "    </div>\n",
              "  </div>\n"
            ],
            "application/vnd.google.colaboratory.intrinsic+json": {
              "type": "dataframe",
              "variable_name": "aggr_user",
              "summary": "{\n  \"name\": \"aggr_user\",\n  \"rows\": 1584,\n  \"fields\": [\n    {\n      \"column\": \"state\",\n      \"properties\": {\n        \"dtype\": \"category\",\n        \"num_unique_values\": 36,\n        \"samples\": [\n          \"tamil-nadu\",\n          \"tripura\",\n          \"kerala\"\n        ],\n        \"semantic_type\": \"\",\n        \"description\": \"\"\n      }\n    },\n    {\n      \"column\": \"year\",\n      \"properties\": {\n        \"dtype\": \"object\",\n        \"num_unique_values\": 4,\n        \"samples\": [\n          \"2021\",\n          \"2018\",\n          \"2020\"\n        ],\n        \"semantic_type\": \"\",\n        \"description\": \"\"\n      }\n    },\n    {\n      \"column\": \"quater\",\n      \"properties\": {\n        \"dtype\": \"number\",\n        \"std\": 0,\n        \"min\": 4,\n        \"max\": 4,\n        \"num_unique_values\": 1,\n        \"samples\": [\n          4\n        ],\n        \"semantic_type\": \"\",\n        \"description\": \"\"\n      }\n    },\n    {\n      \"column\": \"User_Brand\",\n      \"properties\": {\n        \"dtype\": \"category\",\n        \"num_unique_values\": 18,\n        \"samples\": [\n          \"Xiaomi\"\n        ],\n        \"semantic_type\": \"\",\n        \"description\": \"\"\n      }\n    },\n    {\n      \"column\": \"User_count\",\n      \"properties\": {\n        \"dtype\": \"number\",\n        \"std\": 1148384,\n        \"min\": 18,\n        \"max\": 10876133,\n        \"num_unique_values\": 1576,\n        \"samples\": [\n          898426\n        ],\n        \"semantic_type\": \"\",\n        \"description\": \"\"\n      }\n    },\n    {\n      \"column\": \"User_percentage\",\n      \"properties\": {\n        \"dtype\": \"number\",\n        \"std\": 0.08397893696457383,\n        \"min\": 0.005157540461996163,\n        \"max\": 0.47707880265399694,\n        \"num_unique_values\": 1584,\n        \"samples\": [\n          0.018026932839994837\n        ],\n        \"semantic_type\": \"\",\n        \"description\": \"\"\n      }\n    }\n  ]\n}"
            }
          },
          "metadata": {},
          "execution_count": 97
        }
      ]
    },
    {
      "cell_type": "code",
      "source": [
        "print(aggr_user[['User_Brand', 'User_count', 'User_percentage']])"
      ],
      "metadata": {
        "colab": {
          "base_uri": "https://localhost:8080/"
        },
        "id": "ORy-2FroJR2u",
        "outputId": "0ba6cc36-c18a-4a33-9e52-c4d345eefdf6"
      },
      "execution_count": 98,
      "outputs": [
        {
          "output_type": "stream",
          "name": "stdout",
          "text": [
            "     User_Brand  User_count  User_percentage\n",
            "0        Xiaomi       71555         0.223871\n",
            "1       Samsung       63620         0.199045\n",
            "2          Vivo       61208         0.191499\n",
            "3          Oppo       33860         0.105936\n",
            "4        Realme       14505         0.045381\n",
            "...         ...         ...              ...\n",
            "1579     Lenovo      194451         0.037395\n",
            "1580      Apple      191032         0.036738\n",
            "1581    OnePlus      180637         0.034739\n",
            "1582     Huawei      164880         0.031708\n",
            "1583     Others      558850         0.107474\n",
            "\n",
            "[1584 rows x 3 columns]\n"
          ]
        }
      ]
    },
    {
      "cell_type": "code",
      "source": [
        "print(aggr_user['User_Brand'].unique())"
      ],
      "metadata": {
        "colab": {
          "base_uri": "https://localhost:8080/"
        },
        "id": "QtnfAceyKz9h",
        "outputId": "ff9c3b3e-0e99-4abb-a7fe-6d14e0035b73"
      },
      "execution_count": 99,
      "outputs": [
        {
          "output_type": "stream",
          "name": "stdout",
          "text": [
            "['Xiaomi' 'Samsung' 'Vivo' 'Oppo' 'Realme' 'Huawei' 'Apple' 'Motorola'\n",
            " 'OnePlus' 'Lenovo' 'Others' 'Infinix' 'HMD Global' 'Tecno' 'Micromax'\n",
            " 'Lava' 'Gionee' 'Asus']\n"
          ]
        }
      ]
    },
    {
      "cell_type": "code",
      "source": [
        "User_count_grouped = aggr_user.groupby('User_Brand')['User_count'].sum().reset_index()\n",
        "User_count_sorted = User_count_grouped.sort_values(by='User_count', ascending=False)\n",
        "print(User_count_sorted)"
      ],
      "metadata": {
        "colab": {
          "base_uri": "https://localhost:8080/"
        },
        "id": "WwsZz8dbOKkg",
        "outputId": "5a26f23c-d26d-4d08-db7d-90b4e3306f21"
      },
      "execution_count": 100,
      "outputs": [
        {
          "output_type": "stream",
          "name": "stdout",
          "text": [
            "    User_Brand  User_count\n",
            "17      Xiaomi   224527851\n",
            "14     Samsung   172858674\n",
            "16        Vivo   164104226\n",
            "11        Oppo   109689555\n",
            "12      Others    71683490\n",
            "13      Realme    58451904\n",
            "0        Apple    24531502\n",
            "9     Motorola    18648464\n",
            "10     OnePlus    16264161\n",
            "4       Huawei    14731750\n",
            "7       Lenovo    10279373\n",
            "15       Tecno     3439980\n",
            "8     Micromax     2801001\n",
            "5      Infinix     1595413\n",
            "1         Asus     1052599\n",
            "2       Gionee      717411\n",
            "6         Lava      401511\n",
            "3   HMD Global      191869\n"
          ]
        }
      ]
    },
    {
      "cell_type": "code",
      "source": [
        "User_percentage_grouped = aggr_user.groupby('User_Brand')['User_percentage'].sum().reset_index()\n",
        "print(User_percentage_grouped)"
      ],
      "metadata": {
        "colab": {
          "base_uri": "https://localhost:8080/"
        },
        "id": "Lm6cv2HELSoN",
        "outputId": "d3ded5d6-903b-4e35-fd4f-cfa2c3210a24"
      },
      "execution_count": 101,
      "outputs": [
        {
          "output_type": "stream",
          "name": "stdout",
          "text": [
            "    User_Brand  User_percentage\n",
            "0        Apple         4.204404\n",
            "1         Asus         0.387832\n",
            "2       Gionee         0.450689\n",
            "3   HMD Global         0.089827\n",
            "4       Huawei         2.549781\n",
            "5      Infinix         0.117918\n",
            "6         Lava         0.097134\n",
            "7       Lenovo         1.725200\n",
            "8     Micromax         0.742374\n",
            "9     Motorola         2.802456\n",
            "10     OnePlus         2.460689\n",
            "11        Oppo        17.037473\n",
            "12      Others        12.499098\n",
            "13      Realme         8.793489\n",
            "14     Samsung        27.475375\n",
            "15       Tecno         0.272022\n",
            "16        Vivo        24.689494\n",
            "17      Xiaomi        37.604745\n"
          ]
        }
      ]
    },
    {
      "cell_type": "code",
      "source": [
        "# Sort data by 'User_percentage' in descending order\n",
        "device_usage_sorted = User_percentage_grouped.sort_values(by='User_percentage', ascending=False)\n",
        "\n",
        "# Display the sorted DataFrame\n",
        "print(device_usage_sorted)"
      ],
      "metadata": {
        "colab": {
          "base_uri": "https://localhost:8080/"
        },
        "id": "ITQLz4DiLeIm",
        "outputId": "183c5ea6-8605-482b-92c7-4d0dade2cf70"
      },
      "execution_count": 102,
      "outputs": [
        {
          "output_type": "stream",
          "name": "stdout",
          "text": [
            "    User_Brand  User_percentage\n",
            "17      Xiaomi        37.604745\n",
            "14     Samsung        27.475375\n",
            "16        Vivo        24.689494\n",
            "11        Oppo        17.037473\n",
            "12      Others        12.499098\n",
            "13      Realme         8.793489\n",
            "0        Apple         4.204404\n",
            "9     Motorola         2.802456\n",
            "4       Huawei         2.549781\n",
            "10     OnePlus         2.460689\n",
            "7       Lenovo         1.725200\n",
            "8     Micromax         0.742374\n",
            "2       Gionee         0.450689\n",
            "1         Asus         0.387832\n",
            "15       Tecno         0.272022\n",
            "5      Infinix         0.117918\n",
            "6         Lava         0.097134\n",
            "3   HMD Global         0.089827\n"
          ]
        }
      ]
    },
    {
      "cell_type": "code",
      "source": [
        "# Sort data by 'User_count' in descending order\n",
        "device_usage_sorted = device_usage.sort_values(by='User_count', ascending=False)\n",
        "\n",
        "plt.figure(figsize=(12, 6))\n",
        "sns.barplot(data=device_usage_sorted, x=corrected_column_name[0], y='User_count', color='blue', label='Registered Users')\n",
        "#sns.barplot(data=device_usage, x=corrected_column_name[0], y='User_percentage', color='red', alpha=0.6, label='App Opens')\n",
        "\n",
        "plt.title(\"📱 Device Usage: Brand vs User Count\")\n",
        "plt.xlabel(\"Device Brand\")\n",
        "plt.ylabel(\"Count\")\n",
        "plt.xticks(rotation=45)\n",
        "plt.legend()\n",
        "plt.show()"
      ],
      "metadata": {
        "colab": {
          "base_uri": "https://localhost:8080/",
          "height": 464
        },
        "id": "ID6MWXbu62t5",
        "outputId": "b53b301a-bb6e-4202-c772-c76a233ad05f"
      },
      "execution_count": 103,
      "outputs": [
        {
          "output_type": "stream",
          "name": "stderr",
          "text": [
            "/usr/local/lib/python3.11/dist-packages/IPython/core/pylabtools.py:151: UserWarning: Glyph 128241 (\\N{MOBILE PHONE}) missing from font(s) DejaVu Sans.\n",
            "  fig.canvas.print_figure(bytes_io, **kw)\n"
          ]
        },
        {
          "output_type": "display_data",
          "data": {
            "text/plain": [
              "<Figure size 1200x600 with 1 Axes>"
            ],
            "image/png": "[encoded data removed]"
          },
          "metadata": {}
        }
      ]
    },
    {
      "cell_type": "code",
      "source": [
        "# Sort data by 'User_count' in descending order\n",
        "device_usage_sorted = device_usage.sort_values(by='User_count', ascending=False)\n",
        "\n",
        "plt.figure(figsize=(12, 6))\n",
        "#sns.barplot(data=device_usage, x=corrected_column_name[0], y='User_count', color='blue', label='Registered Users')\n",
        "sns.barplot(data=device_usage_sorted, x=corrected_column_name[0], y='User_percentage', color='red', alpha=0.6, label='App Opens')\n",
        "\n",
        "plt.title(\"📱 Device Brand Usage: Registered Users vs User_percentage\")\n",
        "plt.xlabel(\"Device Brand\")\n",
        "plt.ylabel(\"Count\")\n",
        "plt.xticks(rotation=45)\n",
        "plt.legend()\n",
        "plt.show()"
      ],
      "metadata": {
        "colab": {
          "base_uri": "https://localhost:8080/",
          "height": 466
        },
        "id": "4pA_rNjDIfnh",
        "outputId": "ee6a09b6-1bf7-4e1b-f34f-fbc285898d3e"
      },
      "execution_count": 104,
      "outputs": [
        {
          "output_type": "stream",
          "name": "stderr",
          "text": [
            "/usr/local/lib/python3.11/dist-packages/IPython/core/pylabtools.py:151: UserWarning: Glyph 128241 (\\N{MOBILE PHONE}) missing from font(s) DejaVu Sans.\n",
            "  fig.canvas.print_figure(bytes_io, **kw)\n"
          ]
        },
        {
          "output_type": "display_data",
          "data": {
            "text/plain": [
              "<Figure size 1200x600 with 1 Axes>"
            ],
            "image/png": "[encoded data removed]"
          },
          "metadata": {}
        }
      ]
    },
    {
      "cell_type": "markdown",
      "source": [
        "## 3. Insurance Penetration & Market Growth"
      ],
      "metadata": {
        "id": "qjSotbJxRXtJ"
      }
    },
    {
      "cell_type": "code",
      "source": [
        "map_insurance.head(5)"
      ],
      "metadata": {
        "colab": {
          "base_uri": "https://localhost:8080/",
          "height": 206
        },
        "id": "X013h4_8RetM",
        "outputId": "88d88350-8507-4938-c690-19eb573ab330"
      },
      "execution_count": 105,
      "outputs": [
        {
          "output_type": "execute_result",
          "data": {
            "text/plain": [
              "        state  year  quater       name  count     amount\n",
              "0  puducherry  2020       4  Insurance    234   197955.0\n",
              "1  puducherry  2024       4  Insurance   2838  3896033.0\n",
              "2  puducherry  2021       4  Insurance    786   946607.0\n",
              "3  puducherry  2023       4  Insurance   2447  3419395.0\n",
              "4  puducherry  2022       4  Insurance   2331  2693130.0"
            ],
            "text/html": [
              "\n",
              "  <div id=\"df-2fd16a3e-3600-4066-adbe-5a4c4e49cb65\" class=\"colab-df-container\">\n",
              "    <div>\n",
              "<style scoped>\n",
              "    .dataframe tbody tr th:only-of-type {\n",
              "        vertical-align: middle;\n",
              "    }\n",
              "\n",
              "    .dataframe tbody tr th {\n",
              "        vertical-align: top;\n",
              "    }\n",
              "\n",
              "    .dataframe thead th {\n",
              "        text-align: right;\n",
              "    }\n",
              "</style>\n",
              "<table border=\"1\" class=\"dataframe\">\n",
              "  <thead>\n",
              "    <tr style=\"text-align: right;\">\n",
              "      <th></th>\n",
              "      <th>state</th>\n",
              "      <th>year</th>\n",
              "      <th>quater</th>\n",
              "      <th>name</th>\n",
              "      <th>count</th>\n",
              "      <th>amount</th>\n",
              "    </tr>\n",
              "  </thead>\n",
              "  <tbody>\n",
              "    <tr>\n",
              "      <th>0</th>\n",
              "      <td>puducherry</td>\n",
              "      <td>2020</td>\n",
              "      <td>4</td>\n",
              "      <td>Insurance</td>\n",
              "      <td>234</td>\n",
              "      <td>197955.0</td>\n",
              "    </tr>\n",
              "    <tr>\n",
              "      <th>1</th>\n",
              "      <td>puducherry</td>\n",
              "      <td>2024</td>\n",
              "      <td>4</td>\n",
              "      <td>Insurance</td>\n",
              "      <td>2838</td>\n",
              "      <td>3896033.0</td>\n",
              "    </tr>\n",
              "    <tr>\n",
              "      <th>2</th>\n",
              "      <td>puducherry</td>\n",
              "      <td>2021</td>\n",
              "      <td>4</td>\n",
              "      <td>Insurance</td>\n",
              "      <td>786</td>\n",
              "      <td>946607.0</td>\n",
              "    </tr>\n",
              "    <tr>\n",
              "      <th>3</th>\n",
              "      <td>puducherry</td>\n",
              "      <td>2023</td>\n",
              "      <td>4</td>\n",
              "      <td>Insurance</td>\n",
              "      <td>2447</td>\n",
              "      <td>3419395.0</td>\n",
              "    </tr>\n",
              "    <tr>\n",
              "      <th>4</th>\n",
              "      <td>puducherry</td>\n",
              "      <td>2022</td>\n",
              "      <td>4</td>\n",
              "      <td>Insurance</td>\n",
              "      <td>2331</td>\n",
              "      <td>2693130.0</td>\n",
              "    </tr>\n",
              "  </tbody>\n",
              "</table>\n",
              "</div>\n",
              "    <div class=\"colab-df-buttons\">\n",
              "\n",
              "  <div class=\"colab-df-container\">\n",
              "    <button class=\"colab-df-convert\" onclick=\"convertToInteractive('df-2fd16a3e-3600-4066-adbe-5a4c4e49cb65')\"\n",
              "            title=\"Convert this dataframe to an interactive table.\"\n",
              "            style=\"display:none;\">\n",
              "\n",
              "  <svg xmlns=\"http://www.w3.org/2000/svg\" height=\"24px\" viewBox=\"0 -960 960 960\">\n",
              "    <path d=\"M120-120v-720h720v720H120Zm60-500h600v-160H180v160Zm220 220h160v-160H400v160Zm0 220h160v-160H400v160ZM180-400h160v-160H180v160Zm440 0h160v-160H620v160ZM180-180h160v-160H180v160Zm440 0h160v-160H620v160Z\"/>\n",
              "  </svg>\n",
              "    </button>\n",
              "\n",
              "  <style>\n",
              "    .colab-df-container {\n",
              "      display:flex;\n",
              "      gap: 12px;\n",
              "    }\n",
              "\n",
              "    .colab-df-convert {\n",
              "      background-color: #E8F0FE;\n",
              "      border: none;\n",
              "      border-radius: 50%;\n",
              "      cursor: pointer;\n",
              "      display: none;\n",
              "      fill: #1967D2;\n",
              "      height: 32px;\n",
              "      padding: 0 0 0 0;\n",
              "      width: 32px;\n",
              "    }\n",
              "\n",
              "    .colab-df-convert:hover {\n",
              "      background-color: #E2EBFA;\n",
              "      box-shadow: 0px 1px 2px rgba(60, 64, 67, 0.3), 0px 1px 3px 1px rgba(60, 64, 67, 0.15);\n",
              "      fill: #174EA6;\n",
              "    }\n",
              "\n",
              "    .colab-df-buttons div {\n",
              "      margin-bottom: 4px;\n",
              "    }\n",
              "\n",
              "    [theme=dark] .colab-df-convert {\n",
              "      background-color: #3B4455;\n",
              "      fill: #D2E3FC;\n",
              "    }\n",
              "\n",
              "    [theme=dark] .colab-df-convert:hover {\n",
              "      background-color: #434B5C;\n",
              "      box-shadow: 0px 1px 3px 1px rgba(0, 0, 0, 0.15);\n",
              "      filter: drop-shadow(0px 1px 2px rgba(0, 0, 0, 0.3));\n",
              "      fill: #FFFFFF;\n",
              "    }\n",
              "  </style>\n",
              "\n",
              "    <script>\n",
              "      const buttonEl =\n",
              "        document.querySelector('#df-2fd16a3e-3600-4066-adbe-5a4c4e49cb65 button.colab-df-convert');\n",
              "      buttonEl.style.display =\n",
              "        google.colab.kernel.accessAllowed ? 'block' : 'none';\n",
              "\n",
              "      async function convertToInteractive(key) {\n",
              "        const element = document.querySelector('#df-2fd16a3e-3600-4066-adbe-5a4c4e49cb65');\n",
              "        const dataTable =\n",
              "          await google.colab.kernel.invokeFunction('convertToInteractive',\n",
              "                                                    [key], {});\n",
              "        if (!dataTable) return;\n",
              "\n",
              "        const docLinkHtml = 'Like what you see? Visit the ' +\n",
              "          '<a target=\"_blank\" href=https://colab.research.google.com/notebooks/data_table.ipynb>data table notebook</a>'\n",
              "          + ' to learn more about interactive tables.';\n",
              "        element.innerHTML = '';\n",
              "        dataTable['output_type'] = 'display_data';\n",
              "        await google.colab.output.renderOutput(dataTable, element);\n",
              "        const docLink = document.createElement('div');\n",
              "        docLink.innerHTML = docLinkHtml;\n",
              "        element.appendChild(docLink);\n",
              "      }\n",
              "    </script>\n",
              "  </div>\n",
              "\n",
              "\n",
              "<div id=\"df-6d06b73b-5cb1-4753-97a8-b1934685ef13\">\n",
              "  <button class=\"colab-df-quickchart\" onclick=\"quickchart('df-6d06b73b-5cb1-4753-97a8-b1934685ef13')\"\n",
              "            title=\"Suggest charts\"\n",
              "            style=\"display:none;\">\n",
              "\n",
              "<svg xmlns=\"http://www.w3.org/2000/svg\" height=\"24px\"viewBox=\"0 0 24 24\"\n",
              "     width=\"24px\">\n",
              "    <g>\n",
              "        <path d=\"M19 3H5c-1.1 0-2 .9-2 2v14c0 1.1.9 2 2 2h14c1.1 0 2-.9 2-2V5c0-1.1-.9-2-2-2zM9 17H7v-7h2v7zm4 0h-2V7h2v10zm4 0h-2v-4h2v4z\"/>\n",
              "    </g>\n",
              "</svg>\n",
              "  </button>\n",
              "\n",
              "<style>\n",
              "  .colab-df-quickchart {\n",
              "      --bg-color: #E8F0FE;\n",
              "      --fill-color: #1967D2;\n",
              "      --hover-bg-color: #E2EBFA;\n",
              "      --hover-fill-color: #174EA6;\n",
              "      --disabled-fill-color: #AAA;\n",
              "      --disabled-bg-color: #DDD;\n",
              "  }\n",
              "\n",
              "  [theme=dark] .colab-df-quickchart {\n",
              "      --bg-color: #3B4455;\n",
              "      --fill-color: #D2E3FC;\n",
              "      --hover-bg-color: #434B5C;\n",
              "      --hover-fill-color: #FFFFFF;\n",
              "      --disabled-bg-color: #3B4455;\n",
              "      --disabled-fill-color: #666;\n",
              "  }\n",
              "\n",
              "  .colab-df-quickchart {\n",
              "    background-color: var(--bg-color);\n",
              "    border: none;\n",
              "    border-radius: 50%;\n",
              "    cursor: pointer;\n",
              "    display: none;\n",
              "    fill: var(--fill-color);\n",
              "    height: 32px;\n",
              "    padding: 0;\n",
              "    width: 32px;\n",
              "  }\n",
              "\n",
              "  .colab-df-quickchart:hover {\n",
              "    background-color: var(--hover-bg-color);\n",
              "    box-shadow: 0 1px 2px rgba(60, 64, 67, 0.3), 0 1px 3px 1px rgba(60, 64, 67, 0.15);\n",
              "    fill: var(--button-hover-fill-color);\n",
              "  }\n",
              "\n",
              "  .colab-df-quickchart-complete:disabled,\n",
              "  .colab-df-quickchart-complete:disabled:hover {\n",
              "    background-color: var(--disabled-bg-color);\n",
              "    fill: var(--disabled-fill-color);\n",
              "    box-shadow: none;\n",
              "  }\n",
              "\n",
              "  .colab-df-spinner {\n",
              "    border: 2px solid var(--fill-color);\n",
              "    border-color: transparent;\n",
              "    border-bottom-color: var(--fill-color);\n",
              "    animation:\n",
              "      spin 1s steps(1) infinite;\n",
              "  }\n",
              "\n",
              "  @keyframes spin {\n",
              "    0% {\n",
              "      border-color: transparent;\n",
              "      border-bottom-color: var(--fill-color);\n",
              "      border-left-color: var(--fill-color);\n",
              "    }\n",
              "    20% {\n",
              "      border-color: transparent;\n",
              "      border-left-color: var(--fill-color);\n",
              "      border-top-color: var(--fill-color);\n",
              "    }\n",
              "    30% {\n",
              "      border-color: transparent;\n",
              "      border-left-color: var(--fill-color);\n",
              "      border-top-color: var(--fill-color);\n",
              "      border-right-color: var(--fill-color);\n",
              "    }\n",
              "    40% {\n",
              "      border-color: transparent;\n",
              "      border-right-color: var(--fill-color);\n",
              "      border-top-color: var(--fill-color);\n",
              "    }\n",
              "    60% {\n",
              "      border-color: transparent;\n",
              "      border-right-color: var(--fill-color);\n",
              "    }\n",
              "    80% {\n",
              "      border-color: transparent;\n",
              "      border-right-color: var(--fill-color);\n",
              "      border-bottom-color: var(--fill-color);\n",
              "    }\n",
              "    90% {\n",
              "      border-color: transparent;\n",
              "      border-bottom-color: var(--fill-color);\n",
              "    }\n",
              "  }\n",
              "</style>\n",
              "\n",
              "  <script>\n",
              "    async function quickchart(key) {\n",
              "      const quickchartButtonEl =\n",
              "        document.querySelector('#' + key + ' button');\n",
              "      quickchartButtonEl.disabled = true;  // To prevent multiple clicks.\n",
              "      quickchartButtonEl.classList.add('colab-df-spinner');\n",
              "      try {\n",
              "        const charts = await google.colab.kernel.invokeFunction(\n",
              "            'suggestCharts', [key], {});\n",
              "      } catch (error) {\n",
              "        console.error('Error during call to suggestCharts:', error);\n",
              "      }\n",
              "      quickchartButtonEl.classList.remove('colab-df-spinner');\n",
              "      quickchartButtonEl.classList.add('colab-df-quickchart-complete');\n",
              "    }\n",
              "    (() => {\n",
              "      let quickchartButtonEl =\n",
              "        document.querySelector('#df-6d06b73b-5cb1-4753-97a8-b1934685ef13 button');\n",
              "      quickchartButtonEl.style.display =\n",
              "        google.colab.kernel.accessAllowed ? 'block' : 'none';\n",
              "    })();\n",
              "  </script>\n",
              "</div>\n",
              "\n",
              "    </div>\n",
              "  </div>\n"
            ],
            "application/vnd.google.colaboratory.intrinsic+json": {
              "type": "dataframe",
              "variable_name": "map_insurance",
              "summary": "{\n  \"name\": \"map_insurance\",\n  \"rows\": 179,\n  \"fields\": [\n    {\n      \"column\": \"state\",\n      \"properties\": {\n        \"dtype\": \"category\",\n        \"num_unique_values\": 36,\n        \"samples\": [\n          \"tamil-nadu\",\n          \"tripura\",\n          \"kerala\"\n        ],\n        \"semantic_type\": \"\",\n        \"description\": \"\"\n      }\n    },\n    {\n      \"column\": \"year\",\n      \"properties\": {\n        \"dtype\": \"object\",\n        \"num_unique_values\": 5,\n        \"samples\": [\n          \"2024\",\n          \"2022\",\n          \"2021\"\n        ],\n        \"semantic_type\": \"\",\n        \"description\": \"\"\n      }\n    },\n    {\n      \"column\": \"quater\",\n      \"properties\": {\n        \"dtype\": \"number\",\n        \"std\": 0,\n        \"min\": 4,\n        \"max\": 4,\n        \"num_unique_values\": 1,\n        \"samples\": [\n          4\n        ],\n        \"semantic_type\": \"\",\n        \"description\": \"\"\n      }\n    },\n    {\n      \"column\": \"name\",\n      \"properties\": {\n        \"dtype\": \"category\",\n        \"num_unique_values\": 1,\n        \"samples\": [\n          \"Insurance\"\n        ],\n        \"semantic_type\": \"\",\n        \"description\": \"\"\n      }\n    },\n    {\n      \"column\": \"count\",\n      \"properties\": {\n        \"dtype\": \"number\",\n        \"std\": 36478,\n        \"min\": 11,\n        \"max\": 183532,\n        \"num_unique_values\": 178,\n        \"samples\": [\n          9990\n        ],\n        \"semantic_type\": \"\",\n        \"description\": \"\"\n      }\n    },\n    {\n      \"column\": \"amount\",\n      \"properties\": {\n        \"dtype\": \"number\",\n        \"std\": 55562997.02039215,\n        \"min\": 17096.0,\n        \"max\": 305861806.0,\n        \"num_unique_values\": 179,\n        \"samples\": [\n          42712883.0\n        ],\n        \"semantic_type\": \"\",\n        \"description\": \"\"\n      }\n    }\n  ]\n}"
            }
          },
          "metadata": {},
          "execution_count": 105
        }
      ]
    },
    {
      "cell_type": "code",
      "source": [
        "map_insurance.isna().sum()\n",
        "map_insurance.nunique()"
      ],
      "metadata": {
        "colab": {
          "base_uri": "https://localhost:8080/",
          "height": 272
        },
        "id": "NGsE1PyCRmHi",
        "outputId": "acc315fe-dc7e-4c04-a00c-11115f3a4523"
      },
      "execution_count": 106,
      "outputs": [
        {
          "output_type": "execute_result",
          "data": {
            "text/plain": [
              "state      36\n",
              "year        5\n",
              "quater      1\n",
              "name        1\n",
              "count     178\n",
              "amount    179\n",
              "dtype: int64"
            ],
            "text/html": [
              "<div>\n",
              "<style scoped>\n",
              "    .dataframe tbody tr th:only-of-type {\n",
              "        vertical-align: middle;\n",
              "    }\n",
              "\n",
              "    .dataframe tbody tr th {\n",
              "        vertical-align: top;\n",
              "    }\n",
              "\n",
              "    .dataframe thead th {\n",
              "        text-align: right;\n",
              "    }\n",
              "</style>\n",
              "<table border=\"1\" class=\"dataframe\">\n",
              "  <thead>\n",
              "    <tr style=\"text-align: right;\">\n",
              "      <th></th>\n",
              "      <th>0</th>\n",
              "    </tr>\n",
              "  </thead>\n",
              "  <tbody>\n",
              "    <tr>\n",
              "      <th>state</th>\n",
              "      <td>36</td>\n",
              "    </tr>\n",
              "    <tr>\n",
              "      <th>year</th>\n",
              "      <td>5</td>\n",
              "    </tr>\n",
              "    <tr>\n",
              "      <th>quater</th>\n",
              "      <td>1</td>\n",
              "    </tr>\n",
              "    <tr>\n",
              "      <th>name</th>\n",
              "      <td>1</td>\n",
              "    </tr>\n",
              "    <tr>\n",
              "      <th>count</th>\n",
              "      <td>178</td>\n",
              "    </tr>\n",
              "    <tr>\n",
              "      <th>amount</th>\n",
              "      <td>179</td>\n",
              "    </tr>\n",
              "  </tbody>\n",
              "</table>\n",
              "</div><br><label><b>dtype:</b> int64</label>"
            ]
          },
          "metadata": {},
          "execution_count": 106
        }
      ]
    },
    {
      "cell_type": "code",
      "source": [
        "# Group insurance transactions by state\n",
        "insurance_by_state = map_insurance.groupby('state')['count'].sum().reset_index()\n",
        "\n",
        "# Sort data by count in states\n",
        "insurance_count_sorted = insurance_by_state.sort_values(by='count', ascending=False)\n",
        "# print(insurance_count_sorted)\n",
        "\n",
        "\n",
        "plt.figure(figsize=(14, 6))\n",
        "sns.barplot(data=insurance_count_sorted, x='state', y='count', palette=\"coolwarm\")\n",
        "plt.title(\"🛡️ Insurance Transactions by State\")\n",
        "plt.xlabel(\"State\")\n",
        "plt.ylabel(\"Total Transactions\")\n",
        "plt.xticks(rotation=90)\n",
        "plt.show()\n"
      ],
      "metadata": {
        "colab": {
          "base_uri": "https://localhost:8080/",
          "height": 601
        },
        "id": "eQ_5DZAZGAME",
        "outputId": "57dbb37b-387f-433a-ee44-70cb1d8f8db7"
      },
      "execution_count": 107,
      "outputs": [
        {
          "output_type": "stream",
          "name": "stderr",
          "text": [
            "<ipython-input-107-655bc52eb862>:10: FutureWarning: \n",
            "\n",
            "Passing `palette` without assigning `hue` is deprecated and will be removed in v0.14.0. Assign the `x` variable to `hue` and set `legend=False` for the same effect.\n",
            "\n",
            "  sns.barplot(data=insurance_count_sorted, x='state', y='count', palette=\"coolwarm\")\n",
            "/usr/local/lib/python3.11/dist-packages/IPython/core/pylabtools.py:151: UserWarning: Glyph 128737 (\\N{SHIELD}) missing from font(s) DejaVu Sans.\n",
            "  fig.canvas.print_figure(bytes_io, **kw)\n"
          ]
        },
        {
          "output_type": "display_data",
          "data": {
            "text/plain": [
              "<Figure size 1400x600 with 1 Axes>"
            ],
            "image/png": "[encoded data removed]"
          },
          "metadata": {}
        }
      ]
    },
    {
      "cell_type": "markdown",
      "source": [
        "## 4. Geographical Analysis (Top Performing States)"
      ],
      "metadata": {
        "id": "MkpyhtjjTVGq"
      }
    },
    {
      "cell_type": "code",
      "source": [],
      "metadata": {
        "id": "4mPsyAa0UurC"
      },
      "execution_count": 107,
      "outputs": []
    },
    {
      "cell_type": "code",
      "source": [
        "map_transaction.head(5)"
      ],
      "metadata": {
        "colab": {
          "base_uri": "https://localhost:8080/",
          "height": 206
        },
        "id": "_8a1WGZUTrmL",
        "outputId": "c9ef9d6c-f8eb-4ed0-c8a1-9575b893131e"
      },
      "execution_count": 108,
      "outputs": [
        {
          "output_type": "execute_result",
          "data": {
            "text/plain": [
              "            state  year  quater  transaction_count  transaction_amount\n",
              "0      puducherry  2020       3            1730902        3.598080e+09\n",
              "1      tamil nadu  2020       3           70277825        1.438414e+11\n",
              "2   uttar pradesh  2020       3          127405259        2.486900e+11\n",
              "3  madhya pradesh  2020       3          108579881        2.057017e+11\n",
              "4  andhra pradesh  2020       3          204902935        4.670841e+11"
            ],
            "text/html": [
              "\n",
              "  <div id=\"df-f7588155-e81d-4e01-8235-91e7f8b7a19a\" class=\"colab-df-container\">\n",
              "    <div>\n",
              "<style scoped>\n",
              "    .dataframe tbody tr th:only-of-type {\n",
              "        vertical-align: middle;\n",
              "    }\n",
              "\n",
              "    .dataframe tbody tr th {\n",
              "        vertical-align: top;\n",
              "    }\n",
              "\n",
              "    .dataframe thead th {\n",
              "        text-align: right;\n",
              "    }\n",
              "</style>\n",
              "<table border=\"1\" class=\"dataframe\">\n",
              "  <thead>\n",
              "    <tr style=\"text-align: right;\">\n",
              "      <th></th>\n",
              "      <th>state</th>\n",
              "      <th>year</th>\n",
              "      <th>quater</th>\n",
              "      <th>transaction_count</th>\n",
              "      <th>transaction_amount</th>\n",
              "    </tr>\n",
              "  </thead>\n",
              "  <tbody>\n",
              "    <tr>\n",
              "      <th>0</th>\n",
              "      <td>puducherry</td>\n",
              "      <td>2020</td>\n",
              "      <td>3</td>\n",
              "      <td>1730902</td>\n",
              "      <td>3.598080e+09</td>\n",
              "    </tr>\n",
              "    <tr>\n",
              "      <th>1</th>\n",
              "      <td>tamil nadu</td>\n",
              "      <td>2020</td>\n",
              "      <td>3</td>\n",
              "      <td>70277825</td>\n",
              "      <td>1.438414e+11</td>\n",
              "    </tr>\n",
              "    <tr>\n",
              "      <th>2</th>\n",
              "      <td>uttar pradesh</td>\n",
              "      <td>2020</td>\n",
              "      <td>3</td>\n",
              "      <td>127405259</td>\n",
              "      <td>2.486900e+11</td>\n",
              "    </tr>\n",
              "    <tr>\n",
              "      <th>3</th>\n",
              "      <td>madhya pradesh</td>\n",
              "      <td>2020</td>\n",
              "      <td>3</td>\n",
              "      <td>108579881</td>\n",
              "      <td>2.057017e+11</td>\n",
              "    </tr>\n",
              "    <tr>\n",
              "      <th>4</th>\n",
              "      <td>andhra pradesh</td>\n",
              "      <td>2020</td>\n",
              "      <td>3</td>\n",
              "      <td>204902935</td>\n",
              "      <td>4.670841e+11</td>\n",
              "    </tr>\n",
              "  </tbody>\n",
              "</table>\n",
              "</div>\n",
              "    <div class=\"colab-df-buttons\">\n",
              "\n",
              "  <div class=\"colab-df-container\">\n",
              "    <button class=\"colab-df-convert\" onclick=\"convertToInteractive('df-f7588155-e81d-4e01-8235-91e7f8b7a19a')\"\n",
              "            title=\"Convert this dataframe to an interactive table.\"\n",
              "            style=\"display:none;\">\n",
              "\n",
              "  <svg xmlns=\"http://www.w3.org/2000/svg\" height=\"24px\" viewBox=\"0 -960 960 960\">\n",
              "    <path d=\"M120-120v-720h720v720H120Zm60-500h600v-160H180v160Zm220 220h160v-160H400v160Zm0 220h160v-160H400v160ZM180-400h160v-160H180v160Zm440 0h160v-160H620v160ZM180-180h160v-160H180v160Zm440 0h160v-160H620v160Z\"/>\n",
              "  </svg>\n",
              "    </button>\n",
              "\n",
              "  <style>\n",
              "    .colab-df-container {\n",
              "      display:flex;\n",
              "      gap: 12px;\n",
              "    }\n",
              "\n",
              "    .colab-df-convert {\n",
              "      background-color: #E8F0FE;\n",
              "      border: none;\n",
              "      border-radius: 50%;\n",
              "      cursor: pointer;\n",
              "      display: none;\n",
              "      fill: #1967D2;\n",
              "      height: 32px;\n",
              "      padding: 0 0 0 0;\n",
              "      width: 32px;\n",
              "    }\n",
              "\n",
              "    .colab-df-convert:hover {\n",
              "      background-color: #E2EBFA;\n",
              "      box-shadow: 0px 1px 2px rgba(60, 64, 67, 0.3), 0px 1px 3px 1px rgba(60, 64, 67, 0.15);\n",
              "      fill: #174EA6;\n",
              "    }\n",
              "\n",
              "    .colab-df-buttons div {\n",
              "      margin-bottom: 4px;\n",
              "    }\n",
              "\n",
              "    [theme=dark] .colab-df-convert {\n",
              "      background-color: #3B4455;\n",
              "      fill: #D2E3FC;\n",
              "    }\n",
              "\n",
              "    [theme=dark] .colab-df-convert:hover {\n",
              "      background-color: #434B5C;\n",
              "      box-shadow: 0px 1px 3px 1px rgba(0, 0, 0, 0.15);\n",
              "      filter: drop-shadow(0px 1px 2px rgba(0, 0, 0, 0.3));\n",
              "      fill: #FFFFFF;\n",
              "    }\n",
              "  </style>\n",
              "\n",
              "    <script>\n",
              "      const buttonEl =\n",
              "        document.querySelector('#df-f7588155-e81d-4e01-8235-91e7f8b7a19a button.colab-df-convert');\n",
              "      buttonEl.style.display =\n",
              "        google.colab.kernel.accessAllowed ? 'block' : 'none';\n",
              "\n",
              "      async function convertToInteractive(key) {\n",
              "        const element = document.querySelector('#df-f7588155-e81d-4e01-8235-91e7f8b7a19a');\n",
              "        const dataTable =\n",
              "          await google.colab.kernel.invokeFunction('convertToInteractive',\n",
              "                                                    [key], {});\n",
              "        if (!dataTable) return;\n",
              "\n",
              "        const docLinkHtml = 'Like what you see? Visit the ' +\n",
              "          '<a target=\"_blank\" href=https://colab.research.google.com/notebooks/data_table.ipynb>data table notebook</a>'\n",
              "          + ' to learn more about interactive tables.';\n",
              "        element.innerHTML = '';\n",
              "        dataTable['output_type'] = 'display_data';\n",
              "        await google.colab.output.renderOutput(dataTable, element);\n",
              "        const docLink = document.createElement('div');\n",
              "        docLink.innerHTML = docLinkHtml;\n",
              "        element.appendChild(docLink);\n",
              "      }\n",
              "    </script>\n",
              "  </div>\n",
              "\n",
              "\n",
              "<div id=\"df-da1d89f8-2a66-4053-ac94-c85af8cd42b6\">\n",
              "  <button class=\"colab-df-quickchart\" onclick=\"quickchart('df-da1d89f8-2a66-4053-ac94-c85af8cd42b6')\"\n",
              "            title=\"Suggest charts\"\n",
              "            style=\"display:none;\">\n",
              "\n",
              "<svg xmlns=\"http://www.w3.org/2000/svg\" height=\"24px\"viewBox=\"0 0 24 24\"\n",
              "     width=\"24px\">\n",
              "    <g>\n",
              "        <path d=\"M19 3H5c-1.1 0-2 .9-2 2v14c0 1.1.9 2 2 2h14c1.1 0 2-.9 2-2V5c0-1.1-.9-2-2-2zM9 17H7v-7h2v7zm4 0h-2V7h2v10zm4 0h-2v-4h2v4z\"/>\n",
              "    </g>\n",
              "</svg>\n",
              "  </button>\n",
              "\n",
              "<style>\n",
              "  .colab-df-quickchart {\n",
              "      --bg-color: #E8F0FE;\n",
              "      --fill-color: #1967D2;\n",
              "      --hover-bg-color: #E2EBFA;\n",
              "      --hover-fill-color: #174EA6;\n",
              "      --disabled-fill-color: #AAA;\n",
              "      --disabled-bg-color: #DDD;\n",
              "  }\n",
              "\n",
              "  [theme=dark] .colab-df-quickchart {\n",
              "      --bg-color: #3B4455;\n",
              "      --fill-color: #D2E3FC;\n",
              "      --hover-bg-color: #434B5C;\n",
              "      --hover-fill-color: #FFFFFF;\n",
              "      --disabled-bg-color: #3B4455;\n",
              "      --disabled-fill-color: #666;\n",
              "  }\n",
              "\n",
              "  .colab-df-quickchart {\n",
              "    background-color: var(--bg-color);\n",
              "    border: none;\n",
              "    border-radius: 50%;\n",
              "    cursor: pointer;\n",
              "    display: none;\n",
              "    fill: var(--fill-color);\n",
              "    height: 32px;\n",
              "    padding: 0;\n",
              "    width: 32px;\n",
              "  }\n",
              "\n",
              "  .colab-df-quickchart:hover {\n",
              "    background-color: var(--hover-bg-color);\n",
              "    box-shadow: 0 1px 2px rgba(60, 64, 67, 0.3), 0 1px 3px 1px rgba(60, 64, 67, 0.15);\n",
              "    fill: var(--button-hover-fill-color);\n",
              "  }\n",
              "\n",
              "  .colab-df-quickchart-complete:disabled,\n",
              "  .colab-df-quickchart-complete:disabled:hover {\n",
              "    background-color: var(--disabled-bg-color);\n",
              "    fill: var(--disabled-fill-color);\n",
              "    box-shadow: none;\n",
              "  }\n",
              "\n",
              "  .colab-df-spinner {\n",
              "    border: 2px solid var(--fill-color);\n",
              "    border-color: transparent;\n",
              "    border-bottom-color: var(--fill-color);\n",
              "    animation:\n",
              "      spin 1s steps(1) infinite;\n",
              "  }\n",
              "\n",
              "  @keyframes spin {\n",
              "    0% {\n",
              "      border-color: transparent;\n",
              "      border-bottom-color: var(--fill-color);\n",
              "      border-left-color: var(--fill-color);\n",
              "    }\n",
              "    20% {\n",
              "      border-color: transparent;\n",
              "      border-left-color: var(--fill-color);\n",
              "      border-top-color: var(--fill-color);\n",
              "    }\n",
              "    30% {\n",
              "      border-color: transparent;\n",
              "      border-left-color: var(--fill-color);\n",
              "      border-top-color: var(--fill-color);\n",
              "      border-right-color: var(--fill-color);\n",
              "    }\n",
              "    40% {\n",
              "      border-color: transparent;\n",
              "      border-right-color: var(--fill-color);\n",
              "      border-top-color: var(--fill-color);\n",
              "    }\n",
              "    60% {\n",
              "      border-color: transparent;\n",
              "      border-right-color: var(--fill-color);\n",
              "    }\n",
              "    80% {\n",
              "      border-color: transparent;\n",
              "      border-right-color: var(--fill-color);\n",
              "      border-bottom-color: var(--fill-color);\n",
              "    }\n",
              "    90% {\n",
              "      border-color: transparent;\n",
              "      border-bottom-color: var(--fill-color);\n",
              "    }\n",
              "  }\n",
              "</style>\n",
              "\n",
              "  <script>\n",
              "    async function quickchart(key) {\n",
              "      const quickchartButtonEl =\n",
              "        document.querySelector('#' + key + ' button');\n",
              "      quickchartButtonEl.disabled = true;  // To prevent multiple clicks.\n",
              "      quickchartButtonEl.classList.add('colab-df-spinner');\n",
              "      try {\n",
              "        const charts = await google.colab.kernel.invokeFunction(\n",
              "            'suggestCharts', [key], {});\n",
              "      } catch (error) {\n",
              "        console.error('Error during call to suggestCharts:', error);\n",
              "      }\n",
              "      quickchartButtonEl.classList.remove('colab-df-spinner');\n",
              "      quickchartButtonEl.classList.add('colab-df-quickchart-complete');\n",
              "    }\n",
              "    (() => {\n",
              "      let quickchartButtonEl =\n",
              "        document.querySelector('#df-da1d89f8-2a66-4053-ac94-c85af8cd42b6 button');\n",
              "      quickchartButtonEl.style.display =\n",
              "        google.colab.kernel.accessAllowed ? 'block' : 'none';\n",
              "    })();\n",
              "  </script>\n",
              "</div>\n",
              "\n",
              "    </div>\n",
              "  </div>\n"
            ],
            "application/vnd.google.colaboratory.intrinsic+json": {
              "type": "dataframe",
              "variable_name": "map_transaction",
              "summary": "{\n  \"name\": \"map_transaction\",\n  \"rows\": 1008,\n  \"fields\": [\n    {\n      \"column\": \"state\",\n      \"properties\": {\n        \"dtype\": \"category\",\n        \"num_unique_values\": 36,\n        \"samples\": [\n          \"uttarakhand\",\n          \"rajasthan\",\n          \"gujarat\"\n        ],\n        \"semantic_type\": \"\",\n        \"description\": \"\"\n      }\n    },\n    {\n      \"column\": \"year\",\n      \"properties\": {\n        \"dtype\": \"object\",\n        \"num_unique_values\": 7,\n        \"samples\": [\n          \"2020\",\n          \"2024\",\n          \"2019\"\n        ],\n        \"semantic_type\": \"\",\n        \"description\": \"\"\n      }\n    },\n    {\n      \"column\": \"quater\",\n      \"properties\": {\n        \"dtype\": \"number\",\n        \"std\": 1,\n        \"min\": 1,\n        \"max\": 4,\n        \"num_unique_values\": 4,\n        \"samples\": [\n          2,\n          4,\n          3\n        ],\n        \"semantic_type\": \"\",\n        \"description\": \"\"\n      }\n    },\n    {\n      \"column\": \"transaction_count\",\n      \"properties\": {\n        \"dtype\": \"number\",\n        \"std\": 514372084,\n        \"min\": 778,\n        \"max\": 3634231839,\n        \"num_unique_values\": 1008,\n        \"samples\": [\n          12537805,\n          313451598,\n          330999861\n        ],\n        \"semantic_type\": \"\",\n        \"description\": \"\"\n      }\n    },\n    {\n      \"column\": \"transaction_amount\",\n      \"properties\": {\n        \"dtype\": \"number\",\n        \"std\": 703028813261.4812,\n        \"min\": 1928611.1808777403,\n        \"max\": 4151819803822.0,\n        \"num_unique_values\": 1008,\n        \"samples\": [\n          13939970923.223106,\n          510035012340.00885,\n          536964920836.2892\n        ],\n        \"semantic_type\": \"\",\n        \"description\": \"\"\n      }\n    }\n  ]\n}"
            }
          },
          "metadata": {},
          "execution_count": 108
        }
      ]
    },
    {
      "cell_type": "code",
      "source": [
        "map_transaction.describe()"
      ],
      "metadata": {
        "colab": {
          "base_uri": "https://localhost:8080/",
          "height": 300
        },
        "id": "1BhjBQ3WUvn0",
        "outputId": "cce7dfe1-7db9-4b29-dc4c-0b1146d7b4eb"
      },
      "execution_count": 109,
      "outputs": [
        {
          "output_type": "execute_result",
          "data": {
            "text/plain": [
              "            quater  transaction_count  transaction_amount\n",
              "count  1008.000000       1.008000e+03        1.008000e+03\n",
              "mean      2.500000       2.334169e+08        3.427801e+11\n",
              "std       1.118589       5.143721e+08        7.030288e+11\n",
              "min       1.000000       7.780000e+02        1.928611e+06\n",
              "25%       1.750000       2.072062e+06        4.434177e+09\n",
              "50%       2.500000       1.799364e+07        2.951822e+10\n",
              "75%       3.250000       1.775121e+08        2.812155e+11\n",
              "max       4.000000       3.634232e+09        4.151820e+12"
            ],
            "text/html": [
              "\n",
              "  <div id=\"df-fe261865-708b-4ec5-8d60-8b522f88e465\" class=\"colab-df-container\">\n",
              "    <div>\n",
              "<style scoped>\n",
              "    .dataframe tbody tr th:only-of-type {\n",
              "        vertical-align: middle;\n",
              "    }\n",
              "\n",
              "    .dataframe tbody tr th {\n",
              "        vertical-align: top;\n",
              "    }\n",
              "\n",
              "    .dataframe thead th {\n",
              "        text-align: right;\n",
              "    }\n",
              "</style>\n",
              "<table border=\"1\" class=\"dataframe\">\n",
              "  <thead>\n",
              "    <tr style=\"text-align: right;\">\n",
              "      <th></th>\n",
              "      <th>quater</th>\n",
              "      <th>transaction_count</th>\n",
              "      <th>transaction_amount</th>\n",
              "    </tr>\n",
              "  </thead>\n",
              "  <tbody>\n",
              "    <tr>\n",
              "      <th>count</th>\n",
              "      <td>1008.000000</td>\n",
              "      <td>1.008000e+03</td>\n",
              "      <td>1.008000e+03</td>\n",
              "    </tr>\n",
              "    <tr>\n",
              "      <th>mean</th>\n",
              "      <td>2.500000</td>\n",
              "      <td>2.334169e+08</td>\n",
              "      <td>3.427801e+11</td>\n",
              "    </tr>\n",
              "    <tr>\n",
              "      <th>std</th>\n",
              "      <td>1.118589</td>\n",
              "      <td>5.143721e+08</td>\n",
              "      <td>7.030288e+11</td>\n",
              "    </tr>\n",
              "    <tr>\n",
              "      <th>min</th>\n",
              "      <td>1.000000</td>\n",
              "      <td>7.780000e+02</td>\n",
              "      <td>1.928611e+06</td>\n",
              "    </tr>\n",
              "    <tr>\n",
              "      <th>25%</th>\n",
              "      <td>1.750000</td>\n",
              "      <td>2.072062e+06</td>\n",
              "      <td>4.434177e+09</td>\n",
              "    </tr>\n",
              "    <tr>\n",
              "      <th>50%</th>\n",
              "      <td>2.500000</td>\n",
              "      <td>1.799364e+07</td>\n",
              "      <td>2.951822e+10</td>\n",
              "    </tr>\n",
              "    <tr>\n",
              "      <th>75%</th>\n",
              "      <td>3.250000</td>\n",
              "      <td>1.775121e+08</td>\n",
              "      <td>2.812155e+11</td>\n",
              "    </tr>\n",
              "    <tr>\n",
              "      <th>max</th>\n",
              "      <td>4.000000</td>\n",
              "      <td>3.634232e+09</td>\n",
              "      <td>4.151820e+12</td>\n",
              "    </tr>\n",
              "  </tbody>\n",
              "</table>\n",
              "</div>\n",
              "    <div class=\"colab-df-buttons\">\n",
              "\n",
              "  <div class=\"colab-df-container\">\n",
              "    <button class=\"colab-df-convert\" onclick=\"convertToInteractive('df-fe261865-708b-4ec5-8d60-8b522f88e465')\"\n",
              "            title=\"Convert this dataframe to an interactive table.\"\n",
              "            style=\"display:none;\">\n",
              "\n",
              "  <svg xmlns=\"http://www.w3.org/2000/svg\" height=\"24px\" viewBox=\"0 -960 960 960\">\n",
              "    <path d=\"M120-120v-720h720v720H120Zm60-500h600v-160H180v160Zm220 220h160v-160H400v160Zm0 220h160v-160H400v160ZM180-400h160v-160H180v160Zm440 0h160v-160H620v160ZM180-180h160v-160H180v160Zm440 0h160v-160H620v160Z\"/>\n",
              "  </svg>\n",
              "    </button>\n",
              "\n",
              "  <style>\n",
              "    .colab-df-container {\n",
              "      display:flex;\n",
              "      gap: 12px;\n",
              "    }\n",
              "\n",
              "    .colab-df-convert {\n",
              "      background-color: #E8F0FE;\n",
              "      border: none;\n",
              "      border-radius: 50%;\n",
              "      cursor: pointer;\n",
              "      display: none;\n",
              "      fill: #1967D2;\n",
              "      height: 32px;\n",
              "      padding: 0 0 0 0;\n",
              "      width: 32px;\n",
              "    }\n",
              "\n",
              "    .colab-df-convert:hover {\n",
              "      background-color: #E2EBFA;\n",
              "      box-shadow: 0px 1px 2px rgba(60, 64, 67, 0.3), 0px 1px 3px 1px rgba(60, 64, 67, 0.15);\n",
              "      fill: #174EA6;\n",
              "    }\n",
              "\n",
              "    .colab-df-buttons div {\n",
              "      margin-bottom: 4px;\n",
              "    }\n",
              "\n",
              "    [theme=dark] .colab-df-convert {\n",
              "      background-color: #3B4455;\n",
              "      fill: #D2E3FC;\n",
              "    }\n",
              "\n",
              "    [theme=dark] .colab-df-convert:hover {\n",
              "      background-color: #434B5C;\n",
              "      box-shadow: 0px 1px 3px 1px rgba(0, 0, 0, 0.15);\n",
              "      filter: drop-shadow(0px 1px 2px rgba(0, 0, 0, 0.3));\n",
              "      fill: #FFFFFF;\n",
              "    }\n",
              "  </style>\n",
              "\n",
              "    <script>\n",
              "      const buttonEl =\n",
              "        document.querySelector('#df-fe261865-708b-4ec5-8d60-8b522f88e465 button.colab-df-convert');\n",
              "      buttonEl.style.display =\n",
              "        google.colab.kernel.accessAllowed ? 'block' : 'none';\n",
              "\n",
              "      async function convertToInteractive(key) {\n",
              "        const element = document.querySelector('#df-fe261865-708b-4ec5-8d60-8b522f88e465');\n",
              "        const dataTable =\n",
              "          await google.colab.kernel.invokeFunction('convertToInteractive',\n",
              "                                                    [key], {});\n",
              "        if (!dataTable) return;\n",
              "\n",
              "        const docLinkHtml = 'Like what you see? Visit the ' +\n",
              "          '<a target=\"_blank\" href=https://colab.research.google.com/notebooks/data_table.ipynb>data table notebook</a>'\n",
              "          + ' to learn more about interactive tables.';\n",
              "        element.innerHTML = '';\n",
              "        dataTable['output_type'] = 'display_data';\n",
              "        await google.colab.output.renderOutput(dataTable, element);\n",
              "        const docLink = document.createElement('div');\n",
              "        docLink.innerHTML = docLinkHtml;\n",
              "        element.appendChild(docLink);\n",
              "      }\n",
              "    </script>\n",
              "  </div>\n",
              "\n",
              "\n",
              "<div id=\"df-bc21875d-8fbe-4eb9-8a2c-9354f412324a\">\n",
              "  <button class=\"colab-df-quickchart\" onclick=\"quickchart('df-bc21875d-8fbe-4eb9-8a2c-9354f412324a')\"\n",
              "            title=\"Suggest charts\"\n",
              "            style=\"display:none;\">\n",
              "\n",
              "<svg xmlns=\"http://www.w3.org/2000/svg\" height=\"24px\"viewBox=\"0 0 24 24\"\n",
              "     width=\"24px\">\n",
              "    <g>\n",
              "        <path d=\"M19 3H5c-1.1 0-2 .9-2 2v14c0 1.1.9 2 2 2h14c1.1 0 2-.9 2-2V5c0-1.1-.9-2-2-2zM9 17H7v-7h2v7zm4 0h-2V7h2v10zm4 0h-2v-4h2v4z\"/>\n",
              "    </g>\n",
              "</svg>\n",
              "  </button>\n",
              "\n",
              "<style>\n",
              "  .colab-df-quickchart {\n",
              "      --bg-color: #E8F0FE;\n",
              "      --fill-color: #1967D2;\n",
              "      --hover-bg-color: #E2EBFA;\n",
              "      --hover-fill-color: #174EA6;\n",
              "      --disabled-fill-color: #AAA;\n",
              "      --disabled-bg-color: #DDD;\n",
              "  }\n",
              "\n",
              "  [theme=dark] .colab-df-quickchart {\n",
              "      --bg-color: #3B4455;\n",
              "      --fill-color: #D2E3FC;\n",
              "      --hover-bg-color: #434B5C;\n",
              "      --hover-fill-color: #FFFFFF;\n",
              "      --disabled-bg-color: #3B4455;\n",
              "      --disabled-fill-color: #666;\n",
              "  }\n",
              "\n",
              "  .colab-df-quickchart {\n",
              "    background-color: var(--bg-color);\n",
              "    border: none;\n",
              "    border-radius: 50%;\n",
              "    cursor: pointer;\n",
              "    display: none;\n",
              "    fill: var(--fill-color);\n",
              "    height: 32px;\n",
              "    padding: 0;\n",
              "    width: 32px;\n",
              "  }\n",
              "\n",
              "  .colab-df-quickchart:hover {\n",
              "    background-color: var(--hover-bg-color);\n",
              "    box-shadow: 0 1px 2px rgba(60, 64, 67, 0.3), 0 1px 3px 1px rgba(60, 64, 67, 0.15);\n",
              "    fill: var(--button-hover-fill-color);\n",
              "  }\n",
              "\n",
              "  .colab-df-quickchart-complete:disabled,\n",
              "  .colab-df-quickchart-complete:disabled:hover {\n",
              "    background-color: var(--disabled-bg-color);\n",
              "    fill: var(--disabled-fill-color);\n",
              "    box-shadow: none;\n",
              "  }\n",
              "\n",
              "  .colab-df-spinner {\n",
              "    border: 2px solid var(--fill-color);\n",
              "    border-color: transparent;\n",
              "    border-bottom-color: var(--fill-color);\n",
              "    animation:\n",
              "      spin 1s steps(1) infinite;\n",
              "  }\n",
              "\n",
              "  @keyframes spin {\n",
              "    0% {\n",
              "      border-color: transparent;\n",
              "      border-bottom-color: var(--fill-color);\n",
              "      border-left-color: var(--fill-color);\n",
              "    }\n",
              "    20% {\n",
              "      border-color: transparent;\n",
              "      border-left-color: var(--fill-color);\n",
              "      border-top-color: var(--fill-color);\n",
              "    }\n",
              "    30% {\n",
              "      border-color: transparent;\n",
              "      border-left-color: var(--fill-color);\n",
              "      border-top-color: var(--fill-color);\n",
              "      border-right-color: var(--fill-color);\n",
              "    }\n",
              "    40% {\n",
              "      border-color: transparent;\n",
              "      border-right-color: var(--fill-color);\n",
              "      border-top-color: var(--fill-color);\n",
              "    }\n",
              "    60% {\n",
              "      border-color: transparent;\n",
              "      border-right-color: var(--fill-color);\n",
              "    }\n",
              "    80% {\n",
              "      border-color: transparent;\n",
              "      border-right-color: var(--fill-color);\n",
              "      border-bottom-color: var(--fill-color);\n",
              "    }\n",
              "    90% {\n",
              "      border-color: transparent;\n",
              "      border-bottom-color: var(--fill-color);\n",
              "    }\n",
              "  }\n",
              "</style>\n",
              "\n",
              "  <script>\n",
              "    async function quickchart(key) {\n",
              "      const quickchartButtonEl =\n",
              "        document.querySelector('#' + key + ' button');\n",
              "      quickchartButtonEl.disabled = true;  // To prevent multiple clicks.\n",
              "      quickchartButtonEl.classList.add('colab-df-spinner');\n",
              "      try {\n",
              "        const charts = await google.colab.kernel.invokeFunction(\n",
              "            'suggestCharts', [key], {});\n",
              "      } catch (error) {\n",
              "        console.error('Error during call to suggestCharts:', error);\n",
              "      }\n",
              "      quickchartButtonEl.classList.remove('colab-df-spinner');\n",
              "      quickchartButtonEl.classList.add('colab-df-quickchart-complete');\n",
              "    }\n",
              "    (() => {\n",
              "      let quickchartButtonEl =\n",
              "        document.querySelector('#df-bc21875d-8fbe-4eb9-8a2c-9354f412324a button');\n",
              "      quickchartButtonEl.style.display =\n",
              "        google.colab.kernel.accessAllowed ? 'block' : 'none';\n",
              "    })();\n",
              "  </script>\n",
              "</div>\n",
              "\n",
              "    </div>\n",
              "  </div>\n"
            ],
            "application/vnd.google.colaboratory.intrinsic+json": {
              "type": "dataframe",
              "summary": "{\n  \"name\": \"map_transaction\",\n  \"rows\": 8,\n  \"fields\": [\n    {\n      \"column\": \"quater\",\n      \"properties\": {\n        \"dtype\": \"number\",\n        \"std\": 355.56916460072074,\n        \"min\": 1.0,\n        \"max\": 1008.0,\n        \"num_unique_values\": 7,\n        \"samples\": [\n          1008.0,\n          2.5,\n          3.25\n        ],\n        \"semantic_type\": \"\",\n        \"description\": \"\"\n      }\n    },\n    {\n      \"column\": \"transaction_count\",\n      \"properties\": {\n        \"dtype\": \"number\",\n        \"std\": 1249968528.998581,\n        \"min\": 778.0,\n        \"max\": 3634231839.0,\n        \"num_unique_values\": 8,\n        \"samples\": [\n          233416881.81944445,\n          17993643.0,\n          1008.0\n        ],\n        \"semantic_type\": \"\",\n        \"description\": \"\"\n      }\n    },\n    {\n      \"column\": \"transaction_amount\",\n      \"properties\": {\n        \"dtype\": \"number\",\n        \"std\": 1420787512203.6118,\n        \"min\": 1008.0,\n        \"max\": 4151819803822.0,\n        \"num_unique_values\": 8,\n        \"samples\": [\n          342780054400.1838,\n          29518221935.592026,\n          1008.0\n        ],\n        \"semantic_type\": \"\",\n        \"description\": \"\"\n      }\n    }\n  ]\n}"
            }
          },
          "metadata": {},
          "execution_count": 109
        }
      ]
    },
    {
      "cell_type": "code",
      "source": [
        "print(map_transaction.columns)"
      ],
      "metadata": {
        "colab": {
          "base_uri": "https://localhost:8080/"
        },
        "id": "sWzb-7T5TTxm",
        "outputId": "996b7a1b-5b9f-414c-8ac4-e0adc8268e9d"
      },
      "execution_count": 110,
      "outputs": [
        {
          "output_type": "stream",
          "name": "stdout",
          "text": [
            "Index(['state', 'year', 'quater', 'transaction_count', 'transaction_amount'], dtype='object')\n"
          ]
        }
      ]
    },
    {
      "cell_type": "code",
      "source": [
        "# Get top 10 states by transaction volume\n",
        "top_states = map_transaction.groupby('state')['transaction_count'].sum().reset_index().nlargest(10, 'transaction_count')\n",
        "\n",
        "plt.figure(figsize=(12,6))\n",
        "sns.barplot(data=top_states, x='state', y='transaction_count', palette=\"viridis\")\n",
        "plt.title(\"📍 Top 10 States by Transaction Volume\")\n",
        "plt.xlabel(\"State\")\n",
        "plt.ylabel(\"Total Transactions\")\n",
        "plt.xticks(rotation=45)\n",
        "plt.show()"
      ],
      "metadata": {
        "colab": {
          "base_uri": "https://localhost:8080/",
          "height": 573
        },
        "id": "qcM1LtxURcui",
        "outputId": "fb89c32a-bc38-43ca-8d48-74d1457825f6"
      },
      "execution_count": 111,
      "outputs": [
        {
          "output_type": "stream",
          "name": "stderr",
          "text": [
            "<ipython-input-111-71103b0f61ff>:5: FutureWarning: \n",
            "\n",
            "Passing `palette` without assigning `hue` is deprecated and will be removed in v0.14.0. Assign the `x` variable to `hue` and set `legend=False` for the same effect.\n",
            "\n",
            "  sns.barplot(data=top_states, x='state', y='transaction_count', palette=\"viridis\")\n",
            "/usr/local/lib/python3.11/dist-packages/IPython/core/pylabtools.py:151: UserWarning: Glyph 128205 (\\N{ROUND PUSHPIN}) missing from font(s) DejaVu Sans.\n",
            "  fig.canvas.print_figure(bytes_io, **kw)\n"
          ]
        },
        {
          "output_type": "display_data",
          "data": {
            "text/plain": [
              "<Figure size 1200x600 with 1 Axes>"
            ],
            "image/png": "[encoded data removed]"
          },
          "metadata": {}
        }
      ]
    },
    {
      "cell_type": "code",
      "source": [
        "# Get top 10 states by transaction volume\n",
        "top_amount_states = map_transaction.groupby('state')['transaction_amount'].sum().reset_index().nlargest(10, 'transaction_amount')\n",
        "\n",
        "plt.figure(figsize=(12,6))\n",
        "sns.barplot(data=top_amount_states, x='state', y='transaction_amount', palette=\"viridis\")\n",
        "plt.title(\"📍 Top 10 States by Transaction Volume\")\n",
        "plt.xlabel(\"State\")\n",
        "plt.ylabel(\"Total Transactions\")\n",
        "plt.xticks(rotation=45)\n",
        "plt.show()"
      ],
      "metadata": {
        "colab": {
          "base_uri": "https://localhost:8080/",
          "height": 573
        },
        "id": "fEN8W6ZCUJr3",
        "outputId": "dbfeae2b-7734-4f71-b475-c8b1fd60401b"
      },
      "execution_count": 112,
      "outputs": [
        {
          "output_type": "stream",
          "name": "stderr",
          "text": [
            "<ipython-input-112-688e6e30475a>:5: FutureWarning: \n",
            "\n",
            "Passing `palette` without assigning `hue` is deprecated and will be removed in v0.14.0. Assign the `x` variable to `hue` and set `legend=False` for the same effect.\n",
            "\n",
            "  sns.barplot(data=top_amount_states, x='state', y='transaction_amount', palette=\"viridis\")\n",
            "/usr/local/lib/python3.11/dist-packages/IPython/core/pylabtools.py:151: UserWarning: Glyph 128205 (\\N{ROUND PUSHPIN}) missing from font(s) DejaVu Sans.\n",
            "  fig.canvas.print_figure(bytes_io, **kw)\n"
          ]
        },
        {
          "output_type": "display_data",
          "data": {
            "text/plain": [
              "<Figure size 1200x600 with 1 Axes>"
            ],
            "image/png": "[encoded data removed]"
          },
          "metadata": {}
        }
      ]
    },
    {
      "cell_type": "markdown",
      "source": [
        "## 5. User Registration & Growth Analysis"
      ],
      "metadata": {
        "id": "dq8Wx7fzVG2V"
      }
    },
    {
      "cell_type": "code",
      "source": [
        "map_user.head(5)"
      ],
      "metadata": {
        "colab": {
          "base_uri": "https://localhost:8080/",
          "height": 206
        },
        "id": "m716EKQBVJt0",
        "outputId": "31f8cdd7-c95b-447b-ab44-b7ca0155c95b"
      },
      "execution_count": 113,
      "outputs": [
        {
          "output_type": "execute_result",
          "data": {
            "text/plain": [
              "        state  year  quarter             district  registered_users  app_opens\n",
              "0  puducherry  2020        3    karaikal district             26910     303955\n",
              "1  puducherry  2020        3  puducherry district            239707    3437500\n",
              "2  puducherry  2020        3       yanam district             11054     396823\n",
              "3  puducherry  2020        3        mahe district              7502      83881\n",
              "4  puducherry  2020        2    karaikal district             23612     239666"
            ],
            "text/html": [
              "\n",
              "  <div id=\"df-97fcbb88-7ecc-4c57-9b86-a38703eb5bb9\" class=\"colab-df-container\">\n",
              "    <div>\n",
              "<style scoped>\n",
              "    .dataframe tbody tr th:only-of-type {\n",
              "        vertical-align: middle;\n",
              "    }\n",
              "\n",
              "    .dataframe tbody tr th {\n",
              "        vertical-align: top;\n",
              "    }\n",
              "\n",
              "    .dataframe thead th {\n",
              "        text-align: right;\n",
              "    }\n",
              "</style>\n",
              "<table border=\"1\" class=\"dataframe\">\n",
              "  <thead>\n",
              "    <tr style=\"text-align: right;\">\n",
              "      <th></th>\n",
              "      <th>state</th>\n",
              "      <th>year</th>\n",
              "      <th>quarter</th>\n",
              "      <th>district</th>\n",
              "      <th>registered_users</th>\n",
              "      <th>app_opens</th>\n",
              "    </tr>\n",
              "  </thead>\n",
              "  <tbody>\n",
              "    <tr>\n",
              "      <th>0</th>\n",
              "      <td>puducherry</td>\n",
              "      <td>2020</td>\n",
              "      <td>3</td>\n",
              "      <td>karaikal district</td>\n",
              "      <td>26910</td>\n",
              "      <td>303955</td>\n",
              "    </tr>\n",
              "    <tr>\n",
              "      <th>1</th>\n",
              "      <td>puducherry</td>\n",
              "      <td>2020</td>\n",
              "      <td>3</td>\n",
              "      <td>puducherry district</td>\n",
              "      <td>239707</td>\n",
              "      <td>3437500</td>\n",
              "    </tr>\n",
              "    <tr>\n",
              "      <th>2</th>\n",
              "      <td>puducherry</td>\n",
              "      <td>2020</td>\n",
              "      <td>3</td>\n",
              "      <td>yanam district</td>\n",
              "      <td>11054</td>\n",
              "      <td>396823</td>\n",
              "    </tr>\n",
              "    <tr>\n",
              "      <th>3</th>\n",
              "      <td>puducherry</td>\n",
              "      <td>2020</td>\n",
              "      <td>3</td>\n",
              "      <td>mahe district</td>\n",
              "      <td>7502</td>\n",
              "      <td>83881</td>\n",
              "    </tr>\n",
              "    <tr>\n",
              "      <th>4</th>\n",
              "      <td>puducherry</td>\n",
              "      <td>2020</td>\n",
              "      <td>2</td>\n",
              "      <td>karaikal district</td>\n",
              "      <td>23612</td>\n",
              "      <td>239666</td>\n",
              "    </tr>\n",
              "  </tbody>\n",
              "</table>\n",
              "</div>\n",
              "    <div class=\"colab-df-buttons\">\n",
              "\n",
              "  <div class=\"colab-df-container\">\n",
              "    <button class=\"colab-df-convert\" onclick=\"convertToInteractive('df-97fcbb88-7ecc-4c57-9b86-a38703eb5bb9')\"\n",
              "            title=\"Convert this dataframe to an interactive table.\"\n",
              "            style=\"display:none;\">\n",
              "\n",
              "  <svg xmlns=\"http://www.w3.org/2000/svg\" height=\"24px\" viewBox=\"0 -960 960 960\">\n",
              "    <path d=\"M120-120v-720h720v720H120Zm60-500h600v-160H180v160Zm220 220h160v-160H400v160Zm0 220h160v-160H400v160ZM180-400h160v-160H180v160Zm440 0h160v-160H620v160ZM180-180h160v-160H180v160Zm440 0h160v-160H620v160Z\"/>\n",
              "  </svg>\n",
              "    </button>\n",
              "\n",
              "  <style>\n",
              "    .colab-df-container {\n",
              "      display:flex;\n",
              "      gap: 12px;\n",
              "    }\n",
              "\n",
              "    .colab-df-convert {\n",
              "      background-color: #E8F0FE;\n",
              "      border: none;\n",
              "      border-radius: 50%;\n",
              "      cursor: pointer;\n",
              "      display: none;\n",
              "      fill: #1967D2;\n",
              "      height: 32px;\n",
              "      padding: 0 0 0 0;\n",
              "      width: 32px;\n",
              "    }\n",
              "\n",
              "    .colab-df-convert:hover {\n",
              "      background-color: #E2EBFA;\n",
              "      box-shadow: 0px 1px 2px rgba(60, 64, 67, 0.3), 0px 1px 3px 1px rgba(60, 64, 67, 0.15);\n",
              "      fill: #174EA6;\n",
              "    }\n",
              "\n",
              "    .colab-df-buttons div {\n",
              "      margin-bottom: 4px;\n",
              "    }\n",
              "\n",
              "    [theme=dark] .colab-df-convert {\n",
              "      background-color: #3B4455;\n",
              "      fill: #D2E3FC;\n",
              "    }\n",
              "\n",
              "    [theme=dark] .colab-df-convert:hover {\n",
              "      background-color: #434B5C;\n",
              "      box-shadow: 0px 1px 3px 1px rgba(0, 0, 0, 0.15);\n",
              "      filter: drop-shadow(0px 1px 2px rgba(0, 0, 0, 0.3));\n",
              "      fill: #FFFFFF;\n",
              "    }\n",
              "  </style>\n",
              "\n",
              "    <script>\n",
              "      const buttonEl =\n",
              "        document.querySelector('#df-97fcbb88-7ecc-4c57-9b86-a38703eb5bb9 button.colab-df-convert');\n",
              "      buttonEl.style.display =\n",
              "        google.colab.kernel.accessAllowed ? 'block' : 'none';\n",
              "\n",
              "      async function convertToInteractive(key) {\n",
              "        const element = document.querySelector('#df-97fcbb88-7ecc-4c57-9b86-a38703eb5bb9');\n",
              "        const dataTable =\n",
              "          await google.colab.kernel.invokeFunction('convertToInteractive',\n",
              "                                                    [key], {});\n",
              "        if (!dataTable) return;\n",
              "\n",
              "        const docLinkHtml = 'Like what you see? Visit the ' +\n",
              "          '<a target=\"_blank\" href=https://colab.research.google.com/notebooks/data_table.ipynb>data table notebook</a>'\n",
              "          + ' to learn more about interactive tables.';\n",
              "        element.innerHTML = '';\n",
              "        dataTable['output_type'] = 'display_data';\n",
              "        await google.colab.output.renderOutput(dataTable, element);\n",
              "        const docLink = document.createElement('div');\n",
              "        docLink.innerHTML = docLinkHtml;\n",
              "        element.appendChild(docLink);\n",
              "      }\n",
              "    </script>\n",
              "  </div>\n",
              "\n",
              "\n",
              "<div id=\"df-1199b6fa-baa1-4850-8b71-40b85b0dfe5d\">\n",
              "  <button class=\"colab-df-quickchart\" onclick=\"quickchart('df-1199b6fa-baa1-4850-8b71-40b85b0dfe5d')\"\n",
              "            title=\"Suggest charts\"\n",
              "            style=\"display:none;\">\n",
              "\n",
              "<svg xmlns=\"http://www.w3.org/2000/svg\" height=\"24px\"viewBox=\"0 0 24 24\"\n",
              "     width=\"24px\">\n",
              "    <g>\n",
              "        <path d=\"M19 3H5c-1.1 0-2 .9-2 2v14c0 1.1.9 2 2 2h14c1.1 0 2-.9 2-2V5c0-1.1-.9-2-2-2zM9 17H7v-7h2v7zm4 0h-2V7h2v10zm4 0h-2v-4h2v4z\"/>\n",
              "    </g>\n",
              "</svg>\n",
              "  </button>\n",
              "\n",
              "<style>\n",
              "  .colab-df-quickchart {\n",
              "      --bg-color: #E8F0FE;\n",
              "      --fill-color: #1967D2;\n",
              "      --hover-bg-color: #E2EBFA;\n",
              "      --hover-fill-color: #174EA6;\n",
              "      --disabled-fill-color: #AAA;\n",
              "      --disabled-bg-color: #DDD;\n",
              "  }\n",
              "\n",
              "  [theme=dark] .colab-df-quickchart {\n",
              "      --bg-color: #3B4455;\n",
              "      --fill-color: #D2E3FC;\n",
              "      --hover-bg-color: #434B5C;\n",
              "      --hover-fill-color: #FFFFFF;\n",
              "      --disabled-bg-color: #3B4455;\n",
              "      --disabled-fill-color: #666;\n",
              "  }\n",
              "\n",
              "  .colab-df-quickchart {\n",
              "    background-color: var(--bg-color);\n",
              "    border: none;\n",
              "    border-radius: 50%;\n",
              "    cursor: pointer;\n",
              "    display: none;\n",
              "    fill: var(--fill-color);\n",
              "    height: 32px;\n",
              "    padding: 0;\n",
              "    width: 32px;\n",
              "  }\n",
              "\n",
              "  .colab-df-quickchart:hover {\n",
              "    background-color: var(--hover-bg-color);\n",
              "    box-shadow: 0 1px 2px rgba(60, 64, 67, 0.3), 0 1px 3px 1px rgba(60, 64, 67, 0.15);\n",
              "    fill: var(--button-hover-fill-color);\n",
              "  }\n",
              "\n",
              "  .colab-df-quickchart-complete:disabled,\n",
              "  .colab-df-quickchart-complete:disabled:hover {\n",
              "    background-color: var(--disabled-bg-color);\n",
              "    fill: var(--disabled-fill-color);\n",
              "    box-shadow: none;\n",
              "  }\n",
              "\n",
              "  .colab-df-spinner {\n",
              "    border: 2px solid var(--fill-color);\n",
              "    border-color: transparent;\n",
              "    border-bottom-color: var(--fill-color);\n",
              "    animation:\n",
              "      spin 1s steps(1) infinite;\n",
              "  }\n",
              "\n",
              "  @keyframes spin {\n",
              "    0% {\n",
              "      border-color: transparent;\n",
              "      border-bottom-color: var(--fill-color);\n",
              "      border-left-color: var(--fill-color);\n",
              "    }\n",
              "    20% {\n",
              "      border-color: transparent;\n",
              "      border-left-color: var(--fill-color);\n",
              "      border-top-color: var(--fill-color);\n",
              "    }\n",
              "    30% {\n",
              "      border-color: transparent;\n",
              "      border-left-color: var(--fill-color);\n",
              "      border-top-color: var(--fill-color);\n",
              "      border-right-color: var(--fill-color);\n",
              "    }\n",
              "    40% {\n",
              "      border-color: transparent;\n",
              "      border-right-color: var(--fill-color);\n",
              "      border-top-color: var(--fill-color);\n",
              "    }\n",
              "    60% {\n",
              "      border-color: transparent;\n",
              "      border-right-color: var(--fill-color);\n",
              "    }\n",
              "    80% {\n",
              "      border-color: transparent;\n",
              "      border-right-color: var(--fill-color);\n",
              "      border-bottom-color: var(--fill-color);\n",
              "    }\n",
              "    90% {\n",
              "      border-color: transparent;\n",
              "      border-bottom-color: var(--fill-color);\n",
              "    }\n",
              "  }\n",
              "</style>\n",
              "\n",
              "  <script>\n",
              "    async function quickchart(key) {\n",
              "      const quickchartButtonEl =\n",
              "        document.querySelector('#' + key + ' button');\n",
              "      quickchartButtonEl.disabled = true;  // To prevent multiple clicks.\n",
              "      quickchartButtonEl.classList.add('colab-df-spinner');\n",
              "      try {\n",
              "        const charts = await google.colab.kernel.invokeFunction(\n",
              "            'suggestCharts', [key], {});\n",
              "      } catch (error) {\n",
              "        console.error('Error during call to suggestCharts:', error);\n",
              "      }\n",
              "      quickchartButtonEl.classList.remove('colab-df-spinner');\n",
              "      quickchartButtonEl.classList.add('colab-df-quickchart-complete');\n",
              "    }\n",
              "    (() => {\n",
              "      let quickchartButtonEl =\n",
              "        document.querySelector('#df-1199b6fa-baa1-4850-8b71-40b85b0dfe5d button');\n",
              "      quickchartButtonEl.style.display =\n",
              "        google.colab.kernel.accessAllowed ? 'block' : 'none';\n",
              "    })();\n",
              "  </script>\n",
              "</div>\n",
              "\n",
              "    </div>\n",
              "  </div>\n"
            ],
            "application/vnd.google.colaboratory.intrinsic+json": {
              "type": "dataframe",
              "variable_name": "map_user",
              "summary": "{\n  \"name\": \"map_user\",\n  \"rows\": 20608,\n  \"fields\": [\n    {\n      \"column\": \"state\",\n      \"properties\": {\n        \"dtype\": \"category\",\n        \"num_unique_values\": 36,\n        \"samples\": [\n          \"tamil-nadu\",\n          \"tripura\",\n          \"kerala\"\n        ],\n        \"semantic_type\": \"\",\n        \"description\": \"\"\n      }\n    },\n    {\n      \"column\": \"year\",\n      \"properties\": {\n        \"dtype\": \"object\",\n        \"num_unique_values\": 7,\n        \"samples\": [\n          \"2020\",\n          \"2024\",\n          \"2019\"\n        ],\n        \"semantic_type\": \"\",\n        \"description\": \"\"\n      }\n    },\n    {\n      \"column\": \"quarter\",\n      \"properties\": {\n        \"dtype\": \"number\",\n        \"std\": 1,\n        \"min\": 1,\n        \"max\": 4,\n        \"num_unique_values\": 4,\n        \"samples\": [\n          2,\n          4,\n          3\n        ],\n        \"semantic_type\": \"\",\n        \"description\": \"\"\n      }\n    },\n    {\n      \"column\": \"district\",\n      \"properties\": {\n        \"dtype\": \"category\",\n        \"num_unique_values\": 843,\n        \"samples\": [\n          \"siddipet district\",\n          \"kohima district\",\n          \"bajali district\"\n        ],\n        \"semantic_type\": \"\",\n        \"description\": \"\"\n      }\n    },\n    {\n      \"column\": \"registered_users\",\n      \"properties\": {\n        \"dtype\": \"number\",\n        \"std\": 814849,\n        \"min\": 22,\n        \"max\": 18127475,\n        \"num_unique_values\": 20170,\n        \"samples\": [\n          339737,\n          213948,\n          168715\n        ],\n        \"semantic_type\": \"\",\n        \"description\": \"\"\n      }\n    },\n    {\n      \"column\": \"app_opens\",\n      \"properties\": {\n        \"dtype\": \"number\",\n        \"std\": 40040473,\n        \"min\": 0,\n        \"max\": 1137875291,\n        \"num_unique_values\": 16943,\n        \"samples\": [\n          16943240,\n          98423214,\n          12930339\n        ],\n        \"semantic_type\": \"\",\n        \"description\": \"\"\n      }\n    }\n  ]\n}"
            }
          },
          "metadata": {},
          "execution_count": 113
        }
      ]
    },
    {
      "cell_type": "code",
      "source": [
        "top_user.columns\n"
      ],
      "metadata": {
        "colab": {
          "base_uri": "https://localhost:8080/"
        },
        "id": "UBuY4VyiVQcI",
        "outputId": "db6181e6-b99d-47cc-cd20-47780f171fd0"
      },
      "execution_count": 114,
      "outputs": [
        {
          "output_type": "execute_result",
          "data": {
            "text/plain": [
              "Index(['state', 'year', 'quater', 'district/pincode', 'top_user_count'], dtype='object')"
            ]
          },
          "metadata": {},
          "execution_count": 114
        }
      ]
    },
    {
      "cell_type": "code",
      "source": [
        "# Get top 10 districts by user registrations\n",
        "top_states = top_user.groupby('state')['top_user_count'].sum().reset_index().nlargest(10, 'top_user_count')\n",
        "print(top_states)"
      ],
      "metadata": {
        "colab": {
          "base_uri": "https://localhost:8080/"
        },
        "id": "lvA-H0VbWZdf",
        "outputId": "91bb17a3-619b-4c22-ff01-5432b57f5b4b"
      },
      "execution_count": 115,
      "outputs": [
        {
          "output_type": "stream",
          "name": "stdout",
          "text": [
            "             state  top_user_count\n",
            "20     maharashtra       843716111\n",
            "15       karnataka       595858325\n",
            "1   andhra-pradesh       504044931\n",
            "33   uttar-pradesh       467294697\n",
            "31       telangana       447484937\n",
            "8            delhi       397748721\n",
            "35     west-bengal       397095841\n",
            "28       rajasthan       390363391\n",
            "10         gujarat       377455263\n",
            "30      tamil-nadu       336904936\n"
          ]
        }
      ]
    },
    {
      "cell_type": "code",
      "source": [
        "\n",
        "plt.figure(figsize=(12,6))\n",
        "sns.barplot(data=top_states, x='state', y='top_user_count', palette=\"magma\")\n",
        "plt.title(\"👥 Top 10 States by User Registrations\")\n",
        "plt.xlabel(\"State\")\n",
        "plt.ylabel(\"Total Registered Users\")\n",
        "plt.xticks(rotation=45)\n",
        "plt.show()"
      ],
      "metadata": {
        "colab": {
          "base_uri": "https://localhost:8080/",
          "height": 575
        },
        "id": "nn3pYNU1VTjn",
        "outputId": "51ac8ede-0e36-46c8-bb73-b69981af276c"
      },
      "execution_count": 116,
      "outputs": [
        {
          "output_type": "stream",
          "name": "stderr",
          "text": [
            "<ipython-input-116-ee9c0440f92f>:2: FutureWarning: \n",
            "\n",
            "Passing `palette` without assigning `hue` is deprecated and will be removed in v0.14.0. Assign the `x` variable to `hue` and set `legend=False` for the same effect.\n",
            "\n",
            "  sns.barplot(data=top_states, x='state', y='top_user_count', palette=\"magma\")\n",
            "/usr/local/lib/python3.11/dist-packages/IPython/core/pylabtools.py:151: UserWarning: Glyph 128101 (\\N{BUSTS IN SILHOUETTE}) missing from font(s) DejaVu Sans.\n",
            "  fig.canvas.print_figure(bytes_io, **kw)\n"
          ]
        },
        {
          "output_type": "display_data",
          "data": {
            "text/plain": [
              "<Figure size 1200x600 with 1 Axes>"
            ],
            "image/png": "[encoded data removed]"
          },
          "metadata": {}
        }
      ]
    }
  ]
}