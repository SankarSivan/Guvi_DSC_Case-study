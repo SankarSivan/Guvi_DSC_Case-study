{
  "nbformat": 4,
  "nbformat_minor": 0,
  "metadata": {
    "colab": {
      "provenance": [],
      "authorship_tag": "ABX9TyMWGw2ulqGEHa0hsd7Jw30n",
      "include_colab_link": true
    },
    "kernelspec": {
      "name": "python3",
      "display_name": "Python 3"
    },
    "language_info": {
      "name": "python"
    }
  },
  "cells": [
    {
      "cell_type": "markdown",
      "metadata": {
        "id": "view-in-github",
        "colab_type": "text"
      },
      "source": [
        "<a href=\"https://colab.research.google.com/github/SankarSivan/Guvi_DSC_Case-study/blob/main/Phonepe_Pulse.ipynb\" target=\"_parent\"><img src=\"https://colab.research.google.com/assets/colab-badge.svg\" alt=\"Open In Colab\"/></a>"
      ]
    },
    {
      "cell_type": "code",
      "execution_count": 1,
      "metadata": {
        "colab": {
          "base_uri": "https://localhost:8080/"
        },
        "id": "WXj8aLm53hoa",
        "outputId": "4a02f34f-5593-4a2c-98d4-50d2aafbe13a"
      },
      "outputs": [
        {
          "metadata": {
            "tags": null
          },
          "name": "stdout",
          "output_type": "stream",
          "text": [
            "Cloning into 'pulse'...\n",
            "remote: Enumerating objects: 16382, done.\u001b[K\n",
            "remote: Counting objects: 100% (1180/1180), done.\u001b[K\n",
            "remote: Compressing objects: 100% (1002/1002), done.\u001b[K\n",
            "remote: Total 16382 (delta 159), reused 1114 (delta 157), pack-reused 15202 (from 1)\u001b[K\n",
            "Receiving objects: 100% (16382/16382), 23.67 MiB | 5.81 MiB/s, done.\n",
            "Resolving deltas: 100% (7901/7901), done.\n",
            "Updating files: 100% (8291/8291), done.\n"
          ]
        }
      ],
      "source": [
        "!git clone https://github.com/PhonePe/pulse.git"
      ]
    },
    {
      "cell_type": "code",
      "source": [
        "import pandas as pd\n",
        "import json\n",
        "import os"
      ],
      "metadata": {
        "id": "tTzN1O8Z5q1c"
      },
      "execution_count": 5,
      "outputs": []
    },
    {
      "cell_type": "markdown",
      "source": [
        "### **1.1 Aggregated_Transaction Data Exraction**"
      ],
      "metadata": {
        "id": "MJVaMJIxgti4"
      }
    },
    {
      "cell_type": "code",
      "source": [
        "import os\n",
        "path = \"/content/pulse/data/aggregated/transaction/country/india/state\"\n",
        "Aggr_state_list = os.listdir(path)\n",
        "print(Aggr_state_list)\n"
      ],
      "metadata": {
        "colab": {
          "base_uri": "https://localhost:8080/"
        },
        "id": "Ki9LIa1S3ueE",
        "outputId": "649e9829-5dd5-45aa-883c-4e449d490862"
      },
      "execution_count": 6,
      "outputs": [
        {
          "output_type": "stream",
          "name": "stdout",
          "text": [
            "['odisha', 'gujarat', 'punjab', 'ladakh', 'bihar', 'goa', 'nagaland', 'chhattisgarh', 'tripura', 'puducherry', 'meghalaya', 'west-bengal', 'maharashtra', 'manipur', 'dadra-&-nagar-haveli-&-daman-&-diu', 'tamil-nadu', 'rajasthan', 'uttarakhand', 'telangana', 'assam', 'karnataka', 'sikkim', 'madhya-pradesh', 'haryana', 'delhi', 'himachal-pradesh', 'jharkhand', 'andhra-pradesh', 'arunachal-pradesh', 'kerala', 'jammu-&-kashmir', 'chandigarh', 'mizoram', 'andaman-&-nicobar-islands', 'lakshadweep', 'uttar-pradesh']\n"
          ]
        }
      ]
    },
    {
      "cell_type": "code",
      "source": [
        "# Extract the Aggr_data\n",
        "\n",
        "clm = {'state':[], 'year':[], 'quater':[], 'transaction_type':[], 'transaction_count':[], 'transaction_amount':[]}\n",
        "\n",
        "# pull data\n",
        "for i in Aggr_state_list:\n",
        "  p_i = path + '/' + i + '/'\n",
        "  Aggr_yr = os.listdir(p_i)\n",
        " #print(Aggr_yr)\n",
        "\n",
        "  for j in Aggr_yr:\n",
        "    p_j = p_i + j + '/'\n",
        "    Aggr_qutr = os.listdir(p_j)\n",
        "    #print(Aggr_qutr)\n",
        "\n",
        "    for k in Aggr_qutr:\n",
        "      p_k = p_j + k\n",
        "      Data = open(p_k, 'r')\n",
        "      D = json.load(Data)\n",
        "\n",
        "      for z in D['data']['transactionData']:\n",
        "        Name = z['name']\n",
        "        Count = z['paymentInstruments'][0]['count']\n",
        "        Amount = z['paymentInstruments'][0]['amount']\n",
        "        clm['transaction_type'].append(Name)\n",
        "        clm['transaction_count'].append(Count)\n",
        "        clm['transaction_amount'].append(Amount)\n",
        "        clm ['state'].append(i)\n",
        "        clm ['year'].append(j)\n",
        "        clm ['quater'].append(int(k.strip('.json')))\n",
        "\n",
        "aggr_trans = pd.DataFrame(clm)\n",
        "print(aggr_trans)\n"
      ],
      "metadata": {
        "colab": {
          "base_uri": "https://localhost:8080/"
        },
        "id": "18x66YG046KN",
        "outputId": "9c2d534f-5421-4938-9a5f-675a315aa996"
      },
      "execution_count": 8,
      "outputs": [
        {
          "output_type": "stream",
          "name": "stdout",
          "text": [
            "              state  year  quater          transaction_type  \\\n",
            "0            odisha  2019       2     Peer-to-peer payments   \n",
            "1            odisha  2019       2  Recharge & bill payments   \n",
            "2            odisha  2019       2         Merchant payments   \n",
            "3            odisha  2019       2        Financial Services   \n",
            "4            odisha  2019       2                    Others   \n",
            "...             ...   ...     ...                       ...   \n",
            "4669  uttar-pradesh  2018       1  Recharge & bill payments   \n",
            "4670  uttar-pradesh  2018       1     Peer-to-peer payments   \n",
            "4671  uttar-pradesh  2018       1         Merchant payments   \n",
            "4672  uttar-pradesh  2018       1        Financial Services   \n",
            "4673  uttar-pradesh  2018       1                    Others   \n",
            "\n",
            "      transaction_count  transaction_amount  \n",
            "0              16455353        4.142329e+10  \n",
            "1               7845252        1.506620e+09  \n",
            "2               4827067        1.664621e+09  \n",
            "3                202705        2.042421e+07  \n",
            "4                181647        1.398973e+08  \n",
            "...                 ...                 ...  \n",
            "4669            7003704        1.201828e+09  \n",
            "4670            4123625        1.178697e+10  \n",
            "4671             442436        4.283014e+08  \n",
            "4672             397328        7.515044e+07  \n",
            "4673             570712        4.477224e+08  \n",
            "\n",
            "[4674 rows x 6 columns]\n"
          ]
        }
      ]
    },
    {
      "cell_type": "markdown",
      "source": [
        "### **1.2 Aggregated User Data Extraction**"
      ],
      "metadata": {
        "id": "rA2rdY7SgPLi"
      }
    },
    {
      "cell_type": "markdown",
      "source": [
        "aggr_usr_path = \"/content/pulse/data/aggregated/user/country/india/state\"\n",
        "\n",
        "Aggr_user_state_list = os.listdir(aggr_usr_path)\n",
        "print(Aggr_user_state_list)"
      ],
      "metadata": {
        "id": "FB58Dl8Ar-kH"
      }
    },
    {
      "cell_type": "code",
      "source": [
        "# Extract the Aggr_User\n",
        "\n",
        "clm = {'state':[], 'year':[], 'quater':[], 'User_Brand':[], 'User_count':[], 'User_percentage':[]}\n",
        "\n",
        "# Define the path to the aggregated user data\n",
        "agg_usr_path = \"/content/pulse/data/aggregated/user/country/india/state\"\n",
        "#print(os.listdir(agg_usr_path))\n",
        "\n",
        "# List all states (folders) in the given path\n",
        "Aggr_user_state_list = os.listdir(agg_usr_path)\n",
        "\n",
        "# pull data\n",
        "for i in Aggr_user_state_list:\n",
        "  p_i = os.path.join(agg_usr_path, i)\n",
        "  Aggr_yr = os.listdir(p_i)\n",
        "  #print(Aggr_yr)\n",
        "\n",
        "  for j in Aggr_yr:\n",
        "    p_j = os.path.join(p_i, j)\n",
        "    Aggr_qutr = os.listdir(p_j)\n",
        "    #print(Aggr_qutr)\n",
        "\n",
        "    #The for loop for to be indented to be in the j loop\n",
        "    for k in Aggr_qutr:\n",
        "      p_k = os.path.join(p_j, k)\n",
        "      #print('p_k')\n",
        "\n",
        "    # Open and load JSON data\n",
        "    with open(p_k, 'r') as Data:\n",
        "      D = json.load(Data)\n",
        "\n",
        "    # Check if 'usersByDevice' key exists and is not None\n",
        "    if D['data'] and 'usersByDevice' in D['data'] and D['data']['usersByDevice']:\n",
        "        for z in D['data']['usersByDevice']:\n",
        "            clm['User_Brand'].append(z['brand'])\n",
        "            clm['User_count'].append(z['count'])\n",
        "            clm['User_percentage'].append(z['percentage'])\n",
        "            clm['state'].append(i)\n",
        "            clm['year'].append(j)\n",
        "            clm['quater'].append(int(k.strip('.json')))\n",
        "\n",
        "# Convert dictionary to DataFrame\n",
        "aggr_user = pd.DataFrame(clm)\n",
        "print(aggr_user)\n"
      ],
      "metadata": {
        "colab": {
          "base_uri": "https://localhost:8080/"
        },
        "id": "Mzl9rlhkNwvQ",
        "outputId": "f7436911-4134-45fb-9071-8a0ffcf04729"
      },
      "execution_count": 104,
      "outputs": [
        {
          "output_type": "stream",
          "name": "stdout",
          "text": [
            "              state  year  quater User_Brand  User_count  User_percentage\n",
            "0            odisha  2019       1     Xiaomi     1230535         0.284797\n",
            "1            odisha  2019       1    Samsung      784152         0.181485\n",
            "2            odisha  2019       1       Vivo      594900         0.137685\n",
            "3            odisha  2019       1       Oppo      518202         0.119934\n",
            "4            odisha  2019       1     Realme      263954         0.061090\n",
            "...             ...   ...     ...        ...         ...              ...\n",
            "1975  uttar-pradesh  2018       1      Apple      135698         0.028907\n",
            "1976  uttar-pradesh  2018       1     Lenovo      117510         0.025033\n",
            "1977  uttar-pradesh  2018       1   Micromax      101657         0.021656\n",
            "1978  uttar-pradesh  2018       1    OnePlus       98788         0.021044\n",
            "1979  uttar-pradesh  2018       1     Others      705885         0.150372\n",
            "\n",
            "[1980 rows x 6 columns]\n"
          ]
        }
      ]
    },
    {
      "cell_type": "markdown",
      "source": [
        "### **1.3 Aggregated_insurance_Data_Extraction**"
      ],
      "metadata": {
        "id": "YUYuwNPsHzh5"
      }
    },
    {
      "cell_type": "code",
      "source": [
        "# Extract the Aggregated_Insurance\n",
        "\n",
        "clm = {'state':[], 'year':[], 'quater':[], 'name':[], 'count':[], 'amount':[]}\n",
        "\n",
        "# Define the path to the aggregated insurance data\n",
        "aggr_insurance_path = \"/content/pulse/data/aggregated/insurance/country/india/state\"\n",
        "#print(os.listdir(aggr_insurance_path))\n",
        "\n",
        "\n",
        "# List all states (folders) in the given path\n",
        "Aggr_insurance_state_list = os.listdir(aggr_insurance_path)\n",
        "#print(Aggr_insurance_state_list)\n",
        "\n",
        "\n",
        "# pull data\n",
        "for i in Aggr_insurance_state_list:\n",
        "  p_i = os.path.join(aggr_insurance_path, i)\n",
        "  Aggr_yr = os.listdir(p_i)\n",
        "  #print(Aggr_yr)\n",
        "\n",
        "\n",
        "  for j in Aggr_yr:\n",
        "    p_j = os.path.join(p_i, j)\n",
        "    Aggr_qutr = os.listdir(p_j)\n",
        "    #print(Aggr_qutr)\n",
        "\n",
        "    #The for loop for to be indented to be in the j loop\n",
        "    for k in Aggr_qutr:\n",
        "      p_k = os.path.join(p_j, k)\n",
        "      #print(p_k)\n",
        "\n",
        "\n",
        "    # Open and load JSON data\n",
        "    with open(p_k, 'r') as Data:\n",
        "      D = json.load(Data)\n",
        "\n",
        "    # Loading data to clm\n",
        "    if D['data'] and 'transactionData' in D['data'] and D['data']['transactionData']:\n",
        "        for z in D['data']['transactionData']:\n",
        "            clm['name'].append(z['name'])\n",
        "            clm['count'].append(z['paymentInstruments'][0]['count'])\n",
        "            clm['amount'].append(z['paymentInstruments'][0]['amount'])\n",
        "            clm['state'].append(i)\n",
        "            clm['year'].append(j)\n",
        "            clm['quater'].append(int(k.strip('.json')))\n",
        "\n",
        "# Convert dictionary to DataFrame\n",
        "Aggregated_insurance = pd.DataFrame(clm)\n",
        "print(Aggregated_insurance)\n"
      ],
      "metadata": {
        "colab": {
          "base_uri": "https://localhost:8080/"
        },
        "outputId": "0b0de64d-c29b-40d9-98df-fbee407d773c",
        "id": "cILrffhdILoa"
      },
      "execution_count": 99,
      "outputs": [
        {
          "output_type": "stream",
          "name": "stdout",
          "text": [
            "             state  year  quater       name   count       amount\n",
            "0           odisha  2020       3  Insurance   10955    2640191.0\n",
            "1           odisha  2023       1  Insurance   18899   29360555.0\n",
            "2           odisha  2021       1  Insurance    8236    4383330.0\n",
            "3           odisha  2022       1  Insurance    9627   14539309.0\n",
            "4           odisha  2024       1  Insurance   27977   40032495.0\n",
            "..             ...   ...     ...        ...     ...          ...\n",
            "175  uttar-pradesh  2020       3  Insurance   18131    4436969.0\n",
            "176  uttar-pradesh  2023       1  Insurance   73080  127110494.0\n",
            "177  uttar-pradesh  2021       1  Insurance   24103   18027573.0\n",
            "178  uttar-pradesh  2022       1  Insurance   45996   73014969.0\n",
            "179  uttar-pradesh  2024       1  Insurance  103701  176442664.0\n",
            "\n",
            "[180 rows x 6 columns]\n"
          ]
        }
      ]
    },
    {
      "cell_type": "markdown",
      "source": [
        "### **2.1 Map_insurance_Data_Extraction**"
      ],
      "metadata": {
        "id": "uE5pYwLqPqZL"
      }
    },
    {
      "cell_type": "code",
      "source": [
        "# Extract the Map_Insurance\n",
        "\n",
        "clm = {'state':[], 'year':[], 'quater':[], 'name':[], 'count':[], 'amount':[]}\n",
        "\n",
        "# Define the path to the map insurance data\n",
        "map_insurance_path = \"/content/pulse/data/map/insurance/country/india/state\"\n",
        "#print(os.listdir(map_insurance_path))\n",
        "\n",
        "\n",
        "# List all states (folders) in the given path\n",
        "map_insurance_state_list = os.listdir(map_insurance_path)\n",
        "#print(map_insurance_state_list)\n",
        "\n",
        "# pull data\n",
        "for i in Aggr_insurance_state_list:\n",
        "  p_i = os.path.join(aggr_insurance_path, i)\n",
        "  Aggr_yr = os.listdir(p_i)\n",
        "  #print(Aggr_yr)\n",
        "\n",
        "  for j in Aggr_yr:\n",
        "    p_j = os.path.join(p_i, j)\n",
        "    Aggr_qutr = os.listdir(p_j)\n",
        "    #print(Aggr_qutr)\n",
        "\n",
        "    #The for loop for to be indented to be in the j loop\n",
        "    for k in Aggr_qutr:\n",
        "      p_k = os.path.join(p_j, k)\n",
        "     #print(p_k)\n",
        "\n",
        "\n",
        "    # Open and load JSON data\n",
        "    with open(p_k, 'r') as Data:\n",
        "      D = json.load(Data)\n",
        "\n",
        "    # l;oading data to clm\n",
        "    if D['data'] and 'transactionData' in D['data'] and D['data']['transactionData']:\n",
        "        for z in D['data']['transactionData']:\n",
        "            clm['name'].append(z['name'])\n",
        "            clm['count'].append(z['paymentInstruments'][0]['count'])\n",
        "            clm['amount'].append(z['paymentInstruments'][0]['amount'])\n",
        "            clm['state'].append(i)\n",
        "            clm['year'].append(j)\n",
        "            clm['quater'].append(int(k.strip('.json')))\n",
        "\n",
        "# Convert dictionary to DataFrame\n",
        "map_insurance = pd.DataFrame(clm)\n",
        "print(map_insurance)\n"
      ],
      "metadata": {
        "id": "JVGvvXiKT27J",
        "outputId": "bab1f0c0-72f9-4c44-bc33-05d8d19651e9",
        "colab": {
          "base_uri": "https://localhost:8080/",
          "height": 107
        }
      },
      "execution_count": 116,
      "outputs": [
        {
          "output_type": "execute_result",
          "data": {
            "text/plain": [
              "\"\\n    # Check if 'usersByDevice' key exists and is not None\\n    if D['data'] and 'transactionData' in D['data'] and D['data']['transactionData']:\\n        for z in D['data']['transactionData']:\\n            clm['name'].append(z['name'])\\n            clm['count'].append(z['paymentInstruments'][0]['count'])\\n            clm['amount'].append(z['paymentInstruments'][0]['amount'])\\n            clm['state'].append(i)\\n            clm['year'].append(j)\\n            clm['quater'].append(int(k.strip('.json')))\\n\\n# Convert dictionary to DataFrame\\nAggregated_insurance = pd.DataFrame(clm)\\nprint(Aggregated_insurance)\\n\""
            ],
            "application/vnd.google.colaboratory.intrinsic+json": {
              "type": "string"
            }
          },
          "metadata": {},
          "execution_count": 116
        }
      ]
    },
    {
      "cell_type": "code",
      "source": [],
      "metadata": {
        "id": "TG_nwqDAX1u4"
      },
      "execution_count": 105,
      "outputs": []
    }
  ]
}