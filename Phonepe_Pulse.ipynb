{
  "nbformat": 4,
  "nbformat_minor": 0,
  "metadata": {
    "colab": {
      "provenance": [],
      "include_colab_link": true
    },
    "kernelspec": {
      "name": "python3",
      "display_name": "Python 3"
    },
    "language_info": {
      "name": "python"
    }
  },
  "cells": [
    {
      "cell_type": "markdown",
      "metadata": {
        "id": "view-in-github",
        "colab_type": "text"
      },
      "source": [
        "<a href=\"https://colab.research.google.com/github/SankarSivan/Guvi_DSC_Case-study/blob/main/Phonepe_Pulse.ipynb\" target=\"_parent\"><img src=\"https://colab.research.google.com/assets/colab-badge.svg\" alt=\"Open In Colab\"/></a>"
      ]
    },
    {
      "cell_type": "code",
      "execution_count": 120,
      "metadata": {
        "colab": {
          "base_uri": "https://localhost:8080/"
        },
        "id": "WXj8aLm53hoa",
        "outputId": "bb0ed7af-367d-49da-d0e9-39abd9c17d4f"
      },
      "outputs": [
        {
          "output_type": "stream",
          "name": "stdout",
          "text": [
            "fatal: destination path 'pulse' already exists and is not an empty directory.\n"
          ]
        }
      ],
      "source": [
        "!git clone https://github.com/PhonePe/pulse.git"
      ]
    },
    {
      "cell_type": "code",
      "source": [
        "import pandas as pd\n",
        "import json\n",
        "import os"
      ],
      "metadata": {
        "id": "tTzN1O8Z5q1c"
      },
      "execution_count": 121,
      "outputs": []
    },
    {
      "cell_type": "code",
      "source": [
        "import seaborn as sns\n",
        "import matplotlib.pyplot as plt\n",
        "import plotly.express as px\n",
        "import streamlit as st"
      ],
      "metadata": {
        "id": "ufIbS1XmtOHE"
      },
      "execution_count": 122,
      "outputs": []
    },
    {
      "cell_type": "markdown",
      "source": [
        "# Data Extraction"
      ],
      "metadata": {
        "id": "7BfIjRrseA1w"
      }
    },
    {
      "cell_type": "markdown",
      "source": [
        "### **1.1 Aggregated Transaction**\n",
        "\n"
      ],
      "metadata": {
        "id": "MJVaMJIxgti4"
      }
    },
    {
      "cell_type": "code",
      "source": [
        "\n",
        "path = \"/content/pulse/data/aggregated/transaction/country/india/state\"\n",
        "Aggr_state_list = os.listdir(path)\n",
        "# print(Aggr_state_list)\n",
        "\n",
        "# Extract the Aggr_data\n",
        "\n",
        "clm = {'state':[], 'year':[], 'quater':[], 'transaction_type':[], 'transaction_count':[], 'transaction_amount':[]}\n",
        "\n",
        "# pull data\n",
        "for i in Aggr_state_list:\n",
        "  p_i = path + '/' + i + '/'\n",
        "  Aggr_yr = os.listdir(p_i)\n",
        "\n",
        "  #print(Aggr_yr)\n",
        "  for j in Aggr_yr:\n",
        "    p_j = p_i + j + '/'\n",
        "    Aggr_qutr = os.listdir(p_j)\n",
        "    #print(Aggr_qutr)\n",
        "\n",
        "    for k in Aggr_qutr:\n",
        "      p_k = p_j + k\n",
        "      Data = open(p_k, 'r')\n",
        "      D = json.load(Data)\n",
        "\n",
        "      for z in D['data']['transactionData']:\n",
        "        Name = z['name']\n",
        "        Count = z['paymentInstruments'][0]['count']\n",
        "        Amount = z['paymentInstruments'][0]['amount']\n",
        "        clm['transaction_type'].append(Name)\n",
        "        clm['transaction_count'].append(Count)\n",
        "        clm['transaction_amount'].append(Amount)\n",
        "        clm ['state'].append(i)\n",
        "        clm ['year'].append(j)\n",
        "        clm ['quater'].append(int(k.strip('.json')))\n",
        "\n",
        "aggr_trans = pd.DataFrame(clm)\n",
        "print(aggr_trans)\n"
      ],
      "metadata": {
        "colab": {
          "base_uri": "https://localhost:8080/"
        },
        "id": "18x66YG046KN",
        "outputId": "38f03519-a4a0-444f-a28f-877511ab1372",
        "collapsed": true
      },
      "execution_count": 123,
      "outputs": [
        {
          "output_type": "stream",
          "name": "stdout",
          "text": [
            "           state  year  quater          transaction_type  transaction_count  \\\n",
            "0     puducherry  2020       3     Peer-to-peer payments             855511   \n",
            "1     puducherry  2020       3         Merchant payments             560420   \n",
            "2     puducherry  2020       3  Recharge & bill payments             306852   \n",
            "3     puducherry  2020       3        Financial Services               3039   \n",
            "4     puducherry  2020       3                    Others               5080   \n",
            "...          ...   ...     ...                       ...                ...   \n",
            "5029  tamil-nadu  2018       4     Peer-to-peer payments           11538547   \n",
            "5030  tamil-nadu  2018       4  Recharge & bill payments            7093764   \n",
            "5031  tamil-nadu  2018       4         Merchant payments            3145621   \n",
            "5032  tamil-nadu  2018       4        Financial Services             228398   \n",
            "5033  tamil-nadu  2018       4                    Others             451114   \n",
            "\n",
            "      transaction_amount  \n",
            "0           3.116584e+09  \n",
            "1           3.355834e+08  \n",
            "2           1.389254e+08  \n",
            "3           4.788490e+06  \n",
            "4           2.199408e+06  \n",
            "...                  ...  \n",
            "5029        3.918008e+10  \n",
            "5030        2.020330e+09  \n",
            "5031        1.742903e+09  \n",
            "5032        4.657176e+07  \n",
            "5033        3.121857e+08  \n",
            "\n",
            "[5034 rows x 6 columns]\n"
          ]
        }
      ]
    },
    {
      "cell_type": "markdown",
      "source": [
        "### **1.2 Aggregated User**"
      ],
      "metadata": {
        "id": "rA2rdY7SgPLi"
      }
    },
    {
      "cell_type": "markdown",
      "source": [
        "aggr_usr_path = \"/content/pulse/data/aggregated/user/country/india/state\"\n",
        "\n",
        "Aggr_user_state_list = os.listdir(aggr_usr_path)\n",
        "print(Aggr_user_state_list)"
      ],
      "metadata": {
        "id": "FB58Dl8Ar-kH"
      }
    },
    {
      "cell_type": "code",
      "source": [
        "# Extract the Aggr_User\n",
        "\n",
        "clm = {'state':[], 'year':[], 'quater':[], 'User_Brand':[], 'User_count':[], 'User_percentage':[]}\n",
        "\n",
        "# Define the path to the aggregated user data\n",
        "agg_usr_path = \"/content/pulse/data/aggregated/user/country/india/state\"\n",
        "#print(os.listdir(agg_usr_path))\n",
        "\n",
        "# List all states (folders) in the given path\n",
        "Aggr_user_state_list = os.listdir(agg_usr_path)\n",
        "\n",
        "# pull data\n",
        "for i in Aggr_user_state_list:\n",
        "  p_i = os.path.join(agg_usr_path, i)\n",
        "  Aggr_yr = os.listdir(p_i)\n",
        "  #print(Aggr_yr)\n",
        "\n",
        "  for j in Aggr_yr:\n",
        "    p_j = os.path.join(p_i, j)\n",
        "    Aggr_qutr = os.listdir(p_j)\n",
        "    #print(Aggr_qutr)\n",
        "\n",
        "    #The for loop for to be indented to be in the j loop\n",
        "    for k in Aggr_qutr:\n",
        "      p_k = os.path.join(p_j, k)\n",
        "      #print('p_k')\n",
        "\n",
        "    # Open and load JSON data\n",
        "    with open(p_k, 'r') as Data:\n",
        "      D = json.load(Data)\n",
        "\n",
        "    # Check if 'usersByDevice' key exists and is not None\n",
        "    if D['data'] and 'usersByDevice' in D['data'] and D['data']['usersByDevice']:\n",
        "        for z in D['data']['usersByDevice']:\n",
        "            clm['User_Brand'].append(z['brand'])\n",
        "            clm['User_count'].append(z['count'])\n",
        "            clm['User_percentage'].append(z['percentage'])\n",
        "            clm['state'].append(i)\n",
        "            clm['year'].append(j)\n",
        "            clm['quater'].append(int(k.strip('.json')))\n",
        "\n",
        "# Convert dictionary to DataFrame\n",
        "aggr_user = pd.DataFrame(clm)\n",
        "print(aggr_user)\n"
      ],
      "metadata": {
        "colab": {
          "base_uri": "https://localhost:8080/"
        },
        "id": "Mzl9rlhkNwvQ",
        "outputId": "fd10cadc-0e81-424a-8006-b6120aee4ea5"
      },
      "execution_count": 125,
      "outputs": [
        {
          "output_type": "stream",
          "name": "stdout",
          "text": [
            "           state  year  quater User_Brand  User_count  User_percentage\n",
            "0     puducherry  2020       4     Xiaomi       71555         0.223871\n",
            "1     puducherry  2020       4    Samsung       63620         0.199045\n",
            "2     puducherry  2020       4       Vivo       61208         0.191499\n",
            "3     puducherry  2020       4       Oppo       33860         0.105936\n",
            "4     puducherry  2020       4     Realme       14505         0.045381\n",
            "...          ...   ...     ...        ...         ...              ...\n",
            "1579  tamil-nadu  2018       4     Lenovo      194451         0.037395\n",
            "1580  tamil-nadu  2018       4      Apple      191032         0.036738\n",
            "1581  tamil-nadu  2018       4    OnePlus      180637         0.034739\n",
            "1582  tamil-nadu  2018       4     Huawei      164880         0.031708\n",
            "1583  tamil-nadu  2018       4     Others      558850         0.107474\n",
            "\n",
            "[1584 rows x 6 columns]\n"
          ]
        }
      ]
    },
    {
      "cell_type": "markdown",
      "source": [
        "### 1.3 Aggregated insurance"
      ],
      "metadata": {
        "id": "YUYuwNPsHzh5"
      }
    },
    {
      "cell_type": "code",
      "source": [
        "# Extract the Aggregated_Insurance\n",
        "\n",
        "clm = {'state':[], 'year':[], 'quater':[], 'name':[], 'count':[], 'amount':[]}\n",
        "\n",
        "# Define the path to the aggregated insurance data\n",
        "aggr_insurance_path = \"/content/pulse/data/aggregated/insurance/country/india/state\"\n",
        "#print(os.listdir(aggr_insurance_path))\n",
        "\n",
        "\n",
        "# List all states (folders) in the given path\n",
        "Aggr_insurance_state_list = os.listdir(aggr_insurance_path)\n",
        "#print(Aggr_insurance_state_list)\n",
        "\n",
        "\n",
        "# pull data\n",
        "for i in Aggr_insurance_state_list:\n",
        "  p_i = os.path.join(aggr_insurance_path, i)\n",
        "  Aggr_yr = os.listdir(p_i)\n",
        "  #print(Aggr_yr)\n",
        "\n",
        "\n",
        "  for j in Aggr_yr:\n",
        "    p_j = os.path.join(p_i, j)\n",
        "    Aggr_qutr = os.listdir(p_j)\n",
        "    #print(Aggr_qutr)\n",
        "\n",
        "    #The for loop for to be indented to be in the j loop\n",
        "    for k in Aggr_qutr:\n",
        "      p_k = os.path.join(p_j, k)\n",
        "      #print(p_k)\n",
        "\n",
        "\n",
        "    # Open and load JSON data\n",
        "    with open(p_k, 'r') as Data:\n",
        "      D = json.load(Data)\n",
        "\n",
        "    # Loading data to clm\n",
        "    if D['data'] and 'transactionData' in D['data'] and D['data']['transactionData']:\n",
        "        for z in D['data']['transactionData']:\n",
        "            clm['name'].append(z['name'])\n",
        "            clm['count'].append(z['paymentInstruments'][0]['count'])\n",
        "            clm['amount'].append(z['paymentInstruments'][0]['amount'])\n",
        "            clm['state'].append(i)\n",
        "            clm['year'].append(j)\n",
        "            clm['quater'].append(int(k.strip('.json')))\n",
        "\n",
        "# Convert dictionary to DataFrame\n",
        "aggr_insurance = pd.DataFrame(clm)\n",
        "print(aggr_insurance)\n"
      ],
      "metadata": {
        "colab": {
          "base_uri": "https://localhost:8080/"
        },
        "outputId": "d05ad2b7-8304-4dda-b216-4695d4ea1c23",
        "id": "cILrffhdILoa"
      },
      "execution_count": 126,
      "outputs": [
        {
          "output_type": "stream",
          "name": "stdout",
          "text": [
            "          state  year  quater       name   count       amount\n",
            "0    puducherry  2020       4  Insurance     234     197955.0\n",
            "1    puducherry  2024       4  Insurance    2838    3896033.0\n",
            "2    puducherry  2021       4  Insurance     786     946607.0\n",
            "3    puducherry  2023       4  Insurance    2447    3419395.0\n",
            "4    puducherry  2022       4  Insurance    2331    2693130.0\n",
            "..          ...   ...     ...        ...     ...          ...\n",
            "174  tamil-nadu  2020       4  Insurance   10290    8993575.0\n",
            "175  tamil-nadu  2024       4  Insurance  127002  173784251.0\n",
            "176  tamil-nadu  2021       4  Insurance   33037   42184290.0\n",
            "177  tamil-nadu  2023       4  Insurance  104871  139433796.0\n",
            "178  tamil-nadu  2022       4  Insurance  125491  146457790.0\n",
            "\n",
            "[179 rows x 6 columns]\n"
          ]
        }
      ]
    },
    {
      "cell_type": "markdown",
      "source": [
        "### **2.1 Map insurance**"
      ],
      "metadata": {
        "id": "uE5pYwLqPqZL"
      }
    },
    {
      "cell_type": "code",
      "source": [
        "# Extract the Map_Insurance\n",
        "\n",
        "clm = {'state':[], 'year':[], 'quater':[], 'name':[], 'count':[], 'amount':[]}\n",
        "\n",
        "# Define the path to the map insurance data\n",
        "map_insurance_path = \"/content/pulse/data/map/insurance/country/india/state\"\n",
        "#print(os.listdir(map_insurance_path))\n",
        "\n",
        "\n",
        "# List all states (folders) in the given path\n",
        "map_insurance_state_list = os.listdir(map_insurance_path)\n",
        "#print(map_insurance_state_list)\n",
        "\n",
        "# pull data\n",
        "for i in Aggr_insurance_state_list:\n",
        "  p_i = os.path.join(aggr_insurance_path, i)\n",
        "  Aggr_yr = os.listdir(p_i)\n",
        "  #print(Aggr_yr)\n",
        "\n",
        "  for j in Aggr_yr:\n",
        "    p_j = os.path.join(p_i, j)\n",
        "    Aggr_qutr = os.listdir(p_j)\n",
        "    #print(Aggr_qutr)\n",
        "\n",
        "    #The for loop for to be indented to be in the j loop\n",
        "    for k in Aggr_qutr:\n",
        "      p_k = os.path.join(p_j, k)\n",
        "     #print(p_k)\n",
        "\n",
        "\n",
        "    # Open and load JSON data\n",
        "    with open(p_k, 'r') as Data:\n",
        "      D = json.load(Data)\n",
        "\n",
        "    # l;oading data to clm\n",
        "    if D['data'] and 'transactionData' in D['data'] and D['data']['transactionData']:\n",
        "        for z in D['data']['transactionData']:\n",
        "            clm['name'].append(z['name'])\n",
        "            clm['count'].append(z['paymentInstruments'][0]['count'])\n",
        "            clm['amount'].append(z['paymentInstruments'][0]['amount'])\n",
        "            clm['state'].append(i)\n",
        "            clm['year'].append(j)\n",
        "            clm['quater'].append(int(k.strip('.json')))\n",
        "\n",
        "# Convert dictionary to DataFrame\n",
        "map_insurance = pd.DataFrame(clm)\n",
        "print(map_insurance)\n"
      ],
      "metadata": {
        "id": "JVGvvXiKT27J",
        "outputId": "ae514816-f8f9-4c31-e6aa-8970d7b0ce84",
        "colab": {
          "base_uri": "https://localhost:8080/"
        },
        "collapsed": true
      },
      "execution_count": 127,
      "outputs": [
        {
          "output_type": "stream",
          "name": "stdout",
          "text": [
            "          state  year  quater       name   count       amount\n",
            "0    puducherry  2020       4  Insurance     234     197955.0\n",
            "1    puducherry  2024       4  Insurance    2838    3896033.0\n",
            "2    puducherry  2021       4  Insurance     786     946607.0\n",
            "3    puducherry  2023       4  Insurance    2447    3419395.0\n",
            "4    puducherry  2022       4  Insurance    2331    2693130.0\n",
            "..          ...   ...     ...        ...     ...          ...\n",
            "174  tamil-nadu  2020       4  Insurance   10290    8993575.0\n",
            "175  tamil-nadu  2024       4  Insurance  127002  173784251.0\n",
            "176  tamil-nadu  2021       4  Insurance   33037   42184290.0\n",
            "177  tamil-nadu  2023       4  Insurance  104871  139433796.0\n",
            "178  tamil-nadu  2022       4  Insurance  125491  146457790.0\n",
            "\n",
            "[179 rows x 6 columns]\n"
          ]
        }
      ]
    },
    {
      "cell_type": "markdown",
      "source": [
        "## 2.2 Map user"
      ],
      "metadata": {
        "id": "RyKjV_J68bW-"
      }
    },
    {
      "cell_type": "code",
      "source": [
        "# Define the dictionary to store extracted data\n",
        "clm_user = {'state': [], 'year': [], 'quarter': [], 'district': [], 'registered_users': [], 'app_opens': []}\n",
        "\n",
        "# Set the file path\n",
        "map_user_path = \"/content/pulse/data/map/user/hover/country/india/state\"\n",
        "state_list = os.listdir(map_user_path)\n",
        "\n",
        "for state in state_list:\n",
        "    state_path = os.path.join(map_user_path, state)\n",
        "    if not os.path.isdir(state_path):  # Skip if not a directory\n",
        "        continue\n",
        "\n",
        "    year_list = os.listdir(state_path)\n",
        "\n",
        "    for year in year_list:\n",
        "        year_path = os.path.join(state_path, year)\n",
        "        if not os.path.isdir(year_path):  # Skip if not a directory\n",
        "            continue\n",
        "\n",
        "        quarter_list = os.listdir(year_path)\n",
        "\n",
        "        for quarter in quarter_list:\n",
        "            quarter_path = os.path.join(year_path, quarter)\n",
        "            if not quarter_path.endswith('.json'):  # Ensure it's a JSON file\n",
        "                continue\n",
        "\n",
        "            with open(quarter_path, 'r') as data_file:\n",
        "                data = json.load(data_file)\n",
        "\n",
        "            if data.get(\"data\") and \"hoverData\" in data[\"data\"]:\n",
        "                for district, values in data[\"data\"][\"hoverData\"].items():\n",
        "                    clm_user['state'].append(state)\n",
        "                    clm_user['year'].append(year)\n",
        "                    clm_user['quarter'].append(int(quarter.strip('.json')))\n",
        "                    clm_user['district'].append(district)\n",
        "                    clm_user['registered_users'].append(values.get('registeredUsers', 0))\n",
        "                    clm_user['app_opens'].append(values.get('appOpens', 0))\n",
        "\n",
        "# Convert to DataFrame\n",
        "map_user = pd.DataFrame(clm_user)\n",
        "print(map_user)"
      ],
      "metadata": {
        "colab": {
          "base_uri": "https://localhost:8080/"
        },
        "id": "qPC1FNnB8BJm",
        "outputId": "18dcf640-244d-4b64-b6f6-cd5a96b74841",
        "collapsed": true
      },
      "execution_count": 128,
      "outputs": [
        {
          "output_type": "stream",
          "name": "stdout",
          "text": [
            "            state  year  quarter             district  registered_users  \\\n",
            "0      puducherry  2020        3    karaikal district             26910   \n",
            "1      puducherry  2020        3  puducherry district            239707   \n",
            "2      puducherry  2020        3       yanam district             11054   \n",
            "3      puducherry  2020        3        mahe district              7502   \n",
            "4      puducherry  2020        2    karaikal district             23612   \n",
            "...           ...   ...      ...                  ...               ...   \n",
            "20603  tamil-nadu  2018        4       theni district             49911   \n",
            "20604  tamil-nadu  2018        4     ranipet district             75577   \n",
            "20605  tamil-nadu  2018        4    namakkal district             94773   \n",
            "20606  tamil-nadu  2018        4     vellore district            103405   \n",
            "20607  tamil-nadu  2018        4  thiruvarur district             31566   \n",
            "\n",
            "       app_opens  \n",
            "0         303955  \n",
            "1        3437500  \n",
            "2         396823  \n",
            "3          83881  \n",
            "4         239666  \n",
            "...          ...  \n",
            "20603          0  \n",
            "20604          0  \n",
            "20605          0  \n",
            "20606          0  \n",
            "20607          0  \n",
            "\n",
            "[20608 rows x 6 columns]\n"
          ]
        }
      ]
    },
    {
      "cell_type": "markdown",
      "source": [
        "## 2.3 map_transaction"
      ],
      "metadata": {
        "id": "c-hbfIMQ75tS"
      }
    },
    {
      "cell_type": "code",
      "source": [
        "clm_transaction = {'state': [], 'year': [], 'quater': [], 'transaction_count': [], 'transaction_amount': []}\n",
        "\n",
        "map_transaction_path = \"/content/pulse/data/map/transaction/hover/country/india\"\n",
        "year_list = os.listdir(map_transaction_path)\n",
        "\n",
        "for year in year_list:\n",
        "    year_path = os.path.join(map_transaction_path, year)\n",
        "\n",
        "    if not os.path.isdir(year_path):  # Skip if it's not a directory\n",
        "        continue\n",
        "\n",
        "    quarter_list = os.listdir(year_path)\n",
        "\n",
        "    for quarter in quarter_list:\n",
        "        quarter_path = os.path.join(year_path, quarter)\n",
        "\n",
        "        if not quarter_path.endswith('.json'):  # Skip non-JSON files\n",
        "            continue\n",
        "\n",
        "        with open(quarter_path, 'r') as Data:\n",
        "            D = json.load(Data)\n",
        "\n",
        "        if 'data' in D and 'hoverDataList' in D['data']:\n",
        "            for entry in D['data']['hoverDataList']:\n",
        "                clm_transaction['state'].append(entry['name'])\n",
        "                clm_transaction['year'].append(year)\n",
        "                clm_transaction['quater'].append(int(quarter.strip('.json')))\n",
        "                clm_transaction['transaction_count'].append(entry['metric'][0]['count'])\n",
        "                clm_transaction['transaction_amount'].append(entry['metric'][0]['amount'])\n",
        "\n",
        "map_transaction = pd.DataFrame(clm_transaction)\n",
        "print(map_transaction)"
      ],
      "metadata": {
        "colab": {
          "base_uri": "https://localhost:8080/"
        },
        "id": "70yh1-Ds7wiW",
        "outputId": "2efb924d-6db4-492c-f91c-626dff846e20"
      },
      "execution_count": 129,
      "outputs": [
        {
          "output_type": "stream",
          "name": "stdout",
          "text": [
            "                  state  year  quater  transaction_count  transaction_amount\n",
            "0            puducherry  2020       3            1730902        3.598080e+09\n",
            "1            tamil nadu  2020       3           70277825        1.438414e+11\n",
            "2         uttar pradesh  2020       3          127405259        2.486900e+11\n",
            "3        madhya pradesh  2020       3          108579881        2.057017e+11\n",
            "4        andhra pradesh  2020       3          204902935        4.670841e+11\n",
            "...                 ...   ...     ...                ...                 ...\n",
            "1003    jammu & kashmir  2018       4            2721310        5.664720e+09\n",
            "1004                goa  2018       4             514755        1.153005e+09\n",
            "1005  arunachal pradesh  2018       4             176429        5.040400e+08\n",
            "1006              delhi  2018       4           29187719        3.972286e+10\n",
            "1007        uttarakhand  2018       4            3178761        5.654272e+09\n",
            "\n",
            "[1008 rows x 5 columns]\n"
          ]
        }
      ]
    },
    {
      "cell_type": "markdown",
      "source": [
        "## 3.1 top_insurance"
      ],
      "metadata": {
        "id": "4bQf1d8X9aa3"
      }
    },
    {
      "cell_type": "code",
      "source": [
        "# Define data structure\n",
        "clm_insurance = {'state':[], 'year':[], 'quater':[], 'district/pincode':[], 'top_insurance_count':[], 'top_insurance_amount':[]}\n",
        "\n",
        "# Define the path to the top insurance data\n",
        "top_insurance_path = \"/content/pulse/data/top/insurance/country/india/state\"\n",
        "Top_insurance_state_list = os.listdir(top_insurance_path)\n",
        "\n",
        "# Extract data\n",
        "for i in Top_insurance_state_list:\n",
        "    p_i = os.path.join(top_insurance_path, i)\n",
        "    Top_yr = os.listdir(p_i)\n",
        "\n",
        "    for j in Top_yr:\n",
        "        p_j = os.path.join(p_i, j)\n",
        "        Top_qutr = os.listdir(p_j)\n",
        "\n",
        "        for k in Top_qutr:\n",
        "            p_k = os.path.join(p_j, k)\n",
        "\n",
        "            with open(p_k, 'r') as Data:\n",
        "                D = json.load(Data)\n",
        "\n",
        "            if D['data']:\n",
        "                # Extract district data\n",
        "                if 'districts' in D['data'] and D['data']['districts']:\n",
        "                    for dist in D['data']['districts']:\n",
        "                        clm_insurance['state'].append(i)\n",
        "                        clm_insurance['year'].append(j)\n",
        "                        clm_insurance['quater'].append(int(k.strip('.json')))\n",
        "                        clm_insurance['district/pincode'].append(dist['entityName'])\n",
        "                        clm_insurance['top_insurance_count'].append(dist['metric']['count'])\n",
        "                        clm_insurance['top_insurance_amount'].append(dist['metric']['amount'])\n",
        "\n",
        "                # Extract pincode data\n",
        "                if 'pincodes' in D['data'] and D['data']['pincodes']:\n",
        "                    for pin in D['data']['pincodes']:\n",
        "                        clm_insurance['state'].append(i)\n",
        "                        clm_insurance['year'].append(j)\n",
        "                        clm_insurance['quater'].append(int(k.strip('.json')))\n",
        "                        clm_insurance['district/pincode'].append(pin['entityName'])\n",
        "                        clm_insurance['top_insurance_count'].append(pin['metric']['count'])\n",
        "                        clm_insurance['top_insurance_amount'].append(pin['metric']['amount'])\n",
        "\n",
        "# Convert dictionary to DataFrame\n",
        "top_insurance = pd.DataFrame(clm_insurance)\n",
        "print(top_insurance)"
      ],
      "metadata": {
        "colab": {
          "base_uri": "https://localhost:8080/"
        },
        "id": "9WHLkRJz9Wm7",
        "outputId": "95d941d0-8688-4d5f-cd85-af57296fc444"
      },
      "execution_count": 130,
      "outputs": [
        {
          "output_type": "stream",
          "name": "stdout",
          "text": [
            "            state  year  quater district/pincode  top_insurance_count  \\\n",
            "0      puducherry  2020       3       puducherry                  143   \n",
            "1      puducherry  2020       3            yanam                   25   \n",
            "2      puducherry  2020       3         karaikal                   14   \n",
            "3      puducherry  2020       3             mahe                    9   \n",
            "4      puducherry  2020       3           605004                   26   \n",
            "...           ...   ...     ...              ...                  ...   \n",
            "12271  tamil-nadu  2022       4           600106                  909   \n",
            "12272  tamil-nadu  2022       4           600083                  886   \n",
            "12273  tamil-nadu  2022       4           600056                  869   \n",
            "12274  tamil-nadu  2022       4           600053                  812   \n",
            "12275  tamil-nadu  2022       4           600119                  808   \n",
            "\n",
            "       top_insurance_amount  \n",
            "0                   40754.0  \n",
            "1                    6919.0  \n",
            "2                    5445.0  \n",
            "3                    5281.0  \n",
            "4                    6761.0  \n",
            "...                     ...  \n",
            "12271              889359.0  \n",
            "12272              844984.0  \n",
            "12273              865067.0  \n",
            "12274              834462.0  \n",
            "12275             1024353.0  \n",
            "\n",
            "[12276 rows x 6 columns]\n"
          ]
        }
      ]
    },
    {
      "cell_type": "markdown",
      "source": [
        "## 3.2 top transactions"
      ],
      "metadata": {
        "id": "4kSp5ZUP-nIM"
      }
    },
    {
      "cell_type": "code",
      "source": [
        "# Define data structure\n",
        "clm = {'state':[], 'year':[], 'quater':[], 'district/pincode':[], 'top_transaction_count':[], 'top_transaction_amount':[]}\n",
        "\n",
        "# Define the path to the top transactions data\n",
        "top_txn_path = \"/content/pulse/data/top/transaction/country/india/state\"\n",
        "Top_txn_state_list = os.listdir(top_txn_path)\n",
        "\n",
        "# Extract data\n",
        "for i in Top_txn_state_list:\n",
        "    p_i = os.path.join(top_txn_path, i)\n",
        "    Top_yr = os.listdir(p_i)\n",
        "\n",
        "    for j in Top_yr:\n",
        "        p_j = os.path.join(p_i, j)\n",
        "        Top_qutr = os.listdir(p_j)\n",
        "\n",
        "        for k in Top_qutr:\n",
        "            p_k = os.path.join(p_j, k)\n",
        "\n",
        "            with open(p_k, 'r') as Data:\n",
        "                D = json.load(Data)\n",
        "\n",
        "            if D['data']:\n",
        "                # Extract district data\n",
        "                if 'districts' in D['data'] and D['data']['districts']:\n",
        "                    for dist in D['data']['districts']:\n",
        "                        clm['state'].append(i)\n",
        "                        clm['year'].append(j)\n",
        "                        clm['quater'].append(int(k.strip('.json')))\n",
        "                        clm['district/pincode'].append(dist['entityName'])\n",
        "                        clm['top_transaction_count'].append(dist['metric']['count'])\n",
        "                        clm['top_transaction_amount'].append(dist['metric']['amount'])\n",
        "\n",
        "                # Extract pincode data\n",
        "                if 'pincodes' in D['data'] and D['data']['pincodes']:\n",
        "                    for pin in D['data']['pincodes']:\n",
        "                        clm['state'].append(i)\n",
        "                        clm['year'].append(j)\n",
        "                        clm['quater'].append(int(k.strip('.json')))\n",
        "                        clm['district/pincode'].append(pin['entityName'])\n",
        "                        clm['top_transaction_count'].append(pin['metric']['count'])\n",
        "                        clm['top_transaction_amount'].append(pin['metric']['amount'])\n",
        "\n",
        "# Convert dictionary to DataFrame\n",
        "top_transaction = pd.DataFrame(clm)\n",
        "print(top_transaction)"
      ],
      "metadata": {
        "colab": {
          "base_uri": "https://localhost:8080/"
        },
        "id": "KHoO_R-G-nl5",
        "outputId": "9a61efd4-544c-493c-d4c0-ce9961da25dd"
      },
      "execution_count": 131,
      "outputs": [
        {
          "output_type": "stream",
          "name": "stdout",
          "text": [
            "            state  year  quater district/pincode  top_transaction_count  \\\n",
            "0      puducherry  2020       3       puducherry                1515874   \n",
            "1      puducherry  2020       3            yanam                 105613   \n",
            "2      puducherry  2020       3         karaikal                  85556   \n",
            "3      puducherry  2020       3             mahe                  23859   \n",
            "4      puducherry  2020       3           605002                 563408   \n",
            "...           ...   ...     ...              ...                    ...   \n",
            "18290  tamil-nadu  2018       4           635126                 203970   \n",
            "18291  tamil-nadu  2018       4           641601                 183276   \n",
            "18292  tamil-nadu  2018       4           602105                 165149   \n",
            "18293  tamil-nadu  2018       4           600100                 155543   \n",
            "18294  tamil-nadu  2018       4           620001                 155412   \n",
            "\n",
            "       top_transaction_amount  \n",
            "0                3.144232e+09  \n",
            "1                2.123505e+08  \n",
            "2                2.017964e+08  \n",
            "3                3.970115e+07  \n",
            "4                1.463606e+09  \n",
            "...                       ...  \n",
            "18290            4.214194e+08  \n",
            "18291            3.526235e+08  \n",
            "18292            2.477569e+08  \n",
            "18293            2.785690e+08  \n",
            "18294            3.055017e+08  \n",
            "\n",
            "[18295 rows x 6 columns]\n"
          ]
        }
      ]
    },
    {
      "cell_type": "markdown",
      "source": [
        "## 3.3 Top_user"
      ],
      "metadata": {
        "id": "OcLUylBL7rAY"
      }
    },
    {
      "cell_type": "code",
      "source": [
        "# Define dictionary structure\n",
        "clm_user = {'state': [], 'year': [], 'quater': [], 'district/pincode': [], 'top_user_count': []}\n",
        "\n",
        "# Define the path\n",
        "top_user_path = \"/content/pulse/data/top/user/country/india/state\"\n",
        "Top_user_state_list = os.listdir(top_user_path)\n",
        "\n",
        "for i in Top_user_state_list:\n",
        "    p_i = os.path.join(top_user_path, i)\n",
        "    Top_yr = os.listdir(p_i)\n",
        "\n",
        "    for j in Top_yr:\n",
        "        p_j = os.path.join(p_i, j)\n",
        "        Top_qutr = os.listdir(p_j)\n",
        "\n",
        "        for k in Top_qutr:\n",
        "            p_k = os.path.join(p_j, k)\n",
        "\n",
        "            with open(p_k, 'r') as Data:\n",
        "                D = json.load(Data)\n",
        "\n",
        "            if D['data']:\n",
        "                # Extract district data\n",
        "                if 'districts' in D['data'] and D['data']['districts']:\n",
        "                    for dist in D['data']['districts']:\n",
        "                        clm_user['state'].append(i)\n",
        "                        clm_user['year'].append(j)\n",
        "                        clm_user['quater'].append(int(k.strip('.json')))\n",
        "                        clm_user['district/pincode'].append(dist['name'])\n",
        "                        clm_user['top_user_count'].append(dist['registeredUsers'])\n",
        "\n",
        "                # Extract pincode data\n",
        "                if 'pincodes' in D['data'] and D['data']['pincodes']:\n",
        "                    for pin in D['data']['pincodes']:\n",
        "                        clm_user['state'].append(i)\n",
        "                        clm_user['year'].append(j)\n",
        "                        clm_user['quater'].append(int(k.strip('.json')))\n",
        "                        clm_user['district/pincode'].append(pin['name'])\n",
        "                        clm_user['top_user_count'].append(pin['registeredUsers'])\n",
        "\n",
        "# Convert dictionary to DataFrame\n",
        "top_user = pd.DataFrame(clm_user)\n",
        "print(top_user)"
      ],
      "metadata": {
        "id": "2FTWcmt-Yf4f",
        "outputId": "60d71514-fad7-48a6-e2e7-33e71a0a51f7",
        "colab": {
          "base_uri": "https://localhost:8080/"
        }
      },
      "execution_count": 132,
      "outputs": [
        {
          "output_type": "stream",
          "name": "stdout",
          "text": [
            "            state  year  quater district/pincode  top_user_count\n",
            "0      puducherry  2020       3       puducherry          239707\n",
            "1      puducherry  2020       3         karaikal           26910\n",
            "2      puducherry  2020       3            yanam           11054\n",
            "3      puducherry  2020       3             mahe            7502\n",
            "4      puducherry  2020       3           605110           32402\n",
            "...           ...   ...     ...              ...             ...\n",
            "18291  tamil-nadu  2018       4           600056           34394\n",
            "18292  tamil-nadu  2018       4           635126           33327\n",
            "18293  tamil-nadu  2018       4           600119           32763\n",
            "18294  tamil-nadu  2018       4           600053           32652\n",
            "18295  tamil-nadu  2018       4           600003           31780\n",
            "\n",
            "[18296 rows x 5 columns]\n"
          ]
        }
      ]
    },
    {
      "cell_type": "code",
      "source": [],
      "metadata": {
        "id": "tNbWYTTxZBwu"
      },
      "execution_count": null,
      "outputs": []
    }
  ]
}