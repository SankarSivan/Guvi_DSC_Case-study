{
  "nbformat": 4,
  "nbformat_minor": 0,
  "metadata": {
    "colab": {
      "provenance": [],
      "toc_visible": true,
      "include_colab_link": true
    },
    "kernelspec": {
      "name": "python3",
      "display_name": "Python 3"
    },
    "language_info": {
      "name": "python"
    }
  },
  "cells": [
    {
      "cell_type": "markdown",
      "metadata": {
        "id": "view-in-github",
        "colab_type": "text"
      },
      "source": [
        "<a href=\"https://colab.research.google.com/github/SankarSivan/Guvi_DSC_Case-study/blob/main/Phonepe_Pulse.ipynb\" target=\"_parent\"><img src=\"https://colab.research.google.com/assets/colab-badge.svg\" alt=\"Open In Colab\"/></a>"
      ]
    },
    {
      "cell_type": "code",
      "execution_count": 6,
      "metadata": {
        "colab": {
          "base_uri": "https://localhost:8080/"
        },
        "id": "WXj8aLm53hoa",
        "outputId": "a02a5a4b-3664-4f53-e0e9-6c9f9913afb9"
      },
      "outputs": [
        {
          "output_type": "stream",
          "name": "stdout",
          "text": [
            "Cloning into 'pulse'...\n",
            "remote: Enumerating objects: 17904, done.\u001b[K\n",
            "remote: Counting objects: 100% (2702/2702), done.\u001b[K\n",
            "remote: Compressing objects: 100% (2153/2153), done.\u001b[K\n",
            "remote: Total 17904 (delta 842), reused 2301 (delta 507), pack-reused 15202 (from 1)\u001b[K\n",
            "Receiving objects: 100% (17904/17904), 26.21 MiB | 12.66 MiB/s, done.\n",
            "Resolving deltas: 100% (8584/8584), done.\n",
            "Updating files: 100% (9029/9029), done.\n"
          ]
        }
      ],
      "source": [
        "!git clone https://github.com/PhonePe/pulse.git"
      ]
    },
    {
      "cell_type": "code",
      "source": [
        "import pandas as pd\n",
        "import json\n",
        "import os"
      ],
      "metadata": {
        "id": "tTzN1O8Z5q1c"
      },
      "execution_count": 7,
      "outputs": []
    },
    {
      "cell_type": "markdown",
      "source": [
        "### **1.1 Aggregated_Transaction Data Exraction**"
      ],
      "metadata": {
        "id": "MJVaMJIxgti4"
      }
    },
    {
      "cell_type": "code",
      "source": [
        "import os\n",
        "path = \"/content/pulse/data/aggregated/transaction/country/india/state\"\n",
        "Aggr_state_list = os.listdir(path)\n",
        "print(Aggr_state_list)\n"
      ],
      "metadata": {
        "colab": {
          "base_uri": "https://localhost:8080/"
        },
        "id": "Ki9LIa1S3ueE",
        "outputId": "c6b7c9b3-64d8-436f-9e15-1468f368747a"
      },
      "execution_count": 8,
      "outputs": [
        {
          "output_type": "stream",
          "name": "stdout",
          "text": [
            "['manipur', 'assam', 'arunachal-pradesh', 'jammu-&-kashmir', 'jharkhand', 'himachal-pradesh', 'telangana', 'goa', 'odisha', 'bihar', 'delhi', 'chandigarh', 'ladakh', 'uttarakhand', 'mizoram', 'haryana', 'gujarat', 'nagaland', 'andhra-pradesh', 'west-bengal', 'sikkim', 'chhattisgarh', 'madhya-pradesh', 'tamil-nadu', 'karnataka', 'lakshadweep', 'puducherry', 'kerala', 'rajasthan', 'meghalaya', 'maharashtra', 'punjab', 'uttar-pradesh', 'dadra-&-nagar-haveli-&-daman-&-diu', 'tripura', 'andaman-&-nicobar-islands']\n"
          ]
        }
      ]
    },
    {
      "cell_type": "code",
      "source": [
        "# Extract the Aggr_data\n",
        "\n",
        "clm = {'state':[], 'year':[], 'quater':[], 'transaction_type':[], 'transaction_count':[], 'transaction_amount':[]}\n",
        "\n",
        "# pull data\n",
        "for i in Aggr_state_list:\n",
        "  p_i = path + '/' + i + '/'\n",
        "  Aggr_yr = os.listdir(p_i)\n",
        " #print(Aggr_yr)\n",
        "\n",
        "  for j in Aggr_yr:\n",
        "    p_j = p_i + j + '/'\n",
        "    Aggr_qutr = os.listdir(p_j)\n",
        "    #print(Aggr_qutr)\n",
        "\n",
        "    for k in Aggr_qutr:\n",
        "      p_k = p_j + k\n",
        "      Data = open(p_k, 'r')\n",
        "      D = json.load(Data)\n",
        "\n",
        "      for z in D['data']['transactionData']:\n",
        "        Name = z['name']\n",
        "        Count = z['paymentInstruments'][0]['count']\n",
        "        Amount = z['paymentInstruments'][0]['amount']\n",
        "        clm['transaction_type'].append(Name)\n",
        "        clm['transaction_count'].append(Count)\n",
        "        clm['transaction_amount'].append(Amount)\n",
        "        clm ['state'].append(i)\n",
        "        clm ['year'].append(j)\n",
        "        clm ['quater'].append(int(k.strip('.json')))\n",
        "\n",
        "aggr_trans = pd.DataFrame(clm)\n",
        "print(aggr_trans)\n"
      ],
      "metadata": {
        "colab": {
          "base_uri": "https://localhost:8080/"
        },
        "id": "18x66YG046KN",
        "outputId": "53948361-32fd-486c-be8f-b45bee5b38f7"
      },
      "execution_count": 9,
      "outputs": [
        {
          "output_type": "stream",
          "name": "stdout",
          "text": [
            "                          state  year  quater          transaction_type  \\\n",
            "0                       manipur  2021       2     Peer-to-peer payments   \n",
            "1                       manipur  2021       2  Recharge & bill payments   \n",
            "2                       manipur  2021       2         Merchant payments   \n",
            "3                       manipur  2021       2        Financial Services   \n",
            "4                       manipur  2021       2                    Others   \n",
            "...                         ...   ...     ...                       ...   \n",
            "5029  andaman-&-nicobar-islands  2020       1     Peer-to-peer payments   \n",
            "5030  andaman-&-nicobar-islands  2020       1  Recharge & bill payments   \n",
            "5031  andaman-&-nicobar-islands  2020       1         Merchant payments   \n",
            "5032  andaman-&-nicobar-islands  2020       1        Financial Services   \n",
            "5033  andaman-&-nicobar-islands  2020       1                    Others   \n",
            "\n",
            "      transaction_count  transaction_amount  \n",
            "0               1372821        7.041838e+09  \n",
            "1               1187952        3.051038e+08  \n",
            "2                510734        5.314848e+08  \n",
            "3                  4165        4.256098e+06  \n",
            "4                 10603        7.145346e+06  \n",
            "...                 ...                 ...  \n",
            "5029              18324        1.423324e+08  \n",
            "5030              18268        1.085041e+07  \n",
            "5031               4424        7.752872e+06  \n",
            "5032                 66        2.082317e+05  \n",
            "5033                216        3.323932e+05  \n",
            "\n",
            "[5034 rows x 6 columns]\n"
          ]
        }
      ]
    },
    {
      "cell_type": "markdown",
      "source": [
        "### **1.2 Aggregated User Data Extraction**"
      ],
      "metadata": {
        "id": "rA2rdY7SgPLi"
      }
    },
    {
      "cell_type": "markdown",
      "source": [
        "aggr_usr_path = \"/content/pulse/data/aggregated/user/country/india/state\"\n",
        "\n",
        "Aggr_user_state_list = os.listdir(aggr_usr_path)\n",
        "print(Aggr_user_state_list)"
      ],
      "metadata": {
        "id": "FB58Dl8Ar-kH"
      }
    },
    {
      "cell_type": "code",
      "source": [
        "# Extract the Aggr_User\n",
        "\n",
        "clm = {'state':[], 'year':[], 'quater':[], 'User_Brand':[], 'User_count':[], 'User_percentage':[]}\n",
        "\n",
        "# Define the path to the aggregated user data\n",
        "agg_usr_path = \"/content/pulse/data/aggregated/user/country/india/state\"\n",
        "#print(os.listdir(agg_usr_path))\n",
        "\n",
        "# List all states (folders) in the given path\n",
        "Aggr_user_state_list = os.listdir(agg_usr_path)\n",
        "\n",
        "# pull data\n",
        "for i in Aggr_user_state_list:\n",
        "  p_i = os.path.join(agg_usr_path, i)\n",
        "  Aggr_yr = os.listdir(p_i)\n",
        "  #print(Aggr_yr)\n",
        "\n",
        "  for j in Aggr_yr:\n",
        "    p_j = os.path.join(p_i, j)\n",
        "    Aggr_qutr = os.listdir(p_j)\n",
        "    #print(Aggr_qutr)\n",
        "\n",
        "    #The for loop for to be indented to be in the j loop\n",
        "    for k in Aggr_qutr:\n",
        "      p_k = os.path.join(p_j, k)\n",
        "      #print('p_k')\n",
        "\n",
        "    # Open and load JSON data\n",
        "    with open(p_k, 'r') as Data:\n",
        "      D = json.load(Data)\n",
        "\n",
        "    # Check if 'usersByDevice' key exists and is not None\n",
        "    if D['data'] and 'usersByDevice' in D['data'] and D['data']['usersByDevice']:\n",
        "        for z in D['data']['usersByDevice']:\n",
        "            clm['User_Brand'].append(z['brand'])\n",
        "            clm['User_count'].append(z['count'])\n",
        "            clm['User_percentage'].append(z['percentage'])\n",
        "            clm['state'].append(i)\n",
        "            clm['year'].append(j)\n",
        "            clm['quater'].append(int(k.strip('.json')))\n",
        "\n",
        "# Convert dictionary to DataFrame\n",
        "aggr_user = pd.DataFrame(clm)\n",
        "print(aggr_user)\n"
      ],
      "metadata": {
        "colab": {
          "base_uri": "https://localhost:8080/"
        },
        "id": "Mzl9rlhkNwvQ",
        "outputId": "4b8d9ab0-2bc0-4707-b451-fc154d80ecfb"
      },
      "execution_count": 10,
      "outputs": [
        {
          "output_type": "stream",
          "name": "stdout",
          "text": [
            "                          state  year  quater User_Brand  User_count  \\\n",
            "0                       manipur  2021       1     Xiaomi      149035   \n",
            "1                       manipur  2021       1    Samsung       52212   \n",
            "2                       manipur  2021       1       Vivo       37725   \n",
            "3                       manipur  2021       1       Oppo       26807   \n",
            "4                       manipur  2021       1     Realme       12487   \n",
            "...                         ...   ...     ...        ...         ...   \n",
            "1975  andaman-&-nicobar-islands  2020       1     Huawei         891   \n",
            "1976  andaman-&-nicobar-islands  2020       1      Apple         735   \n",
            "1977  andaman-&-nicobar-islands  2020       1   Motorola         715   \n",
            "1978  andaman-&-nicobar-islands  2020       1     Lenovo         500   \n",
            "1979  andaman-&-nicobar-islands  2020       1     Others        2257   \n",
            "\n",
            "      User_percentage  \n",
            "0            0.476656  \n",
            "1            0.166989  \n",
            "2            0.120655  \n",
            "3            0.085736  \n",
            "4            0.039937  \n",
            "...               ...  \n",
            "1975         0.031409  \n",
            "1976         0.025909  \n",
            "1977         0.025204  \n",
            "1978         0.017625  \n",
            "1979         0.079561  \n",
            "\n",
            "[1980 rows x 6 columns]\n"
          ]
        }
      ]
    },
    {
      "cell_type": "markdown",
      "source": [
        "### **1.3 Aggregated_insurance_Data_Extraction**"
      ],
      "metadata": {
        "id": "YUYuwNPsHzh5"
      }
    },
    {
      "cell_type": "code",
      "source": [
        "# Extract the Aggregated_Insurance\n",
        "\n",
        "clm = {'state':[], 'year':[], 'quater':[], 'name':[], 'count':[], 'amount':[]}\n",
        "\n",
        "# Define the path to the aggregated insurance data\n",
        "aggr_insurance_path = \"/content/pulse/data/aggregated/insurance/country/india/state\"\n",
        "#print(os.listdir(aggr_insurance_path))\n",
        "\n",
        "\n",
        "# List all states (folders) in the given path\n",
        "Aggr_insurance_state_list = os.listdir(aggr_insurance_path)\n",
        "#print(Aggr_insurance_state_list)\n",
        "\n",
        "\n",
        "# pull data\n",
        "for i in Aggr_insurance_state_list:\n",
        "  p_i = os.path.join(aggr_insurance_path, i)\n",
        "  Aggr_yr = os.listdir(p_i)\n",
        "  #print(Aggr_yr)\n",
        "\n",
        "\n",
        "  for j in Aggr_yr:\n",
        "    p_j = os.path.join(p_i, j)\n",
        "    Aggr_qutr = os.listdir(p_j)\n",
        "    #print(Aggr_qutr)\n",
        "\n",
        "    #The for loop for to be indented to be in the j loop\n",
        "    for k in Aggr_qutr:\n",
        "      p_k = os.path.join(p_j, k)\n",
        "      #print(p_k)\n",
        "\n",
        "\n",
        "    # Open and load JSON data\n",
        "    with open(p_k, 'r') as Data:\n",
        "      D = json.load(Data)\n",
        "\n",
        "    # Loading data to clm\n",
        "    if D['data'] and 'transactionData' in D['data'] and D['data']['transactionData']:\n",
        "        for z in D['data']['transactionData']:\n",
        "            clm['name'].append(z['name'])\n",
        "            clm['count'].append(z['paymentInstruments'][0]['count'])\n",
        "            clm['amount'].append(z['paymentInstruments'][0]['amount'])\n",
        "            clm['state'].append(i)\n",
        "            clm['year'].append(j)\n",
        "            clm['quater'].append(int(k.strip('.json')))\n",
        "\n",
        "# Convert dictionary to DataFrame\n",
        "Aggregated_insurance = pd.DataFrame(clm)\n",
        "print(Aggregated_insurance)\n"
      ],
      "metadata": {
        "colab": {
          "base_uri": "https://localhost:8080/"
        },
        "outputId": "e20082fe-26d0-4680-b0fe-407ee581e708",
        "id": "cILrffhdILoa"
      },
      "execution_count": 11,
      "outputs": [
        {
          "output_type": "stream",
          "name": "stdout",
          "text": [
            "                         state  year  quater       name  count     amount\n",
            "0                      manipur  2021       1  Insurance    136    72254.0\n",
            "1                      manipur  2023       1  Insurance    222   632084.0\n",
            "2                      manipur  2024       1  Insurance    385   685052.0\n",
            "3                      manipur  2022       1  Insurance    177   517854.0\n",
            "4                      manipur  2020       3  Insurance    134    45164.0\n",
            "..                         ...   ...     ...        ...    ...        ...\n",
            "175  andaman-&-nicobar-islands  2021       1  Insurance    225   244266.0\n",
            "176  andaman-&-nicobar-islands  2023       1  Insurance   1004  1439198.0\n",
            "177  andaman-&-nicobar-islands  2024       1  Insurance   1371  1964556.0\n",
            "178  andaman-&-nicobar-islands  2022       1  Insurance    768  1131287.0\n",
            "179  andaman-&-nicobar-islands  2020       3  Insurance     41    15380.0\n",
            "\n",
            "[180 rows x 6 columns]\n"
          ]
        }
      ]
    },
    {
      "cell_type": "markdown",
      "source": [
        "### **2.1 Map_insurance_Data_Extraction**"
      ],
      "metadata": {
        "id": "uE5pYwLqPqZL"
      }
    },
    {
      "cell_type": "code",
      "source": [
        "# Extract the Map_Insurance\n",
        "\n",
        "clm = {'state':[], 'year':[], 'quater':[], 'name':[], 'count':[], 'amount':[]}\n",
        "\n",
        "# Define the path to the map insurance data\n",
        "map_insurance_path = \"/content/pulse/data/map/insurance/country/india/state\"\n",
        "#print(os.listdir(map_insurance_path))\n",
        "\n",
        "\n",
        "# List all states (folders) in the given path\n",
        "map_insurance_state_list = os.listdir(map_insurance_path)\n",
        "#print(map_insurance_state_list)\n",
        "\n",
        "# pull data\n",
        "for i in Aggr_insurance_state_list:\n",
        "  p_i = os.path.join(aggr_insurance_path, i)\n",
        "  Aggr_yr = os.listdir(p_i)\n",
        "  #print(Aggr_yr)\n",
        "\n",
        "  for j in Aggr_yr:\n",
        "    p_j = os.path.join(p_i, j)\n",
        "    Aggr_qutr = os.listdir(p_j)\n",
        "    #print(Aggr_qutr)\n",
        "\n",
        "    #The for loop for to be indented to be in the j loop\n",
        "    for k in Aggr_qutr:\n",
        "      p_k = os.path.join(p_j, k)\n",
        "     #print(p_k)\n",
        "\n",
        "\n",
        "    # Open and load JSON data\n",
        "    with open(p_k, 'r') as Data:\n",
        "      D = json.load(Data)\n",
        "\n",
        "    # l;oading data to clm\n",
        "    if D['data'] and 'transactionData' in D['data'] and D['data']['transactionData']:\n",
        "        for z in D['data']['transactionData']:\n",
        "            clm['name'].append(z['name'])\n",
        "            clm['count'].append(z['paymentInstruments'][0]['count'])\n",
        "            clm['amount'].append(z['paymentInstruments'][0]['amount'])\n",
        "            clm['state'].append(i)\n",
        "            clm['year'].append(j)\n",
        "            clm['quater'].append(int(k.strip('.json')))\n",
        "\n",
        "# Convert dictionary to DataFrame\n",
        "map_insurance = pd.DataFrame(clm)\n",
        "print(map_insurance)\n"
      ],
      "metadata": {
        "id": "JVGvvXiKT27J",
        "outputId": "8f4b18c1-9f43-4203-8fe6-b714bba73be0",
        "colab": {
          "base_uri": "https://localhost:8080/"
        }
      },
      "execution_count": 12,
      "outputs": [
        {
          "output_type": "stream",
          "name": "stdout",
          "text": [
            "                         state  year  quater       name  count     amount\n",
            "0                      manipur  2021       1  Insurance    136    72254.0\n",
            "1                      manipur  2023       1  Insurance    222   632084.0\n",
            "2                      manipur  2024       1  Insurance    385   685052.0\n",
            "3                      manipur  2022       1  Insurance    177   517854.0\n",
            "4                      manipur  2020       3  Insurance    134    45164.0\n",
            "..                         ...   ...     ...        ...    ...        ...\n",
            "175  andaman-&-nicobar-islands  2021       1  Insurance    225   244266.0\n",
            "176  andaman-&-nicobar-islands  2023       1  Insurance   1004  1439198.0\n",
            "177  andaman-&-nicobar-islands  2024       1  Insurance   1371  1964556.0\n",
            "178  andaman-&-nicobar-islands  2022       1  Insurance    768  1131287.0\n",
            "179  andaman-&-nicobar-islands  2020       3  Insurance     41    15380.0\n",
            "\n",
            "[180 rows x 6 columns]\n"
          ]
        }
      ]
    },
    {
      "cell_type": "markdown",
      "source": [
        "## 2.2 Map user"
      ],
      "metadata": {
        "id": "RyKjV_J68bW-"
      }
    },
    {
      "cell_type": "code",
      "source": [
        "# Define the dictionary to store extracted data\n",
        "clm_user = {'state': [], 'year': [], 'quarter': [], 'district': [], 'registered_users': [], 'app_opens': []}\n",
        "\n",
        "# Set the file path\n",
        "map_user_path = \"/content/pulse/data/map/user/hover/country/india/state\"\n",
        "state_list = os.listdir(map_user_path)\n",
        "\n",
        "for state in state_list:\n",
        "    state_path = os.path.join(map_user_path, state)\n",
        "    if not os.path.isdir(state_path):  # Skip if not a directory\n",
        "        continue\n",
        "\n",
        "    year_list = os.listdir(state_path)\n",
        "\n",
        "    for year in year_list:\n",
        "        year_path = os.path.join(state_path, year)\n",
        "        if not os.path.isdir(year_path):  # Skip if not a directory\n",
        "            continue\n",
        "\n",
        "        quarter_list = os.listdir(year_path)\n",
        "\n",
        "        for quarter in quarter_list:\n",
        "            quarter_path = os.path.join(year_path, quarter)\n",
        "            if not quarter_path.endswith('.json'):  # Ensure it's a JSON file\n",
        "                continue\n",
        "\n",
        "            with open(quarter_path, 'r') as data_file:\n",
        "                data = json.load(data_file)\n",
        "\n",
        "            if data.get(\"data\") and \"hoverData\" in data[\"data\"]:\n",
        "                for district, values in data[\"data\"][\"hoverData\"].items():\n",
        "                    clm_user['state'].append(state)\n",
        "                    clm_user['year'].append(year)\n",
        "                    clm_user['quarter'].append(int(quarter.strip('.json')))\n",
        "                    clm_user['district'].append(district)\n",
        "                    clm_user['registered_users'].append(values.get('registeredUsers', 0))\n",
        "                    clm_user['app_opens'].append(values.get('appOpens', 0))\n",
        "\n",
        "# Convert to DataFrame\n",
        "map_user_df = pd.DataFrame(clm_user)\n",
        "print(map_user_df)"
      ],
      "metadata": {
        "id": "qPC1FNnB8BJm",
        "outputId": "abe0143d-4ad0-4e57-8187-ed0610a0edaf",
        "colab": {
          "base_uri": "https://localhost:8080/"
        }
      },
      "execution_count": 19,
      "outputs": [
        {
          "output_type": "stream",
          "name": "stdout",
          "text": [
            "                           state  year  quarter  \\\n",
            "0                        manipur  2021        2   \n",
            "1                        manipur  2021        2   \n",
            "2                        manipur  2021        2   \n",
            "3                        manipur  2021        2   \n",
            "4                        manipur  2021        2   \n",
            "...                          ...   ...      ...   \n",
            "20603  andaman-&-nicobar-islands  2020        3   \n",
            "20604  andaman-&-nicobar-islands  2020        3   \n",
            "20605  andaman-&-nicobar-islands  2020        1   \n",
            "20606  andaman-&-nicobar-islands  2020        1   \n",
            "20607  andaman-&-nicobar-islands  2020        1   \n",
            "\n",
            "                                district  registered_users  app_opens  \n",
            "0                     kangpokpi district             20703     699332  \n",
            "1                         noney district              3566     233348  \n",
            "2                   imphal east district             66388     698750  \n",
            "3                       thoubal district             31139     379556  \n",
            "4                      kakching district             13816     179017  \n",
            "...                                  ...               ...        ...  \n",
            "20603             south andaman district             34833     417785  \n",
            "20604                  nicobars district              1147      21227  \n",
            "20605  north and middle andaman district              3315      30444  \n",
            "20606             south andaman district             24174     151529  \n",
            "20607                  nicobars district               879      11613  \n",
            "\n",
            "[20608 rows x 6 columns]\n"
          ]
        }
      ]
    },
    {
      "cell_type": "markdown",
      "source": [
        "## 3.1 top_insurance"
      ],
      "metadata": {
        "id": "4bQf1d8X9aa3"
      }
    },
    {
      "cell_type": "code",
      "source": [
        "# Define data structure\n",
        "clm_insurance = {'state':[], 'year':[], 'quater':[], 'district/pincode':[], 'top_insurance_count':[], 'top_insurance_amount':[]}\n",
        "\n",
        "# Define the path to the top insurance data\n",
        "top_insurance_path = \"/content/pulse/data/top/insurance/country/india/state\"\n",
        "Top_insurance_state_list = os.listdir(top_insurance_path)\n",
        "\n",
        "# Extract data\n",
        "for i in Top_insurance_state_list:\n",
        "    p_i = os.path.join(top_insurance_path, i)\n",
        "    Top_yr = os.listdir(p_i)\n",
        "\n",
        "    for j in Top_yr:\n",
        "        p_j = os.path.join(p_i, j)\n",
        "        Top_qutr = os.listdir(p_j)\n",
        "\n",
        "        for k in Top_qutr:\n",
        "            p_k = os.path.join(p_j, k)\n",
        "\n",
        "            with open(p_k, 'r') as Data:\n",
        "                D = json.load(Data)\n",
        "\n",
        "            if D['data']:\n",
        "                # Extract district data\n",
        "                if 'districts' in D['data'] and D['data']['districts']:\n",
        "                    for dist in D['data']['districts']:\n",
        "                        clm_insurance['state'].append(i)\n",
        "                        clm_insurance['year'].append(j)\n",
        "                        clm_insurance['quater'].append(int(k.strip('.json')))\n",
        "                        clm_insurance['district/pincode'].append(dist['entityName'])\n",
        "                        clm_insurance['top_insurance_count'].append(dist['metric']['count'])\n",
        "                        clm_insurance['top_insurance_amount'].append(dist['metric']['amount'])\n",
        "\n",
        "                # Extract pincode data\n",
        "                if 'pincodes' in D['data'] and D['data']['pincodes']:\n",
        "                    for pin in D['data']['pincodes']:\n",
        "                        clm_insurance['state'].append(i)\n",
        "                        clm_insurance['year'].append(j)\n",
        "                        clm_insurance['quater'].append(int(k.strip('.json')))\n",
        "                        clm_insurance['district/pincode'].append(pin['entityName'])\n",
        "                        clm_insurance['top_insurance_count'].append(pin['metric']['count'])\n",
        "                        clm_insurance['top_insurance_amount'].append(pin['metric']['amount'])\n",
        "\n",
        "# Convert dictionary to DataFrame\n",
        "top_insurance = pd.DataFrame(clm_insurance)\n",
        "print(top_insurance)"
      ],
      "metadata": {
        "id": "9WHLkRJz9Wm7",
        "outputId": "b4543d5e-4d0a-4ca7-804b-501d45711deb",
        "colab": {
          "base_uri": "https://localhost:8080/"
        }
      },
      "execution_count": 21,
      "outputs": [
        {
          "output_type": "stream",
          "name": "stdout",
          "text": [
            "                           state  year  quater district/pincode  \\\n",
            "0                        manipur  2021       2      imphal west   \n",
            "1                        manipur  2021       2      imphal east   \n",
            "2                        manipur  2021       2        kangpokpi   \n",
            "3                        manipur  2021       2           ukhrul   \n",
            "4                        manipur  2021       2          thoubal   \n",
            "...                          ...   ...     ...              ...   \n",
            "12271  andaman-&-nicobar-islands  2020       3           744103   \n",
            "12272  andaman-&-nicobar-islands  2020       3           744302   \n",
            "12273  andaman-&-nicobar-islands  2020       3           744211   \n",
            "12274  andaman-&-nicobar-islands  2020       3           744301   \n",
            "12275  andaman-&-nicobar-islands  2020       3           744102   \n",
            "\n",
            "       top_insurance_count  top_insurance_amount  \n",
            "0                       37               32816.0  \n",
            "1                       36               19393.0  \n",
            "2                        9                5037.0  \n",
            "3                        8                4637.0  \n",
            "4                        7                2340.0  \n",
            "...                    ...                   ...  \n",
            "12271                    3                 947.0  \n",
            "12272                    3                 562.0  \n",
            "12273                    2                 101.0  \n",
            "12274                    2                 886.0  \n",
            "12275                    2                 314.0  \n",
            "\n",
            "[12276 rows x 6 columns]\n"
          ]
        }
      ]
    },
    {
      "cell_type": "markdown",
      "source": [
        "## 3.2 Top Transaction"
      ],
      "metadata": {
        "id": "JgN4XngP93Dn"
      }
    },
    {
      "cell_type": "code",
      "source": [
        "# Define data structure\n",
        "clm = {'state':[], 'year':[], 'quater':[], 'district/pincode':[], 'top_transaction_count':[], 'top_transaction_amount':[]}\n",
        "\n",
        "# Define the path to the top transactions data\n",
        "top_txn_path = \"/content/pulse/data/top/transaction/country/india/state\"\n",
        "Top_txn_state_list = os.listdir(top_txn_path)\n",
        "\n",
        "# Extract data\n",
        "for i in Top_txn_state_list:\n",
        "    p_i = os.path.join(top_txn_path, i)\n",
        "    Top_yr = os.listdir(p_i)\n",
        "\n",
        "    for j in Top_yr:\n",
        "        p_j = os.path.join(p_i, j)\n",
        "        Top_qutr = os.listdir(p_j)\n",
        "\n",
        "        for k in Top_qutr:\n",
        "            p_k = os.path.join(p_j, k)\n",
        "\n",
        "            with open(p_k, 'r') as Data:\n",
        "                D = json.load(Data)\n",
        "\n",
        "            if D['data']:\n",
        "                # Extract district data\n",
        "                if 'districts' in D['data'] and D['data']['districts']:\n",
        "                    for dist in D['data']['districts']:\n",
        "                        clm['state'].append(i)\n",
        "                        clm['year'].append(j)\n",
        "                        clm['quater'].append(int(k.strip('.json')))\n",
        "                        clm['district/pincode'].append(dist['entityName'])\n",
        "                        clm['top_transaction_count'].append(dist['metric']['count'])\n",
        "                        clm['top_transaction_amount'].append(dist['metric']['amount'])\n",
        "\n",
        "                # Extract pincode data\n",
        "                if 'pincodes' in D['data'] and D['data']['pincodes']:\n",
        "                    for pin in D['data']['pincodes']:\n",
        "                        clm['state'].append(i)\n",
        "                        clm['year'].append(j)\n",
        "                        clm['quater'].append(int(k.strip('.json')))\n",
        "                        clm['district/pincode'].append(pin['entityName'])\n",
        "                        clm['top_transaction_count'].append(pin['metric']['count'])\n",
        "                        clm['top_transaction_amount'].append(pin['metric']['amount'])\n",
        "\n",
        "# Convert dictionary to DataFrame\n",
        "top_transaction = pd.DataFrame(clm)\n",
        "print(top_transaction)"
      ],
      "metadata": {
        "id": "LYU40UJL9hPA",
        "outputId": "3a83278e-cdae-4ae8-e9dc-9f1cae2cd401",
        "colab": {
          "base_uri": "https://localhost:8080/"
        }
      },
      "execution_count": 24,
      "outputs": [
        {
          "output_type": "stream",
          "name": "stdout",
          "text": [
            "                           state  year  quater district/pincode  \\\n",
            "0                        manipur  2021       2      imphal west   \n",
            "1                        manipur  2021       2      imphal east   \n",
            "2                        manipur  2021       2          thoubal   \n",
            "3                        manipur  2021       2        bishnupur   \n",
            "4                        manipur  2021       2    churachandpur   \n",
            "...                          ...   ...     ...              ...   \n",
            "18290  andaman-&-nicobar-islands  2020       1           744301   \n",
            "18291  andaman-&-nicobar-islands  2020       1           744202   \n",
            "18292  andaman-&-nicobar-islands  2020       1           744104   \n",
            "18293  andaman-&-nicobar-islands  2020       1           744201   \n",
            "18294  andaman-&-nicobar-islands  2020       1           744107   \n",
            "\n",
            "       top_transaction_count  top_transaction_amount  \n",
            "0                    2353896            5.697696e+09  \n",
            "1                     179337            4.919778e+08  \n",
            "2                      91264            2.685142e+08  \n",
            "3                      89095            2.609005e+08  \n",
            "4                      80524            2.739623e+08  \n",
            "...                      ...                     ...  \n",
            "18290                   1819            6.901162e+06  \n",
            "18291                   1794            5.037742e+06  \n",
            "18292                   1302            5.293130e+06  \n",
            "18293                   1157            1.242639e+06  \n",
            "18294                   1043            2.990354e+06  \n",
            "\n",
            "[18295 rows x 6 columns]\n"
          ]
        }
      ]
    },
    {
      "cell_type": "markdown",
      "source": [
        "## 2.3 map_transaction"
      ],
      "metadata": {
        "id": "c-hbfIMQ75tS"
      }
    },
    {
      "cell_type": "code",
      "source": [
        "clm_transaction = {'state': [], 'year': [], 'quater': [], 'transaction_count': [], 'transaction_amount': []}\n",
        "\n",
        "map_transaction_path = \"/content/pulse/data/map/transaction/hover/country/india\"\n",
        "year_list = os.listdir(map_transaction_path)\n",
        "\n",
        "for year in year_list:\n",
        "    year_path = os.path.join(map_transaction_path, year)\n",
        "\n",
        "    if not os.path.isdir(year_path):  # Skip if it's not a directory\n",
        "        continue\n",
        "\n",
        "    quarter_list = os.listdir(year_path)\n",
        "\n",
        "    for quarter in quarter_list:\n",
        "        quarter_path = os.path.join(year_path, quarter)\n",
        "\n",
        "        if not quarter_path.endswith('.json'):  # Skip non-JSON files\n",
        "            continue\n",
        "\n",
        "        with open(quarter_path, 'r') as Data:\n",
        "            D = json.load(Data)\n",
        "\n",
        "        if 'data' in D and 'hoverDataList' in D['data']:\n",
        "            for entry in D['data']['hoverDataList']:\n",
        "                clm_transaction['state'].append(entry['name'])\n",
        "                clm_transaction['year'].append(year)\n",
        "                clm_transaction['quater'].append(int(quarter.strip('.json')))\n",
        "                clm_transaction['transaction_count'].append(entry['metric'][0]['count'])\n",
        "                clm_transaction['transaction_amount'].append(entry['metric'][0]['amount'])\n",
        "\n",
        "map_transaction_df = pd.DataFrame(clm_transaction)\n",
        "print(map_transaction_df)"
      ],
      "metadata": {
        "id": "70yh1-Ds7wiW",
        "outputId": "226d3a89-9ef9-4c2e-8715-14548b11c244",
        "colab": {
          "base_uri": "https://localhost:8080/"
        }
      },
      "execution_count": 16,
      "outputs": [
        {
          "output_type": "stream",
          "name": "stdout",
          "text": [
            "                  state  year  quater  transaction_count  transaction_amount\n",
            "0            puducherry  2021       2            3751387        6.498835e+09\n",
            "1            tamil nadu  2021       2          146158442        2.634873e+11\n",
            "2         uttar pradesh  2021       2          241949131        4.821725e+11\n",
            "3        madhya pradesh  2021       2          223314680        4.255008e+11\n",
            "4        andhra pradesh  2021       2          352767134        8.507375e+11\n",
            "...                 ...   ...     ...                ...                 ...\n",
            "1003    jammu & kashmir  2020       1             921630        2.937643e+09\n",
            "1004                goa  2020       1            1881237        3.410371e+09\n",
            "1005  arunachal pradesh  2020       1             567175        1.381759e+09\n",
            "1006              delhi  2020       1           81747604        1.336165e+11\n",
            "1007        uttarakhand  2020       1            9131784        1.615808e+10\n",
            "\n",
            "[1008 rows x 5 columns]\n"
          ]
        }
      ]
    },
    {
      "cell_type": "code",
      "source": [],
      "metadata": {
        "id": "XkhqDFBO9OBK"
      },
      "execution_count": null,
      "outputs": []
    },
    {
      "cell_type": "markdown",
      "source": [
        "## 3.3 Top_user"
      ],
      "metadata": {
        "id": "OcLUylBL7rAY"
      }
    },
    {
      "cell_type": "code",
      "source": [
        "# Define dictionary structure\n",
        "clm_user = {'state': [], 'year': [], 'quater': [], 'district/pincode': [], 'top_user_count': []}\n",
        "\n",
        "# Define the path\n",
        "top_user_path = \"/content/pulse/data/top/user/country/india/state\"\n",
        "Top_user_state_list = os.listdir(top_user_path)\n",
        "\n",
        "for i in Top_user_state_list:\n",
        "    p_i = os.path.join(top_user_path, i)\n",
        "    Top_yr = os.listdir(p_i)\n",
        "\n",
        "    for j in Top_yr:\n",
        "        p_j = os.path.join(p_i, j)\n",
        "        Top_qutr = os.listdir(p_j)\n",
        "\n",
        "        for k in Top_qutr:\n",
        "            p_k = os.path.join(p_j, k)\n",
        "\n",
        "            with open(p_k, 'r') as Data:\n",
        "                D = json.load(Data)\n",
        "\n",
        "            if D['data']:\n",
        "                # Extract district data\n",
        "                if 'districts' in D['data'] and D['data']['districts']:\n",
        "                    for dist in D['data']['districts']:\n",
        "                        clm_user['state'].append(i)\n",
        "                        clm_user['year'].append(j)\n",
        "                        clm_user['quater'].append(int(k.strip('.json')))\n",
        "                        clm_user['district/pincode'].append(dist['name'])\n",
        "                        clm_user['top_user_count'].append(dist['registeredUsers'])\n",
        "\n",
        "                # Extract pincode data\n",
        "                if 'pincodes' in D['data'] and D['data']['pincodes']:\n",
        "                    for pin in D['data']['pincodes']:\n",
        "                        clm_user['state'].append(i)\n",
        "                        clm_user['year'].append(j)\n",
        "                        clm_user['quater'].append(int(k.strip('.json')))\n",
        "                        clm_user['district/pincode'].append(pin['name'])\n",
        "                        clm_user['top_user_count'].append(pin['registeredUsers'])\n",
        "\n",
        "# Convert dictionary to DataFrame\n",
        "top_user = pd.DataFrame(clm_user)\n",
        "print(top_user)"
      ],
      "metadata": {
        "id": "zFpT8tn49KGA",
        "outputId": "74c10213-e2ed-4706-8c90-7a67308abea0",
        "colab": {
          "base_uri": "https://localhost:8080/"
        }
      },
      "execution_count": 20,
      "outputs": [
        {
          "output_type": "stream",
          "name": "stdout",
          "text": [
            "                           state  year  quater district/pincode  \\\n",
            "0                        manipur  2021       2      imphal west   \n",
            "1                        manipur  2021       2      imphal east   \n",
            "2                        manipur  2021       2          thoubal   \n",
            "3                        manipur  2021       2        bishnupur   \n",
            "4                        manipur  2021       2    churachandpur   \n",
            "...                          ...   ...     ...              ...   \n",
            "18291  andaman-&-nicobar-islands  2020       1           744104   \n",
            "18292  andaman-&-nicobar-islands  2020       1           744107   \n",
            "18293  andaman-&-nicobar-islands  2020       1           744112   \n",
            "18294  andaman-&-nicobar-islands  2020       1           744211   \n",
            "18295  andaman-&-nicobar-islands  2020       1           744301   \n",
            "\n",
            "       top_user_count  \n",
            "0              102833  \n",
            "1               66388  \n",
            "2               31139  \n",
            "3               29671  \n",
            "4               25573  \n",
            "...               ...  \n",
            "18291            1154  \n",
            "18292            1062  \n",
            "18293             889  \n",
            "18294             886  \n",
            "18295             669  \n",
            "\n",
            "[18296 rows x 5 columns]\n"
          ]
        }
      ]
    },
    {
      "cell_type": "markdown",
      "source": [
        "## map_transaction"
      ],
      "metadata": {
        "id": "xz0BR4PV7e9g"
      }
    }
  ]
}