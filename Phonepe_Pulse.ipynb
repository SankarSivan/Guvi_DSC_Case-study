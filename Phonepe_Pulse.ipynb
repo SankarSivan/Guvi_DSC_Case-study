{
  "nbformat": 4,
  "nbformat_minor": 0,
  "metadata": {
    "colab": {
      "provenance": [],
      "authorship_tag": "ABX9TyM8Ya6mB0npfuDdoIf2OF2n",
      "include_colab_link": true
    },
    "kernelspec": {
      "name": "python3",
      "display_name": "Python 3"
    },
    "language_info": {
      "name": "python"
    }
  },
  "cells": [
    {
      "cell_type": "markdown",
      "metadata": {
        "id": "view-in-github",
        "colab_type": "text"
      },
      "source": [
        "<a href=\"https://colab.research.google.com/github/SankarSivan/PhonePe_Pulse/blob/main/Phonepe_Pulse.ipynb\" target=\"_parent\"><img src=\"https://colab.research.google.com/assets/colab-badge.svg\" alt=\"Open In Colab\"/></a>"
      ]
    },
    {
      "cell_type": "code",
      "execution_count": 5,
      "metadata": {
        "colab": {
          "base_uri": "https://localhost:8080/"
        },
        "id": "WXj8aLm53hoa",
        "outputId": "28983003-6c33-4acb-c591-ed22da149f6d"
      },
      "outputs": [
        {
          "output_type": "stream",
          "name": "stdout",
          "text": [
            "Cloning into 'pulse'...\n",
            "remote: Enumerating objects: 16382, done.\u001b[K\n",
            "remote: Counting objects: 100% (1180/1180), done.\u001b[K\n",
            "remote: Compressing objects: 100% (1002/1002), done.\u001b[K\n",
            "remote: Total 16382 (delta 159), reused 1114 (delta 157), pack-reused 15202 (from 1)\u001b[K\n",
            "Receiving objects: 100% (16382/16382), 23.67 MiB | 15.48 MiB/s, done.\n",
            "Resolving deltas: 100% (7901/7901), done.\n",
            "Updating files: 100% (8291/8291), done.\n"
          ]
        }
      ],
      "source": [
        "!git clone https://github.com/PhonePe/pulse.git"
      ]
    },
    {
      "cell_type": "code",
      "source": [
        "import pandas as pd\n",
        "import json\n",
        "import os"
      ],
      "metadata": {
        "id": "tTzN1O8Z5q1c"
      },
      "execution_count": 6,
      "outputs": []
    },
    {
      "cell_type": "markdown",
      "source": [
        "### **Aggregated_Transaction Data Exraction**"
      ],
      "metadata": {
        "id": "MJVaMJIxgti4"
      }
    },
    {
      "cell_type": "code",
      "source": [
        "import os\n",
        "path = \"/content/pulse/data/aggregated/transaction/country/india/state\"\n",
        "Aggr_state_list = os.listdir(path)\n",
        "print(Aggr_state_list)\n"
      ],
      "metadata": {
        "colab": {
          "base_uri": "https://localhost:8080/"
        },
        "id": "Ki9LIa1S3ueE",
        "outputId": "99409a66-4bc3-4a83-9521-485a9b0c238e"
      },
      "execution_count": 7,
      "outputs": [
        {
          "output_type": "stream",
          "name": "stdout",
          "text": [
            "['punjab', 'telangana', 'jammu-&-kashmir', 'arunachal-pradesh', 'jharkhand', 'puducherry', 'meghalaya', 'dadra-&-nagar-haveli-&-daman-&-diu', 'madhya-pradesh', 'andhra-pradesh', 'himachal-pradesh', 'uttar-pradesh', 'delhi', 'rajasthan', 'mizoram', 'west-bengal', 'nagaland', 'tamil-nadu', 'chandigarh', 'karnataka', 'chhattisgarh', 'haryana', 'manipur', 'uttarakhand', 'kerala', 'goa', 'lakshadweep', 'gujarat', 'sikkim', 'bihar', 'maharashtra', 'ladakh', 'odisha', 'andaman-&-nicobar-islands', 'assam', 'tripura']\n"
          ]
        }
      ]
    },
    {
      "cell_type": "code",
      "source": [
        "# Extract the Aggr_data\n",
        "\n",
        "clm = {'state':[], 'year':[], 'quater':[], 'transaction_type':[], 'transaction_count':[], 'transaction_amount':[]}\n",
        "\n",
        "# pull data\n",
        "for i in Aggr_state_list:\n",
        "  p_i = path + '/' + i + '/'\n",
        "  Aggr_yr = os.listdir(p_i)\n",
        " #print(Aggr_yr)\n",
        "  for j in Aggr_yr:\n",
        "    p_j = p_i + j + '/'\n",
        "    Aggr_qutr = os.listdir(p_j)\n",
        "    #print(Aggr_qutr)\n",
        "    for k in Aggr_qutr:\n",
        "      p_k = p_j + k\n",
        "      Data = open(p_k, 'r')\n",
        "      D = json.load(Data)\n",
        "      for z in D['data']['transactionData']:\n",
        "        Name = z['name']\n",
        "        Count = z['paymentInstruments'][0]['count']\n",
        "        Amount = z['paymentInstruments'][0]['amount']\n",
        "        clm['transaction_type'].append(Name)\n",
        "        clm['transaction_count'].append(Count)\n",
        "        clm['transaction_amount'].append(Amount)\n",
        "        clm ['state'].append(i)\n",
        "        clm ['year'].append(j)\n",
        "        clm ['quater'].append(int(k.strip('.json')))\n",
        "aggr_trans = pd.DataFrame(clm)\n",
        "print(aggr_trans)\n",
        ""
      ],
      "metadata": {
        "colab": {
          "base_uri": "https://localhost:8080/"
        },
        "id": "18x66YG046KN",
        "outputId": "ae613cfe-6ef5-4932-b1c2-90fc21e26442"
      },
      "execution_count": 44,
      "outputs": [
        {
          "output_type": "stream",
          "name": "stdout",
          "text": [
            "        state  year  quater          transaction_type  transaction_count  \\\n",
            "0      punjab  2021       1     Peer-to-peer payments           10951083   \n",
            "1      punjab  2021       1         Merchant payments            9333364   \n",
            "2      punjab  2021       1  Recharge & bill payments            6332928   \n",
            "3      punjab  2021       1        Financial Services              43094   \n",
            "4      punjab  2021       1                    Others             110366   \n",
            "...       ...   ...     ...                       ...                ...   \n",
            "4669  tripura  2024       2         Merchant payments            7120453   \n",
            "4670  tripura  2024       2     Peer-to-peer payments            4365398   \n",
            "4671  tripura  2024       2  Recharge & bill payments            1278785   \n",
            "4672  tripura  2024       2        Financial Services              12106   \n",
            "4673  tripura  2024       2                    Others              10805   \n",
            "\n",
            "      transaction_amount  \n",
            "0           4.690863e+10  \n",
            "1           7.651005e+09  \n",
            "2           3.980874e+09  \n",
            "3           5.200948e+07  \n",
            "4           9.836646e+07  \n",
            "...                  ...  \n",
            "4669        4.810483e+09  \n",
            "4670        1.259171e+10  \n",
            "4671        7.113439e+08  \n",
            "4672        1.577720e+07  \n",
            "4673        8.117365e+06  \n",
            "\n",
            "[4674 rows x 6 columns]\n"
          ]
        }
      ]
    },
    {
      "cell_type": "markdown",
      "source": [
        "### **Aggregated User Data Extraction**"
      ],
      "metadata": {
        "id": "rA2rdY7SgPLi"
      }
    },
    {
      "cell_type": "code",
      "source": [
        "import os\n",
        "#path = \"/content/pulse/data/user/transaction/country/india/state\"\n",
        "\n"
      ],
      "metadata": {
        "colab": {
          "base_uri": "https://localhost:8080/"
        },
        "outputId": "db7ed38d-c598-4d91-d808-380a3883b5cf",
        "id": "0bZGPbkLgIFA"
      },
      "execution_count": 9,
      "outputs": [
        {
          "output_type": "stream",
          "name": "stdout",
          "text": [
            "['punjab', 'telangana', 'jammu-&-kashmir', 'arunachal-pradesh', 'jharkhand', 'puducherry', 'meghalaya', 'dadra-&-nagar-haveli-&-daman-&-diu', 'madhya-pradesh', 'andhra-pradesh', 'himachal-pradesh', 'uttar-pradesh', 'delhi', 'rajasthan', 'mizoram', 'west-bengal', 'nagaland', 'tamil-nadu', 'chandigarh', 'karnataka', 'chhattisgarh', 'haryana', 'manipur', 'uttarakhand', 'kerala', 'goa', 'lakshadweep', 'gujarat', 'sikkim', 'bihar', 'maharashtra', 'ladakh', 'odisha', 'andaman-&-nicobar-islands', 'assam', 'tripura']\n"
          ]
        }
      ]
    },
    {
      "cell_type": "code",
      "source": [
        "aggr_usr_path = \"/content/pulse/data/aggregated/user/country/india/state\"\n",
        "\n",
        "Aggr_user_state_list = os.listdir(aggr_usr_path)\n",
        "print(Aggr_user_state_list)"
      ],
      "metadata": {
        "colab": {
          "base_uri": "https://localhost:8080/"
        },
        "id": "FB58Dl8Ar-kH",
        "outputId": "f6d7593f-3275-493e-81e3-d3238d2caf41"
      },
      "execution_count": 29,
      "outputs": [
        {
          "output_type": "stream",
          "name": "stdout",
          "text": [
            "['punjab', 'telangana', 'jammu-&-kashmir', 'arunachal-pradesh', 'jharkhand', 'puducherry', 'meghalaya', 'dadra-&-nagar-haveli-&-daman-&-diu', 'madhya-pradesh', 'andhra-pradesh', 'himachal-pradesh', 'uttar-pradesh', 'delhi', 'rajasthan', 'mizoram', 'west-bengal', 'nagaland', 'tamil-nadu', 'chandigarh', 'karnataka', 'chhattisgarh', 'haryana', 'manipur', 'uttarakhand', 'kerala', 'goa', 'lakshadweep', 'gujarat', 'sikkim', 'bihar', 'maharashtra', 'ladakh', 'odisha', 'andaman-&-nicobar-islands', 'assam', 'tripura']\n"
          ]
        }
      ]
    },
    {
      "cell_type": "code",
      "source": [
        "# Extract the Aggr_User\n",
        "\n",
        "clm = {'state':[], 'year':[], 'quater':[], 'User_Brand':[], 'User_count':[], 'User_percentage':[]}\n",
        "\n",
        "# Define the path to the aggregated user data\n",
        "agg_usr_path = \"/content/pulse/data/aggregated/user/country/india/state\"\n",
        "print(os.listdir(agg_usr_path))\n",
        "\n",
        "# List all states (folders) in the given path\n",
        "Aggr_user_state_list = os.listdir(agg_usr_path)\n",
        "\n",
        "# pull data\n",
        "for i in Aggr_user_state_list:\n",
        "  p_i = path + '/' + i + '/'\n",
        "  Aggr_yr = os.listdir(p_i)\n",
        "  print(Aggr_yr)\n",
        "  for j in Aggr_yr:\n",
        "    p_j = p_i + j + '/'\n",
        "    Aggr_qutr = os.listdir(p_j)\n",
        "    print(Aggr_qutr)\n",
        "  for k in Aggr_qutr:\n",
        "      p_k = p_j + k\n",
        "  print('p_k')\n",
        "      Data = open(p_k, 'r')\n",
        "      D = json.load(Data)\n",
        "  for z in D['data']['usersByDevice']:\n",
        "        brand = z['User_brand']\n",
        "        Count = z['User_count']#[0]['count']\n",
        "        percentage = z['User_percentage']#[0]['percentage']\n",
        "        clm['User_Brand'].append(brand)\n",
        "        clm['User_count'].append(Count)\n",
        "        clm['User_percentage'].append(percentage)\n",
        "        clm ['state'].append(i)\n",
        "        clm ['year'].append(j)\n",
        "        clm ['quater'].append(int(k.strip('.json')))\n",
        "aggr_user = pd.DataFrame(clm)\n",
        "print(aggr_user)"
      ],
      "metadata": {
        "colab": {
          "base_uri": "https://localhost:8080/",
          "height": 129
        },
        "id": "Mzl9rlhkNwvQ",
        "outputId": "9a39bdcf-376e-4c51-b1d9-02ff43ab9532"
      },
      "execution_count": 61,
      "outputs": [
        {
          "output_type": "error",
          "ename": "IndentationError",
          "evalue": "unexpected indent (<ipython-input-61-31c96528825f>, line 24)",
          "traceback": [
            "\u001b[0;36m  File \u001b[0;32m\"<ipython-input-61-31c96528825f>\"\u001b[0;36m, line \u001b[0;32m24\u001b[0m\n\u001b[0;31m    Data = open(p_k, 'r')\u001b[0m\n\u001b[0m    ^\u001b[0m\n\u001b[0;31mIndentationError\u001b[0m\u001b[0;31m:\u001b[0m unexpected indent\n"
          ]
        }
      ]
    },
    {
      "cell_type": "code",
      "source": [
        "# Define the path to the aggregated user data\n",
        "agg_usr_path = \"/content/pulse/data/aggregated/user/country/india/state\"\n",
        "\n",
        "# Create a dictionary to hold extracted data\n",
        "clm = {'state': [], 'year': [], 'quater': [], 'User_Brand': [], 'User_count': [], 'User_percentage': []}\n",
        "\n",
        "# List all states (folders) in the given path\n",
        "Aggr_user_state_list = os.listdir(agg_usr_path)\n",
        "print(f\"States found: {Aggr_user_state_list}\")\n",
        "\n",
        "# Loop through states\n",
        "for state in Aggr_user_state_list:\n",
        "    state_path = os.path.join(agg_usr_path, state)  # State folder path\n",
        "    Aggr_yr = os.listdir(state_path)  # List all years for the state\n",
        "    print(f\"Years in {state}: {Aggr_yr}\")\n",
        "\n",
        "    for year in Aggr_yr:\n",
        "        year_path = os.path.join(state_path, year)  # Year folder path\n",
        "        Aggr_qutr = os.listdir(year_path)  # List all quarters for the year\n",
        "        print(f\"Quarters in {year}: {Aggr_qutr}\")\n",
        "\n",
        "        for quater in Aggr_qutr:\n",
        "            quater_path = os.path.join(year_path, quater)  # Quarter file path\n",
        "            print(f\"Processing file: {quater_path}\")\n",
        "\n",
        "            try:\n",
        "                # Open and load the JSON file\n",
        "                with open(quater_path, 'r') as Data:\n",
        "                    D = json.load(Data)\n",
        "\n",
        "                # Extract data from 'usersByDevice'\n",
        "                for z in D['data']['usersByDevice']:\n",
        "                    brand = z.get('brand', 'Unknown')  # Safely get brand\n",
        "                    count = z.get('count', 0)  # Safely get count\n",
        "                    percentage = z.get('percentage', 0.0)  # Safely get percentage\n",
        "\n",
        "                    # Append extracted data to the dictionary\n",
        "                    clm['state'].append(state)\n",
        "                    clm['year'].append(year)\n",
        "                    clm['quater'].append(int(quater.strip('.json')))  # Extract quarter as int\n",
        "                    clm['User_Brand'].append(brand)\n",
        "                    clm['User_count'].append(count)\n",
        "                    clm['User_percentage'].append(percentage)\n",
        "\n",
        "            except Exception as e:\n",
        "                print(f\"Error processing file {quater_path}: {e}\")\n",
        "\n",
        "# Convert the dictionary to a DataFrame\n",
        "aggr_user = pd.DataFrame(clm)\n",
        "\n",
        "# Display the DataFrame\n",
        "print(aggr_user)"
      ],
      "metadata": {
        "id": "X4hLEx5Dq_iK"
      },
      "execution_count": null,
      "outputs": []
    }
  ]
}