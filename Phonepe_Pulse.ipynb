{
  "nbformat": 4,
  "nbformat_minor": 0,
  "metadata": {
    "colab": {
      "provenance": [],
      "include_colab_link": true
    },
    "kernelspec": {
      "name": "python3",
      "display_name": "Python 3"
    },
    "language_info": {
      "name": "python"
    }
  },
  "cells": [
    {
      "cell_type": "markdown",
      "metadata": {
        "id": "view-in-github",
        "colab_type": "text"
      },
      "source": [
        "<a href=\"https://colab.research.google.com/github/SankarSivan/Guvi_DSC_Case-study/blob/Phonepe_Pulse/Phonepe_Pulse.ipynb\" target=\"_parent\"><img src=\"https://colab.research.google.com/assets/colab-badge.svg\" alt=\"Open In Colab\"/></a>"
      ]
    },
    {
      "cell_type": "code",
      "execution_count": 4,
      "metadata": {
        "colab": {
          "base_uri": "https://localhost:8080/"
        },
        "id": "WXj8aLm53hoa",
        "outputId": "bb6e3b18-4f06-40c0-86d6-8eecd002924d"
      },
      "outputs": [
        {
          "output_type": "stream",
          "name": "stdout",
          "text": [
            "Cloning into 'pulse'...\n",
            "remote: Enumerating objects: 17904, done.\u001b[K\n",
            "remote: Counting objects: 100% (2702/2702), done.\u001b[K\n",
            "remote: Compressing objects: 100% (2153/2153), done.\u001b[K\n",
            "remote: Total 17904 (delta 842), reused 2301 (delta 507), pack-reused 15202 (from 1)\u001b[K\n",
            "Receiving objects: 100% (17904/17904), 26.21 MiB | 16.99 MiB/s, done.\n",
            "Resolving deltas: 100% (8584/8584), done.\n",
            "Updating files: 100% (9029/9029), done.\n"
          ]
        }
      ],
      "source": [
        "!git clone https://github.com/PhonePe/pulse.git"
      ]
    },
    {
      "cell_type": "code",
      "source": [
        "import pandas as pd\n",
        "import json\n",
        "import os"
      ],
      "metadata": {
        "id": "tTzN1O8Z5q1c"
      },
      "execution_count": 5,
      "outputs": []
    },
    {
      "cell_type": "markdown",
      "source": [
        "### **1.1 Aggregated_Transaction Data Exraction**"
      ],
      "metadata": {
        "id": "MJVaMJIxgti4"
      }
    },
    {
      "cell_type": "code",
      "source": [
        "import os\n",
        "path = \"/content/pulse/data/aggregated/transaction/country/india/state\"\n",
        "Aggr_state_list = os.listdir(path)\n",
        "print(Aggr_state_list)\n"
      ],
      "metadata": {
        "colab": {
          "base_uri": "https://localhost:8080/"
        },
        "id": "Ki9LIa1S3ueE",
        "outputId": "4dbadb02-aa91-4fb0-af33-2d6f52cef974"
      },
      "execution_count": 6,
      "outputs": [
        {
          "output_type": "stream",
          "name": "stdout",
          "text": [
            "['tripura', 'arunachal-pradesh', 'andhra-pradesh', 'chandigarh', 'ladakh', 'jammu-&-kashmir', 'madhya-pradesh', 'west-bengal', 'andaman-&-nicobar-islands', 'lakshadweep', 'bihar', 'assam', 'manipur', 'uttarakhand', 'delhi', 'jharkhand', 'karnataka', 'goa', 'chhattisgarh', 'meghalaya', 'dadra-&-nagar-haveli-&-daman-&-diu', 'odisha', 'tamil-nadu', 'rajasthan', 'uttar-pradesh', 'punjab', 'sikkim', 'himachal-pradesh', 'kerala', 'puducherry', 'nagaland', 'telangana', 'mizoram', 'gujarat', 'maharashtra', 'haryana']\n"
          ]
        }
      ]
    },
    {
      "cell_type": "code",
      "source": [
        "# Extract the Aggr_data\n",
        "\n",
        "clm = {'state':[], 'year':[], 'quater':[], 'transaction_type':[], 'transaction_count':[], 'transaction_amount':[]}\n",
        "\n",
        "# pull data\n",
        "for i in Aggr_state_list:\n",
        "  p_i = path + '/' + i + '/'\n",
        "  Aggr_yr = os.listdir(p_i)\n",
        " #print(Aggr_yr)\n",
        "\n",
        "  for j in Aggr_yr:\n",
        "    p_j = p_i + j + '/'\n",
        "    Aggr_qutr = os.listdir(p_j)\n",
        "    #print(Aggr_qutr)\n",
        "\n",
        "    for k in Aggr_qutr:\n",
        "      p_k = p_j + k\n",
        "      Data = open(p_k, 'r')\n",
        "      D = json.load(Data)\n",
        "\n",
        "      for z in D['data']['transactionData']:\n",
        "        Name = z['name']\n",
        "        Count = z['paymentInstruments'][0]['count']\n",
        "        Amount = z['paymentInstruments'][0]['amount']\n",
        "        clm['transaction_type'].append(Name)\n",
        "        clm['transaction_count'].append(Count)\n",
        "        clm['transaction_amount'].append(Amount)\n",
        "        clm ['state'].append(i)\n",
        "        clm ['year'].append(j)\n",
        "        clm ['quater'].append(int(k.strip('.json')))\n",
        "\n",
        "aggr_trans = pd.DataFrame(clm)\n",
        "print(aggr_trans)\n"
      ],
      "metadata": {
        "colab": {
          "base_uri": "https://localhost:8080/"
        },
        "id": "18x66YG046KN",
        "outputId": "a3b4e5f4-6462-4308-9412-9852d5721c8f"
      },
      "execution_count": 7,
      "outputs": [
        {
          "output_type": "stream",
          "name": "stdout",
          "text": [
            "        state  year  quater          transaction_type  transaction_count  \\\n",
            "0     tripura  2021       1     Peer-to-peer payments             643366   \n",
            "1     tripura  2021       1  Recharge & bill payments             508718   \n",
            "2     tripura  2021       1         Merchant payments             350366   \n",
            "3     tripura  2021       1        Financial Services               3146   \n",
            "4     tripura  2021       1                    Others               5827   \n",
            "...       ...   ...     ...                       ...                ...   \n",
            "5029  haryana  2022       2         Merchant payments          130033573   \n",
            "5030  haryana  2022       2     Peer-to-peer payments           84219451   \n",
            "5031  haryana  2022       2  Recharge & bill payments           20011709   \n",
            "5032  haryana  2022       2        Financial Services              89805   \n",
            "5033  haryana  2022       2                    Others             345424   \n",
            "\n",
            "      transaction_amount  \n",
            "0           2.821226e+09  \n",
            "1           1.732111e+08  \n",
            "2           3.337433e+08  \n",
            "3           2.879929e+06  \n",
            "4           4.281068e+06  \n",
            "...                  ...  \n",
            "5029        7.692635e+10  \n",
            "5030        3.005048e+11  \n",
            "5031        1.745733e+10  \n",
            "5032        1.206101e+08  \n",
            "5033        2.249492e+08  \n",
            "\n",
            "[5034 rows x 6 columns]\n"
          ]
        }
      ]
    },
    {
      "cell_type": "markdown",
      "source": [
        "### **1.2 Aggregated User Data Extraction**"
      ],
      "metadata": {
        "id": "rA2rdY7SgPLi"
      }
    },
    {
      "cell_type": "markdown",
      "source": [
        "aggr_usr_path = \"/content/pulse/data/aggregated/user/country/india/state\"\n",
        "\n",
        "Aggr_user_state_list = os.listdir(aggr_usr_path)\n",
        "print(Aggr_user_state_list)"
      ],
      "metadata": {
        "id": "FB58Dl8Ar-kH"
      }
    },
    {
      "cell_type": "code",
      "source": [
        "# Extract the Aggr_User\n",
        "\n",
        "clm = {'state':[], 'year':[], 'quater':[], 'User_Brand':[], 'User_count':[], 'User_percentage':[]}\n",
        "\n",
        "# Define the path to the aggregated user data\n",
        "agg_usr_path = \"/content/pulse/data/aggregated/user/country/india/state\"\n",
        "#print(os.listdir(agg_usr_path))\n",
        "\n",
        "# List all states (folders) in the given path\n",
        "Aggr_user_state_list = os.listdir(agg_usr_path)\n",
        "\n",
        "# pull data\n",
        "for i in Aggr_user_state_list:\n",
        "  p_i = os.path.join(agg_usr_path, i)\n",
        "  Aggr_yr = os.listdir(p_i)\n",
        "  #print(Aggr_yr)\n",
        "\n",
        "  for j in Aggr_yr:\n",
        "    p_j = os.path.join(p_i, j)\n",
        "    Aggr_qutr = os.listdir(p_j)\n",
        "    #print(Aggr_qutr)\n",
        "\n",
        "    #The for loop for to be indented to be in the j loop\n",
        "    for k in Aggr_qutr:\n",
        "      p_k = os.path.join(p_j, k)\n",
        "      #print('p_k')\n",
        "\n",
        "    # Open and load JSON data\n",
        "    with open(p_k, 'r') as Data:\n",
        "      D = json.load(Data)\n",
        "\n",
        "    # Check if 'usersByDevice' key exists and is not None\n",
        "    if D['data'] and 'usersByDevice' in D['data'] and D['data']['usersByDevice']:\n",
        "        for z in D['data']['usersByDevice']:\n",
        "            clm['User_Brand'].append(z['brand'])\n",
        "            clm['User_count'].append(z['count'])\n",
        "            clm['User_percentage'].append(z['percentage'])\n",
        "            clm['state'].append(i)\n",
        "            clm['year'].append(j)\n",
        "            clm['quater'].append(int(k.strip('.json')))\n",
        "\n",
        "# Convert dictionary to DataFrame\n",
        "aggr_user = pd.DataFrame(clm)\n",
        "print(aggr_user)\n"
      ],
      "metadata": {
        "colab": {
          "base_uri": "https://localhost:8080/"
        },
        "id": "Mzl9rlhkNwvQ",
        "outputId": "decabcc8-8218-43f4-8754-d1db519e28aa"
      },
      "execution_count": 8,
      "outputs": [
        {
          "output_type": "stream",
          "name": "stdout",
          "text": [
            "        state  year  quater User_Brand  User_count  User_percentage\n",
            "0     tripura  2021       2     Xiaomi      116546         0.246839\n",
            "1     tripura  2021       2    Samsung      104057         0.220388\n",
            "2     tripura  2021       2       Oppo       66970         0.141840\n",
            "3     tripura  2021       2       Vivo       58517         0.123937\n",
            "4     tripura  2021       2     Realme       50025         0.105951\n",
            "...       ...   ...     ...        ...         ...              ...\n",
            "1579  haryana  2020       2   Motorola      151138         0.019672\n",
            "1580  haryana  2020       2    OnePlus      142338         0.018527\n",
            "1581  haryana  2020       2     Huawei      133152         0.017331\n",
            "1582  haryana  2020       2     Lenovo       83928         0.010924\n",
            "1583  haryana  2020       2     Others      619595         0.080646\n",
            "\n",
            "[1584 rows x 6 columns]\n"
          ]
        }
      ]
    },
    {
      "cell_type": "markdown",
      "source": [
        "### **1.3 Aggregated_insurance_Data_Extraction**"
      ],
      "metadata": {
        "id": "YUYuwNPsHzh5"
      }
    },
    {
      "cell_type": "code",
      "source": [
        "# Extract the Aggregated_Insurance\n",
        "\n",
        "clm = {'state':[], 'year':[], 'quater':[], 'name':[], 'count':[], 'amount':[]}\n",
        "\n",
        "# Define the path to the aggregated insurance data\n",
        "aggr_insurance_path = \"/content/pulse/data/aggregated/insurance/country/india/state\"\n",
        "#print(os.listdir(aggr_insurance_path))\n",
        "\n",
        "\n",
        "# List all states (folders) in the given path\n",
        "Aggr_insurance_state_list = os.listdir(aggr_insurance_path)\n",
        "#print(Aggr_insurance_state_list)\n",
        "\n",
        "\n",
        "# pull data\n",
        "for i in Aggr_insurance_state_list:\n",
        "  p_i = os.path.join(aggr_insurance_path, i)\n",
        "  Aggr_yr = os.listdir(p_i)\n",
        "  #print(Aggr_yr)\n",
        "\n",
        "\n",
        "  for j in Aggr_yr:\n",
        "    p_j = os.path.join(p_i, j)\n",
        "    Aggr_qutr = os.listdir(p_j)\n",
        "    #print(Aggr_qutr)\n",
        "\n",
        "    #The for loop for to be indented to be in the j loop\n",
        "    for k in Aggr_qutr:\n",
        "      p_k = os.path.join(p_j, k)\n",
        "      #print(p_k)\n",
        "\n",
        "\n",
        "    # Open and load JSON data\n",
        "    with open(p_k, 'r') as Data:\n",
        "      D = json.load(Data)\n",
        "\n",
        "    # Loading data to clm\n",
        "    if D['data'] and 'transactionData' in D['data'] and D['data']['transactionData']:\n",
        "        for z in D['data']['transactionData']:\n",
        "            clm['name'].append(z['name'])\n",
        "            clm['count'].append(z['paymentInstruments'][0]['count'])\n",
        "            clm['amount'].append(z['paymentInstruments'][0]['amount'])\n",
        "            clm['state'].append(i)\n",
        "            clm['year'].append(j)\n",
        "            clm['quater'].append(int(k.strip('.json')))\n",
        "\n",
        "# Convert dictionary to DataFrame\n",
        "Aggregated_insurance = pd.DataFrame(clm)\n",
        "print(Aggregated_insurance)\n"
      ],
      "metadata": {
        "colab": {
          "base_uri": "https://localhost:8080/"
        },
        "outputId": "8eb56042-360a-4e82-e04b-772aa9f1ac6a",
        "id": "cILrffhdILoa"
      },
      "execution_count": 9,
      "outputs": [
        {
          "output_type": "stream",
          "name": "stdout",
          "text": [
            "       state  year  quater       name  count      amount\n",
            "0    tripura  2021       2  Insurance    381    409934.0\n",
            "1    tripura  2024       2  Insurance   2188   2869489.0\n",
            "2    tripura  2020       2  Insurance     88     22054.0\n",
            "3    tripura  2023       2  Insurance   1563   2163813.0\n",
            "4    tripura  2022       2  Insurance   1021   1509105.0\n",
            "..       ...   ...     ...        ...    ...         ...\n",
            "174  haryana  2021       2  Insurance  12516  11272453.0\n",
            "175  haryana  2024       2  Insurance  46085  74779879.0\n",
            "176  haryana  2020       2  Insurance   6321   1179814.0\n",
            "177  haryana  2023       2  Insurance  40710  62186066.0\n",
            "178  haryana  2022       2  Insurance  25352  33759068.0\n",
            "\n",
            "[179 rows x 6 columns]\n"
          ]
        }
      ]
    },
    {
      "cell_type": "markdown",
      "source": [
        "### **2.1 Map_insurance_Data_Extraction**"
      ],
      "metadata": {
        "id": "uE5pYwLqPqZL"
      }
    },
    {
      "cell_type": "code",
      "source": [
        "# Extract the Map_Insurance\n",
        "\n",
        "clm = {'state':[], 'year':[], 'quater':[], 'name':[], 'count':[], 'amount':[]}\n",
        "\n",
        "# Define the path to the map insurance data\n",
        "map_insurance_path = \"/content/pulse/data/map/insurance/country/india/state\"\n",
        "#print(os.listdir(map_insurance_path))\n",
        "\n",
        "\n",
        "# List all states (folders) in the given path\n",
        "map_insurance_state_list = os.listdir(map_insurance_path)\n",
        "#print(map_insurance_state_list)\n",
        "\n",
        "# pull data\n",
        "for i in Aggr_insurance_state_list:\n",
        "  p_i = os.path.join(aggr_insurance_path, i)\n",
        "  Aggr_yr = os.listdir(p_i)\n",
        "  #print(Aggr_yr)\n",
        "\n",
        "  for j in Aggr_yr:\n",
        "    p_j = os.path.join(p_i, j)\n",
        "    Aggr_qutr = os.listdir(p_j)\n",
        "    #print(Aggr_qutr)\n",
        "\n",
        "    #The for loop for to be indented to be in the j loop\n",
        "    for k in Aggr_qutr:\n",
        "      p_k = os.path.join(p_j, k)\n",
        "     #print(p_k)\n",
        "\n",
        "\n",
        "    # Open and load JSON data\n",
        "    with open(p_k, 'r') as Data:\n",
        "      D = json.load(Data)\n",
        "\n",
        "    # loading data to clm\n",
        "    if D['data'] and 'transactionData' in D['data'] and D['data']['transactionData']:\n",
        "        for z in D['data']['transactionData']:\n",
        "            clm['name'].append(z['name'])\n",
        "            clm['count'].append(z['paymentInstruments'][0]['count'])\n",
        "            clm['amount'].append(z['paymentInstruments'][0]['amount'])\n",
        "            clm['state'].append(i)\n",
        "            clm['year'].append(j)\n",
        "            clm['quater'].append(int(k.strip('.json')))\n",
        "\n",
        "# Convert dictionary to DataFrame\n",
        "map_insurance = pd.DataFrame(clm)\n",
        "print(map_insurance)\n"
      ],
      "metadata": {
        "id": "JVGvvXiKT27J",
        "outputId": "c81d7780-05e6-425a-caa1-1e3eee127070",
        "colab": {
          "base_uri": "https://localhost:8080/"
        }
      },
      "execution_count": 12,
      "outputs": [
        {
          "output_type": "stream",
          "name": "stdout",
          "text": [
            "       state  year  quater       name  count      amount\n",
            "0    tripura  2021       2  Insurance    381    409934.0\n",
            "1    tripura  2024       2  Insurance   2188   2869489.0\n",
            "2    tripura  2020       2  Insurance     88     22054.0\n",
            "3    tripura  2023       2  Insurance   1563   2163813.0\n",
            "4    tripura  2022       2  Insurance   1021   1509105.0\n",
            "..       ...   ...     ...        ...    ...         ...\n",
            "174  haryana  2021       2  Insurance  12516  11272453.0\n",
            "175  haryana  2024       2  Insurance  46085  74779879.0\n",
            "176  haryana  2020       2  Insurance   6321   1179814.0\n",
            "177  haryana  2023       2  Insurance  40710  62186066.0\n",
            "178  haryana  2022       2  Insurance  25352  33759068.0\n",
            "\n",
            "[179 rows x 6 columns]\n"
          ]
        }
      ]
    },
    {
      "cell_type": "markdown",
      "source": [
        "## **2.1  Map User Data Extraction**\n"
      ],
      "metadata": {
        "id": "D4_SzeAaZjjC"
      }
    },
    {
      "cell_type": "code",
      "source": [
        "clm_user = {'state': [], 'year': [], 'quater': [], 'registeredUsers': []}\n",
        "\n",
        "map_user_path = \"/content/pulse/data/map/user/hover/country/india/state\"\n",
        "year_list = os.listdir(map_user_path)\n",
        "\n",
        "for year in year_list:\n",
        "    year_path = os.path.join(map_user_path, year)\n",
        "\n",
        "    if not os.path.isdir(year_path):  # Skip if it's not a directory\n",
        "        continue\n",
        "\n",
        "    quarter_list = os.listdir(year_path)\n",
        "\n",
        "    for quarter in quarter_list:\n",
        "        quarter_path = os.path.join(year_path, quarter)\n",
        "\n",
        "        if not quarter_path.endswith('.json'):  # Skip non-JSON files\n",
        "            continue\n",
        "\n",
        "        with open(quarter_path, 'r') as Data:\n",
        "            D = json.load(Data)\n",
        "\n",
        "        if 'data' in D and 'hoverDataList' in D['data']:\n",
        "            for entry in D['data']['hoverDataList']:\n",
        "                clm_user['state'].append(entry['name'])\n",
        "                clm_user['year'].append(year)\n",
        "                clm_user['quater'].append(int(quarter.strip('.json')))\n",
        "                clm_user['registeredUsers'].append(entry['metric'][0]['count'])\n",
        "\n",
        "map_user_df = pd.DataFrame(clm_user)\n",
        "print(map_user_df)"
      ],
      "metadata": {
        "id": "OaW7mcHOgefl",
        "outputId": "0f4cc060-5f2e-467e-c447-185154958658",
        "colab": {
          "base_uri": "https://localhost:8080/"
        }
      },
      "execution_count": 38,
      "outputs": [
        {
          "output_type": "stream",
          "name": "stdout",
          "text": [
            "Empty DataFrame\n",
            "Columns: [state, year, quater, registeredUsers]\n",
            "Index: []\n"
          ]
        }
      ]
    },
    {
      "cell_type": "markdown",
      "source": [
        "## 2.2 Map Transaction Data Extraction"
      ],
      "metadata": {
        "id": "jodZMZi4Zytw"
      }
    },
    {
      "cell_type": "code",
      "source": [
        "clm = {'state':[], 'district':[], 'year':[], 'quater':[], 'total_transactions':[], 'total_transaction_amount':[]}\n",
        "#/content/pulse/data/map/transaction/hover/country/india/state\n",
        "map_txn_path = \"/content/pulse/data/map/transaction/hover/country/india/state\" #/content/pulse/data/map/transaction/country/india/state\n",
        "Map_txn_state_list = os.listdir(map_txn_path)\n",
        "\n",
        "for i in Map_txn_state_list:\n",
        "    p_i = os.path.join(map_txn_path, i)\n",
        "    Map_yr = os.listdir(p_i)\n",
        "\n",
        "    for j in Map_yr:\n",
        "        p_j = os.path.join(p_i, j)\n",
        "        Map_qutr = os.listdir(p_j)\n",
        "\n",
        "        for k in Map_qutr:\n",
        "            p_k = os.path.join(p_j, k)\n",
        "\n",
        "            with open(p_k, 'r') as Data:\n",
        "                D = json.load(Data)\n",
        "\n",
        "            if D['data'] and 'transactionData' in D['data'] and D['data']['transactionData']:\n",
        "                for z in D['data']['transactionData']:\n",
        "                    clm['district'].append(z['name'])\n",
        "                    clm['total_transactions'].append(z['paymentInstruments'][0]['count'])\n",
        "                    clm['total_transaction_amount'].append(z['paymentInstruments'][0]['amount'])\n",
        "                    clm['state'].append(i)\n",
        "                    clm['year'].append(j)\n",
        "                    clm['quater'].append(int(k.strip('.json')))\n",
        "\n",
        "map_transaction = pd.DataFrame(clm)\n",
        "print(map_transaction)"
      ],
      "metadata": {
        "id": "5ksS0RajXZFZ",
        "outputId": "89b9022a-6e0e-4d8e-aeaa-ec776d25be83",
        "colab": {
          "base_uri": "https://localhost:8080/"
        }
      },
      "execution_count": 19,
      "outputs": [
        {
          "output_type": "stream",
          "name": "stdout",
          "text": [
            "Empty DataFrame\n",
            "Columns: [state, district, year, quater, total_transactions, total_transaction_amount]\n",
            "Index: []\n"
          ]
        }
      ]
    },
    {
      "cell_type": "markdown",
      "source": [
        "## 2.3 Map Insurance Data Extraction"
      ],
      "metadata": {
        "id": "KJFvRJa3adsn"
      }
    },
    {
      "cell_type": "code",
      "source": [
        "clm_insurance = {'state': [], 'year': [], 'quater': [], 'count': [], 'amount': []}\n",
        "\n",
        "map_insurance_path = \"/content/pulse/data/map/insurance/hover/country/india\"\n",
        "year_list = os.listdir(map_insurance_path)\n",
        "\n",
        "for year in year_list:\n",
        "    year_path = os.path.join(map_insurance_path, year)\n",
        "\n",
        "    if not os.path.isdir(year_path):  # Skip if it's not a directory\n",
        "        continue\n",
        "\n",
        "    quarter_list = os.listdir(year_path)\n",
        "\n",
        "    for quarter in quarter_list:\n",
        "        quarter_path = os.path.join(year_path, quarter)\n",
        "\n",
        "        if not quarter_path.endswith('.json'):  # Skip non-JSON files\n",
        "            continue\n",
        "\n",
        "        with open(quarter_path, 'r') as Data:\n",
        "            D = json.load(Data)\n",
        "\n",
        "        if 'data' in D and 'hoverDataList' in D['data']:\n",
        "            for entry in D['data']['hoverDataList']:\n",
        "                clm_insurance['state'].append(entry['name'])\n",
        "                clm_insurance['year'].append(year)\n",
        "                clm_insurance['quater'].append(int(quarter.strip('.json')))\n",
        "                clm_insurance['count'].append(entry['metric'][0]['count'])\n",
        "                clm_insurance['amount'].append(entry['metric'][0]['amount'])\n",
        "\n",
        "map_insurance_df = pd.DataFrame(clm_insurance)\n",
        "print(map_insurance_df)"
      ],
      "metadata": {
        "id": "ly46xXrOgIye",
        "outputId": "2a393b5d-8f52-4eda-9196-02f97501a3be",
        "colab": {
          "base_uri": "https://localhost:8080/"
        }
      },
      "execution_count": 35,
      "outputs": [
        {
          "output_type": "stream",
          "name": "stdout",
          "text": [
            "                 state  year  quater  count      amount\n",
            "0           puducherry  2021       1    372    351827.0\n",
            "1           tamil nadu  2021       1  14406  11180849.0\n",
            "2        uttar pradesh  2021       1  24103  18027573.0\n",
            "3       madhya pradesh  2021       1  14427   5567927.0\n",
            "4       andhra pradesh  2021       1  22105  12749874.0\n",
            "..                 ...   ...     ...    ...         ...\n",
            "677    jammu & kashmir  2022       2   4071   7729792.0\n",
            "678                goa  2022       2   3524   5093510.0\n",
            "679  arunachal pradesh  2022       2    564   1360231.0\n",
            "680              delhi  2022       2  26378  31787281.0\n",
            "681        uttarakhand  2022       2   5773   9168313.0\n",
            "\n",
            "[682 rows x 5 columns]\n"
          ]
        }
      ]
    },
    {
      "cell_type": "markdown",
      "source": [
        "## 3.1 Top User Data Extraction"
      ],
      "metadata": {
        "id": "r9H1WgkUbfHm"
      }
    },
    {
      "cell_type": "code",
      "source": [
        "# Define dictionary structure\n",
        "clm_user = {'state': [], 'year': [], 'quater': [], 'district/pincode': [], 'top_user_count': []}\n",
        "\n",
        "# Define the path\n",
        "top_user_path = \"/content/pulse/data/top/user/country/india/state\"\n",
        "Top_user_state_list = os.listdir(top_user_path)\n",
        "\n",
        "for i in Top_user_state_list:\n",
        "    p_i = os.path.join(top_user_path, i)\n",
        "    Top_yr = os.listdir(p_i)\n",
        "\n",
        "    for j in Top_yr:\n",
        "        p_j = os.path.join(p_i, j)\n",
        "        Top_qutr = os.listdir(p_j)\n",
        "\n",
        "        for k in Top_qutr:\n",
        "            p_k = os.path.join(p_j, k)\n",
        "\n",
        "            with open(p_k, 'r') as Data:\n",
        "                D = json.load(Data)\n",
        "\n",
        "            if D['data']:\n",
        "                # Extract district data\n",
        "                if 'districts' in D['data'] and D['data']['districts']:\n",
        "                    for dist in D['data']['districts']:\n",
        "                        clm_user['state'].append(i)\n",
        "                        clm_user['year'].append(j)\n",
        "                        clm_user['quater'].append(int(k.strip('.json')))\n",
        "                        clm_user['district/pincode'].append(dist['name'])\n",
        "                        clm_user['top_user_count'].append(dist['registeredUsers'])\n",
        "\n",
        "                # Extract pincode data\n",
        "                if 'pincodes' in D['data'] and D['data']['pincodes']:\n",
        "                    for pin in D['data']['pincodes']:\n",
        "                        clm_user['state'].append(i)\n",
        "                        clm_user['year'].append(j)\n",
        "                        clm_user['quater'].append(int(k.strip('.json')))\n",
        "                        clm_user['district/pincode'].append(pin['name'])\n",
        "                        clm_user['top_user_count'].append(pin['registeredUsers'])\n",
        "\n",
        "# Convert dictionary to DataFrame\n",
        "top_user = pd.DataFrame(clm_user)\n",
        "print(top_user)"
      ],
      "metadata": {
        "id": "8YDTogFifRDk",
        "outputId": "0f6b803a-5c8b-4c8a-9b78-269da54da9cd",
        "colab": {
          "base_uri": "https://localhost:8080/"
        }
      },
      "execution_count": 32,
      "outputs": [
        {
          "output_type": "stream",
          "name": "stdout",
          "text": [
            "         state  year  quater district/pincode  top_user_count\n",
            "0      tripura  2021       1     west tripura          175841\n",
            "1      tripura  2021       1    south tripura           47052\n",
            "2      tripura  2021       1       sepahijala           46925\n",
            "3      tripura  2021       1    north tripura           44051\n",
            "4      tripura  2021       1           gomati           39920\n",
            "...        ...   ...     ...              ...             ...\n",
            "18291  haryana  2022       2           122002          255084\n",
            "18292  haryana  2022       2           121102          253094\n",
            "18293  haryana  2022       2           124001          237736\n",
            "18294  haryana  2022       2           123401          237454\n",
            "18295  haryana  2022       2           122004          224546\n",
            "\n",
            "[18296 rows x 5 columns]\n"
          ]
        }
      ]
    },
    {
      "cell_type": "markdown",
      "source": [
        "## 3.2 Top Transaction Data Extraction"
      ],
      "metadata": {
        "id": "UoNia5CcbwmB"
      }
    },
    {
      "cell_type": "code",
      "source": [
        "# Define data structure\n",
        "clm = {'state':[], 'year':[], 'quater':[], 'district/pincode':[], 'top_transaction_count':[], 'top_transaction_amount':[]}\n",
        "\n",
        "# Define the path to the top transactions data\n",
        "top_txn_path = \"/content/pulse/data/top/transaction/country/india/state\"\n",
        "Top_txn_state_list = os.listdir(top_txn_path)\n",
        "\n",
        "# Extract data\n",
        "for i in Top_txn_state_list:\n",
        "    p_i = os.path.join(top_txn_path, i)\n",
        "    Top_yr = os.listdir(p_i)\n",
        "\n",
        "    for j in Top_yr:\n",
        "        p_j = os.path.join(p_i, j)\n",
        "        Top_qutr = os.listdir(p_j)\n",
        "\n",
        "        for k in Top_qutr:\n",
        "            p_k = os.path.join(p_j, k)\n",
        "\n",
        "            with open(p_k, 'r') as Data:\n",
        "                D = json.load(Data)\n",
        "\n",
        "            if D['data']:\n",
        "                # Extract district data\n",
        "                if 'districts' in D['data'] and D['data']['districts']:\n",
        "                    for dist in D['data']['districts']:\n",
        "                        clm['state'].append(i)\n",
        "                        clm['year'].append(j)\n",
        "                        clm['quater'].append(int(k.strip('.json')))\n",
        "                        clm['district/pincode'].append(dist['entityName'])\n",
        "                        clm['top_transaction_count'].append(dist['metric']['count'])\n",
        "                        clm['top_transaction_amount'].append(dist['metric']['amount'])\n",
        "\n",
        "                # Extract pincode data\n",
        "                if 'pincodes' in D['data'] and D['data']['pincodes']:\n",
        "                    for pin in D['data']['pincodes']:\n",
        "                        clm['state'].append(i)\n",
        "                        clm['year'].append(j)\n",
        "                        clm['quater'].append(int(k.strip('.json')))\n",
        "                        clm['district/pincode'].append(pin['entityName'])\n",
        "                        clm['top_transaction_count'].append(pin['metric']['count'])\n",
        "                        clm['top_transaction_amount'].append(pin['metric']['amount'])\n",
        "\n",
        "# Convert dictionary to DataFrame\n",
        "top_transaction = pd.DataFrame(clm)\n",
        "print(top_transaction)"
      ],
      "metadata": {
        "id": "H4FbE1kOc1s0",
        "outputId": "4a9b3755-ae9f-4fe3-be0d-d53cb88d86b3",
        "colab": {
          "base_uri": "https://localhost:8080/"
        }
      },
      "execution_count": 26,
      "outputs": [
        {
          "output_type": "stream",
          "name": "stdout",
          "text": [
            "         state  year  quater district/pincode  top_transaction_count  \\\n",
            "0      tripura  2021       1     west tripura                 692376   \n",
            "1      tripura  2021       1    south tripura                 150265   \n",
            "2      tripura  2021       1    north tripura                 143060   \n",
            "3      tripura  2021       1       sepahijala                 141426   \n",
            "4      tripura  2021       1           gomati                 127271   \n",
            "...        ...   ...     ...              ...                    ...   \n",
            "18290  haryana  2022       2           131001                6009247   \n",
            "18291  haryana  2022       2           121002                5591996   \n",
            "18292  haryana  2022       2           121003                5492258   \n",
            "18293  haryana  2022       2           122004                5362365   \n",
            "18294  haryana  2022       2           124001                5115219   \n",
            "\n",
            "       top_transaction_amount  \n",
            "0                1.402040e+09  \n",
            "1                3.576440e+08  \n",
            "2                3.180747e+08  \n",
            "3                3.655255e+08  \n",
            "4                2.958151e+08  \n",
            "...                       ...  \n",
            "18290            1.146076e+10  \n",
            "18291            1.054224e+10  \n",
            "18292            7.581777e+09  \n",
            "18293            5.206030e+09  \n",
            "18294            1.045534e+10  \n",
            "\n",
            "[18295 rows x 6 columns]\n"
          ]
        }
      ]
    },
    {
      "cell_type": "code",
      "source": [],
      "metadata": {
        "id": "0g80YfF9eFbp"
      },
      "execution_count": null,
      "outputs": []
    },
    {
      "cell_type": "markdown",
      "source": [
        "## 3.3 Top Insurance Data Extraction"
      ],
      "metadata": {
        "id": "hkqRyrh_eNbt"
      }
    },
    {
      "cell_type": "code",
      "source": [
        "# Define data structure\n",
        "clm_insurance = {'state':[], 'year':[], 'quater':[], 'district/pincode':[], 'top_insurance_count':[], 'top_insurance_amount':[]}\n",
        "\n",
        "# Define the path to the top insurance data\n",
        "top_insurance_path = \"/content/pulse/data/top/insurance/country/india/state\"\n",
        "Top_insurance_state_list = os.listdir(top_insurance_path)\n",
        "\n",
        "# Extract data\n",
        "for i in Top_insurance_state_list:\n",
        "    p_i = os.path.join(top_insurance_path, i)\n",
        "    Top_yr = os.listdir(p_i)\n",
        "\n",
        "    for j in Top_yr:\n",
        "        p_j = os.path.join(p_i, j)\n",
        "        Top_qutr = os.listdir(p_j)\n",
        "\n",
        "        for k in Top_qutr:\n",
        "            p_k = os.path.join(p_j, k)\n",
        "\n",
        "            with open(p_k, 'r') as Data:\n",
        "                D = json.load(Data)\n",
        "\n",
        "            if D['data']:\n",
        "                # Extract district data\n",
        "                if 'districts' in D['data'] and D['data']['districts']:\n",
        "                    for dist in D['data']['districts']:\n",
        "                        clm_insurance['state'].append(i)\n",
        "                        clm_insurance['year'].append(j)\n",
        "                        clm_insurance['quater'].append(int(k.strip('.json')))\n",
        "                        clm_insurance['district/pincode'].append(dist['entityName'])\n",
        "                        clm_insurance['top_insurance_count'].append(dist['metric']['count'])\n",
        "                        clm_insurance['top_insurance_amount'].append(dist['metric']['amount'])\n",
        "\n",
        "                # Extract pincode data\n",
        "                if 'pincodes' in D['data'] and D['data']['pincodes']:\n",
        "                    for pin in D['data']['pincodes']:\n",
        "                        clm_insurance['state'].append(i)\n",
        "                        clm_insurance['year'].append(j)\n",
        "                        clm_insurance['quater'].append(int(k.strip('.json')))\n",
        "                        clm_insurance['district/pincode'].append(pin['entityName'])\n",
        "                        clm_insurance['top_insurance_count'].append(pin['metric']['count'])\n",
        "                        clm_insurance['top_insurance_amount'].append(pin['metric']['amount'])\n",
        "\n",
        "# Convert dictionary to DataFrame\n",
        "top_insurance = pd.DataFrame(clm_insurance)\n",
        "print(top_insurance)"
      ],
      "metadata": {
        "id": "9JoXpCdveFY_",
        "outputId": "f0ea8ef7-be2c-43c5-de2e-3e28fb146a44",
        "colab": {
          "base_uri": "https://localhost:8080/"
        }
      },
      "execution_count": 27,
      "outputs": [
        {
          "output_type": "stream",
          "name": "stdout",
          "text": [
            "         state  year  quater district/pincode  top_insurance_count  \\\n",
            "0      tripura  2021       1     west tripura                  166   \n",
            "1      tripura  2021       1    north tripura                   41   \n",
            "2      tripura  2021       1    south tripura                   34   \n",
            "3      tripura  2021       1       sepahijala                   32   \n",
            "4      tripura  2021       1           dhalai                   31   \n",
            "...        ...   ...     ...              ...                  ...   \n",
            "12271  haryana  2022       2           121001                  592   \n",
            "12272  haryana  2022       2           122002                  528   \n",
            "12273  haryana  2022       2           124001                  494   \n",
            "12274  haryana  2022       2           124507                  475   \n",
            "12275  haryana  2022       2           122003                  460   \n",
            "\n",
            "       top_insurance_amount  \n",
            "0                   96897.0  \n",
            "1                   36055.0  \n",
            "2                   14949.0  \n",
            "3                    9568.0  \n",
            "4                   12709.0  \n",
            "...                     ...  \n",
            "12271              694788.0  \n",
            "12272              550754.0  \n",
            "12273              651675.0  \n",
            "12274              636675.0  \n",
            "12275              542526.0  \n",
            "\n",
            "[12276 rows x 6 columns]\n"
          ]
        }
      ]
    }
  ]
}