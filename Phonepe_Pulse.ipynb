{
  "nbformat": 4,
  "nbformat_minor": 0,
  "metadata": {
    "colab": {
      "provenance": [],
      "include_colab_link": true
    },
    "kernelspec": {
      "name": "python3",
      "display_name": "Python 3"
    },
    "language_info": {
      "name": "python"
    }
  },
  "cells": [
    {
      "cell_type": "markdown",
      "metadata": {
        "id": "view-in-github",
        "colab_type": "text"
      },
      "source": [
        "<a href=\"https://colab.research.google.com/github/SankarSivan/Phonepe/blob/main/Phonepe_Pulse.ipynb\" target=\"_parent\"><img src=\"https://colab.research.google.com/assets/colab-badge.svg\" alt=\"Open In Colab\"/></a>"
      ]
    },
    {
      "cell_type": "code",
      "execution_count": 2,
      "metadata": {
        "colab": {
          "base_uri": "https://localhost:8080/"
        },
        "id": "WXj8aLm53hoa",
        "outputId": "bf930fad-407a-4837-ecbe-ebcd0e61b08c"
      },
      "outputs": [
        {
          "output_type": "stream",
          "name": "stdout",
          "text": [
            "Cloning into 'pulse'...\n",
            "remote: Enumerating objects: 17904, done.\u001b[K\n",
            "remote: Counting objects: 100% (2702/2702), done.\u001b[K\n",
            "remote: Compressing objects: 100% (2153/2153), done.\u001b[K\n",
            "remote: Total 17904 (delta 842), reused 2301 (delta 507), pack-reused 15202 (from 1)\u001b[K\n",
            "Receiving objects: 100% (17904/17904), 26.21 MiB | 15.26 MiB/s, done.\n",
            "Resolving deltas: 100% (8584/8584), done.\n",
            "Updating files: 100% (9029/9029), done.\n"
          ]
        }
      ],
      "source": [
        "!git clone https://github.com/PhonePe/pulse.git"
      ]
    },
    {
      "cell_type": "code",
      "source": [
        "import pandas as pd\n",
        "import json\n",
        "import os"
      ],
      "metadata": {
        "id": "tTzN1O8Z5q1c"
      },
      "execution_count": 3,
      "outputs": []
    },
    {
      "cell_type": "code",
      "source": [
        "import seaborn as sns\n",
        "import matplotlib.pyplot as plt\n",
        "import plotly.express as px"
      ],
      "metadata": {
        "id": "ufIbS1XmtOHE"
      },
      "execution_count": 4,
      "outputs": []
    },
    {
      "cell_type": "markdown",
      "source": [
        "# Data Extraction"
      ],
      "metadata": {
        "id": "7BfIjRrseA1w"
      }
    },
    {
      "cell_type": "markdown",
      "source": [
        "### **1.1 Aggregated Transaction**\n",
        "\n"
      ],
      "metadata": {
        "id": "MJVaMJIxgti4"
      }
    },
    {
      "cell_type": "code",
      "source": [
        "\n",
        "path = \"/content/pulse/data/aggregated/transaction/country/india/state\"\n",
        "Aggr_state_list = os.listdir(path)\n",
        "# print(Aggr_state_list)\n",
        "\n",
        "# Extract the Aggr_data\n",
        "\n",
        "clm = {'state':[], 'year':[], 'quater':[], 'transaction_type':[], 'transaction_count':[], 'transaction_amount':[]}\n",
        "\n",
        "# pull data\n",
        "for i in Aggr_state_list:\n",
        "  p_i = path + '/' + i + '/'\n",
        "  Aggr_yr = os.listdir(p_i)\n",
        "\n",
        "  #print(Aggr_yr)\n",
        "  for j in Aggr_yr:\n",
        "    p_j = p_i + j + '/'\n",
        "    Aggr_qutr = os.listdir(p_j)\n",
        "    #print(Aggr_qutr)\n",
        "\n",
        "    for k in Aggr_qutr:\n",
        "      p_k = p_j + k\n",
        "      Data = open(p_k, 'r')\n",
        "      D = json.load(Data)\n",
        "\n",
        "      for z in D['data']['transactionData']:\n",
        "        Name = z['name']\n",
        "        Count = z['paymentInstruments'][0]['count']\n",
        "        Amount = z['paymentInstruments'][0]['amount']\n",
        "        clm['transaction_type'].append(Name)\n",
        "        clm['transaction_count'].append(Count)\n",
        "        clm['transaction_amount'].append(Amount)\n",
        "        clm ['state'].append(i)\n",
        "        clm ['year'].append(j)\n",
        "        clm ['quater'].append(int(k.strip('.json')))\n",
        "\n",
        "aggr_trans = pd.DataFrame(clm)\n",
        "# print(aggr_trans)\n"
      ],
      "metadata": {
        "id": "18x66YG046KN",
        "collapsed": true
      },
      "execution_count": 5,
      "outputs": []
    },
    {
      "cell_type": "markdown",
      "source": [
        "### **1.2 Aggregated User**"
      ],
      "metadata": {
        "id": "rA2rdY7SgPLi"
      }
    },
    {
      "cell_type": "markdown",
      "source": [
        "aggr_usr_path = \"/content/pulse/data/aggregated/user/country/india/state\"\n",
        "\n",
        "Aggr_user_state_list = os.listdir(aggr_usr_path)\n",
        "print(Aggr_user_state_list)"
      ],
      "metadata": {
        "id": "FB58Dl8Ar-kH"
      }
    },
    {
      "cell_type": "code",
      "source": [
        "# Extract the Aggr_User\n",
        "\n",
        "clm = {'state':[], 'year':[], 'quater':[], 'User_Brand':[], 'User_count':[], 'User_percentage':[]}\n",
        "\n",
        "# Define the path to the aggregated user data\n",
        "agg_usr_path = \"/content/pulse/data/aggregated/user/country/india/state\"\n",
        "#print(os.listdir(agg_usr_path))\n",
        "\n",
        "# List all states (folders) in the given path\n",
        "Aggr_user_state_list = os.listdir(agg_usr_path)\n",
        "\n",
        "# pull data\n",
        "for i in Aggr_user_state_list:\n",
        "  p_i = os.path.join(agg_usr_path, i)\n",
        "  Aggr_yr = os.listdir(p_i)\n",
        "  #print(Aggr_yr)\n",
        "\n",
        "  for j in Aggr_yr:\n",
        "    p_j = os.path.join(p_i, j)\n",
        "    Aggr_qutr = os.listdir(p_j)\n",
        "    #print(Aggr_qutr)\n",
        "\n",
        "    #The for loop for to be indented to be in the j loop\n",
        "    for k in Aggr_qutr:\n",
        "      p_k = os.path.join(p_j, k)\n",
        "      #print('p_k')\n",
        "\n",
        "    # Open and load JSON data\n",
        "    with open(p_k, 'r') as Data:\n",
        "      D = json.load(Data)\n",
        "\n",
        "    # Check if 'usersByDevice' key exists and is not None\n",
        "    if D['data'] and 'usersByDevice' in D['data'] and D['data']['usersByDevice']:\n",
        "        for z in D['data']['usersByDevice']:\n",
        "            clm['User_Brand'].append(z['brand'])\n",
        "            clm['User_count'].append(z['count'])\n",
        "            clm['User_percentage'].append(z['percentage'])\n",
        "            clm['state'].append(i)\n",
        "            clm['year'].append(j)\n",
        "            clm['quater'].append(int(k.strip('.json')))\n",
        "\n",
        "# Convert dictionary to DataFrame\n",
        "aggr_user = pd.DataFrame(clm)\n",
        "# print(aggr_user)\n"
      ],
      "metadata": {
        "id": "Mzl9rlhkNwvQ"
      },
      "execution_count": 6,
      "outputs": []
    },
    {
      "cell_type": "markdown",
      "source": [
        "### 1.3 Aggregated insurance"
      ],
      "metadata": {
        "id": "YUYuwNPsHzh5"
      }
    },
    {
      "cell_type": "code",
      "source": [
        "# Extract the Aggregated_Insurance\n",
        "\n",
        "clm = {'state':[], 'year':[], 'quater':[], 'name':[], 'count':[], 'amount':[]}\n",
        "\n",
        "# Define the path to the aggregated insurance data\n",
        "aggr_insurance_path = \"/content/pulse/data/aggregated/insurance/country/india/state\"\n",
        "#print(os.listdir(aggr_insurance_path))\n",
        "\n",
        "\n",
        "# List all states (folders) in the given path\n",
        "Aggr_insurance_state_list = os.listdir(aggr_insurance_path)\n",
        "#print(Aggr_insurance_state_list)\n",
        "\n",
        "\n",
        "# pull data\n",
        "for i in Aggr_insurance_state_list:\n",
        "  p_i = os.path.join(aggr_insurance_path, i)\n",
        "  Aggr_yr = os.listdir(p_i)\n",
        "  #print(Aggr_yr)\n",
        "\n",
        "\n",
        "  for j in Aggr_yr:\n",
        "    p_j = os.path.join(p_i, j)\n",
        "    Aggr_qutr = os.listdir(p_j)\n",
        "    #print(Aggr_qutr)\n",
        "\n",
        "    #The for loop for to be indented to be in the j loop\n",
        "    for k in Aggr_qutr:\n",
        "      p_k = os.path.join(p_j, k)\n",
        "      #print(p_k)\n",
        "\n",
        "\n",
        "    # Open and load JSON data\n",
        "    with open(p_k, 'r') as Data:\n",
        "      D = json.load(Data)\n",
        "\n",
        "    # Loading data to clm\n",
        "    if D['data'] and 'transactionData' in D['data'] and D['data']['transactionData']:\n",
        "        for z in D['data']['transactionData']:\n",
        "            clm['name'].append(z['name'])\n",
        "            clm['count'].append(z['paymentInstruments'][0]['count'])\n",
        "            clm['amount'].append(z['paymentInstruments'][0]['amount'])\n",
        "            clm['state'].append(i)\n",
        "            clm['year'].append(j)\n",
        "            clm['quater'].append(int(k.strip('.json')))\n",
        "\n",
        "# Convert dictionary to DataFrame\n",
        "aggr_insurance = pd.DataFrame(clm)\n",
        "#print(aggr_insurance)\n"
      ],
      "metadata": {
        "id": "cILrffhdILoa"
      },
      "execution_count": 7,
      "outputs": []
    },
    {
      "cell_type": "markdown",
      "source": [
        "### **2.1 Map insurance**"
      ],
      "metadata": {
        "id": "uE5pYwLqPqZL"
      }
    },
    {
      "cell_type": "code",
      "source": [
        "# Extract the Map_Insurance\n",
        "\n",
        "clm = {'state':[], 'year':[], 'quater':[], 'name':[], 'count':[], 'amount':[]}\n",
        "\n",
        "# Define the path to the map insurance data\n",
        "map_insurance_path = \"/content/pulse/data/map/insurance/country/india/state\"\n",
        "#print(os.listdir(map_insurance_path))\n",
        "\n",
        "\n",
        "# List all states (folders) in the given path\n",
        "map_insurance_state_list = os.listdir(map_insurance_path)\n",
        "#print(map_insurance_state_list)\n",
        "\n",
        "# pull data\n",
        "for i in Aggr_insurance_state_list:\n",
        "  p_i = os.path.join(aggr_insurance_path, i)\n",
        "  Aggr_yr = os.listdir(p_i)\n",
        "  #print(Aggr_yr)\n",
        "\n",
        "  for j in Aggr_yr:\n",
        "    p_j = os.path.join(p_i, j)\n",
        "    Aggr_qutr = os.listdir(p_j)\n",
        "    #print(Aggr_qutr)\n",
        "\n",
        "    #The for loop for to be indented to be in the j loop\n",
        "    for k in Aggr_qutr:\n",
        "      p_k = os.path.join(p_j, k)\n",
        "     #print(p_k)\n",
        "\n",
        "\n",
        "    # Open and load JSON data\n",
        "    with open(p_k, 'r') as Data:\n",
        "      D = json.load(Data)\n",
        "\n",
        "    # l;oading data to clm\n",
        "    if D['data'] and 'transactionData' in D['data'] and D['data']['transactionData']:\n",
        "        for z in D['data']['transactionData']:\n",
        "            clm['name'].append(z['name'])\n",
        "            clm['count'].append(z['paymentInstruments'][0]['count'])\n",
        "            clm['amount'].append(z['paymentInstruments'][0]['amount'])\n",
        "            clm['state'].append(i)\n",
        "            clm['year'].append(j)\n",
        "            clm['quater'].append(int(k.strip('.json')))\n",
        "\n",
        "# Convert dictionary to DataFrame\n",
        "map_insurance = pd.DataFrame(clm)\n",
        "#print(map_insurance)\n"
      ],
      "metadata": {
        "id": "JVGvvXiKT27J",
        "collapsed": true
      },
      "execution_count": 8,
      "outputs": []
    },
    {
      "cell_type": "markdown",
      "source": [
        "## 2.2 Map user"
      ],
      "metadata": {
        "id": "RyKjV_J68bW-"
      }
    },
    {
      "cell_type": "code",
      "source": [
        "# Define the dictionary to store extracted data\n",
        "clm_user = {'state': [], 'year': [], 'quarter': [], 'district': [], 'registered_users': [], 'app_opens': []}\n",
        "\n",
        "# Set the file path\n",
        "map_user_path = \"/content/pulse/data/map/user/hover/country/india/state\"\n",
        "state_list = os.listdir(map_user_path)\n",
        "\n",
        "for state in state_list:\n",
        "    state_path = os.path.join(map_user_path, state)\n",
        "    if not os.path.isdir(state_path):  # Skip if not a directory\n",
        "        continue\n",
        "\n",
        "    year_list = os.listdir(state_path)\n",
        "\n",
        "    for year in year_list:\n",
        "        year_path = os.path.join(state_path, year)\n",
        "        if not os.path.isdir(year_path):  # Skip if not a directory\n",
        "            continue\n",
        "\n",
        "        quarter_list = os.listdir(year_path)\n",
        "\n",
        "        for quarter in quarter_list:\n",
        "            quarter_path = os.path.join(year_path, quarter)\n",
        "            if not quarter_path.endswith('.json'):  # Ensure it's a JSON file\n",
        "                continue\n",
        "\n",
        "            with open(quarter_path, 'r') as data_file:\n",
        "                data = json.load(data_file)\n",
        "\n",
        "            if data.get(\"data\") and \"hoverData\" in data[\"data\"]:\n",
        "                for district, values in data[\"data\"][\"hoverData\"].items():\n",
        "                    clm_user['state'].append(state)\n",
        "                    clm_user['year'].append(year)\n",
        "                    clm_user['quarter'].append(int(quarter.strip('.json')))\n",
        "                    clm_user['district'].append(district)\n",
        "                    clm_user['registered_users'].append(values.get('registeredUsers', 0))\n",
        "                    clm_user['app_opens'].append(values.get('appOpens', 0))\n",
        "\n",
        "# Convert to DataFrame\n",
        "map_user = pd.DataFrame(clm_user)\n",
        "#print(map_user)"
      ],
      "metadata": {
        "id": "qPC1FNnB8BJm",
        "collapsed": true
      },
      "execution_count": 9,
      "outputs": []
    },
    {
      "cell_type": "markdown",
      "source": [
        "## 2.3 Map transaction"
      ],
      "metadata": {
        "id": "c-hbfIMQ75tS"
      }
    },
    {
      "cell_type": "code",
      "source": [
        "clm_transaction = {'state': [], 'year': [], 'quater': [], 'transaction_count': [], 'transaction_amount': []}\n",
        "\n",
        "map_transaction_path = \"/content/pulse/data/map/transaction/hover/country/india\"\n",
        "year_list = os.listdir(map_transaction_path)\n",
        "\n",
        "for year in year_list:\n",
        "    year_path = os.path.join(map_transaction_path, year)\n",
        "\n",
        "    if not os.path.isdir(year_path):  # Skip if it's not a directory\n",
        "        continue\n",
        "\n",
        "    quarter_list = os.listdir(year_path)\n",
        "\n",
        "    for quarter in quarter_list:\n",
        "        quarter_path = os.path.join(year_path, quarter)\n",
        "\n",
        "        if not quarter_path.endswith('.json'):  # Skip non-JSON files\n",
        "            continue\n",
        "\n",
        "        with open(quarter_path, 'r') as Data:\n",
        "            D = json.load(Data)\n",
        "\n",
        "        if 'data' in D and 'hoverDataList' in D['data']:\n",
        "            for entry in D['data']['hoverDataList']:\n",
        "                clm_transaction['state'].append(entry['name'])\n",
        "                clm_transaction['year'].append(year)\n",
        "                clm_transaction['quater'].append(int(quarter.strip('.json')))\n",
        "                clm_transaction['transaction_count'].append(entry['metric'][0]['count'])\n",
        "                clm_transaction['transaction_amount'].append(entry['metric'][0]['amount'])\n",
        "\n",
        "map_transaction = pd.DataFrame(clm_transaction)\n",
        "#print(map_transaction)"
      ],
      "metadata": {
        "id": "70yh1-Ds7wiW"
      },
      "execution_count": 10,
      "outputs": []
    },
    {
      "cell_type": "markdown",
      "source": [
        "## 3.1 Top insurance"
      ],
      "metadata": {
        "id": "4bQf1d8X9aa3"
      }
    },
    {
      "cell_type": "code",
      "source": [
        "# Define data structure\n",
        "clm_insurance = {'state':[], 'year':[], 'quater':[], 'district':[], 'top_insurance_count':[], 'top_insurance_amount':[]}\n",
        "\n",
        "# Define the path to the top insurance data\n",
        "top_insurance_path = \"/content/pulse/data/top/insurance/country/india/state\"\n",
        "Top_insurance_state_list = os.listdir(top_insurance_path)\n",
        "\n",
        "# Extract data\n",
        "for i in Top_insurance_state_list:\n",
        "    p_i = os.path.join(top_insurance_path, i)\n",
        "    Top_yr = os.listdir(p_i)\n",
        "\n",
        "    for j in Top_yr:\n",
        "        p_j = os.path.join(p_i, j)\n",
        "        Top_qutr = os.listdir(p_j)\n",
        "\n",
        "        for k in Top_qutr:\n",
        "            p_k = os.path.join(p_j, k)\n",
        "\n",
        "            with open(p_k, 'r') as Data:\n",
        "                D = json.load(Data)\n",
        "\n",
        "            if D['data']:\n",
        "                # Extract district data\n",
        "                if 'districts' in D['data'] and D['data']['districts']:\n",
        "                    for dist in D['data']['districts']:\n",
        "                        clm_insurance['state'].append(i)\n",
        "                        clm_insurance['year'].append(j)\n",
        "                        clm_insurance['quater'].append(int(k.strip('.json')))\n",
        "                        clm_insurance['district'].append(dist['entityName'])\n",
        "                        clm_insurance['top_insurance_count'].append(dist['metric']['count'])\n",
        "                        clm_insurance['top_insurance_amount'].append(dist['metric']['amount'])\n",
        "\n",
        "\n",
        "# Convert dictionary to DataFrame\n",
        "top_insurance = pd.DataFrame(clm_insurance)\n",
        "#print(top_insurance)"
      ],
      "metadata": {
        "id": "9WHLkRJz9Wm7"
      },
      "execution_count": 11,
      "outputs": []
    },
    {
      "cell_type": "markdown",
      "source": [
        "## 3.2 Top transactions"
      ],
      "metadata": {
        "id": "4kSp5ZUP-nIM"
      }
    },
    {
      "cell_type": "code",
      "source": [
        "# Define data structure\n",
        "clm = {'state':[], 'year':[], 'quater':[], 'district':[], 'top_transaction_count':[], 'top_transaction_amount':[]}\n",
        "\n",
        "# Define the path to the top transactions data\n",
        "top_txn_path = \"/content/pulse/data/top/transaction/country/india/state\"\n",
        "Top_txn_state_list = os.listdir(top_txn_path)\n",
        "\n",
        "# Extract data\n",
        "for i in Top_txn_state_list:\n",
        "    p_i = os.path.join(top_txn_path, i)\n",
        "    Top_yr = os.listdir(p_i)\n",
        "\n",
        "    for j in Top_yr:\n",
        "        p_j = os.path.join(p_i, j)\n",
        "        Top_qutr = os.listdir(p_j)\n",
        "\n",
        "        for k in Top_qutr:\n",
        "            p_k = os.path.join(p_j, k)\n",
        "\n",
        "            with open(p_k, 'r') as Data:\n",
        "                D = json.load(Data)\n",
        "\n",
        "            if D['data']:\n",
        "                # Extract district data\n",
        "                if 'districts' in D['data'] and D['data']['districts']:\n",
        "                    for dist in D['data']['districts']:\n",
        "                        clm['state'].append(i)\n",
        "                        clm['year'].append(j)\n",
        "                        clm['quater'].append(int(k.strip('.json')))\n",
        "                        clm['district'].append(dist['entityName'])\n",
        "                        clm['top_transaction_count'].append(dist['metric']['count'])\n",
        "                        clm['top_transaction_amount'].append(dist['metric']['amount'])\n",
        "\n",
        "# Convert dictionary to DataFrame\n",
        "top_transaction = pd.DataFrame(clm)\n",
        "#print(top_transaction)"
      ],
      "metadata": {
        "id": "KHoO_R-G-nl5"
      },
      "execution_count": 12,
      "outputs": []
    },
    {
      "cell_type": "markdown",
      "source": [
        "## 3.3 Top user"
      ],
      "metadata": {
        "id": "OcLUylBL7rAY"
      }
    },
    {
      "cell_type": "code",
      "source": [
        "# Define dictionary structure\n",
        "clm_user = {'state': [], 'year': [], 'quater': [], 'district': [], 'top_user_count': []}\n",
        "\n",
        "# Define the path\n",
        "top_user_path = \"/content/pulse/data/top/user/country/india/state\"\n",
        "Top_user_state_list = os.listdir(top_user_path)\n",
        "\n",
        "for i in Top_user_state_list:\n",
        "    p_i = os.path.join(top_user_path, i)\n",
        "    Top_yr = os.listdir(p_i)\n",
        "\n",
        "    for j in Top_yr:\n",
        "        p_j = os.path.join(p_i, j)\n",
        "        Top_qutr = os.listdir(p_j)\n",
        "\n",
        "        for k in Top_qutr:\n",
        "            p_k = os.path.join(p_j, k)\n",
        "\n",
        "            with open(p_k, 'r') as Data:\n",
        "                D = json.load(Data)\n",
        "\n",
        "            if D['data']:\n",
        "                # Extract district data\n",
        "                if 'districts' in D['data'] and D['data']['districts']:\n",
        "                    for dist in D['data']['districts']:\n",
        "                        clm_user['state'].append(i)\n",
        "                        clm_user['year'].append(j)\n",
        "                        clm_user['quater'].append(int(k.strip('.json')))\n",
        "                        clm_user['district'].append(dist['name'])\n",
        "                        clm_user['top_user_count'].append(dist['registeredUsers'])\n",
        "\n",
        "# Convert dictionary to DataFrame\n",
        "top_user = pd.DataFrame(clm_user)\n",
        "#print(top_user)"
      ],
      "metadata": {
        "id": "2FTWcmt-Yf4f"
      },
      "execution_count": 13,
      "outputs": []
    },
    {
      "cell_type": "markdown",
      "source": [
        "# Store the extracted data into sql server"
      ],
      "metadata": {
        "id": "ezWVmdOgQfOm"
      }
    },
    {
      "cell_type": "code",
      "source": [
        "# List of data frames and their corresponding file names\n",
        "data_frames = [\n",
        "    (aggr_trans, 'aggr_trans.csv'),\n",
        "    (aggr_user, 'aggr_user.csv'),\n",
        "    (aggr_insurance, 'aggr_insurance.csv'),\n",
        "    (map_insurance, 'map_insurance.csv'),\n",
        "    (map_user, 'map_user.csv'),\n",
        "    (map_transaction, 'map_transaction.csv'),\n",
        "    (top_insurance, 'top_insurance.csv'),\n",
        "    (top_transaction, 'top_transaction.csv'),\n",
        "    (top_user, 'top_user.csv'),\n",
        "]\n",
        "\n",
        "# Iterate through the list and download each data frame as a CSV file\n",
        "for df, file_name in data_frames:\n",
        "    df.to_csv(file_name, index=False)  # Save to CSV\n",
        "    files.download(file_name)       # Download the file"
      ],
      "metadata": {
        "colab": {
          "base_uri": "https://localhost:8080/",
          "height": 180
        },
        "id": "RRaTcUig8XdB",
        "outputId": "6dc70d30-4328-4bd9-f071-603e857defa2"
      },
      "execution_count": 16,
      "outputs": [
        {
          "output_type": "error",
          "ename": "NameError",
          "evalue": "name 'files' is not defined",
          "traceback": [
            "\u001b[0;31m---------------------------------------------------------------------------\u001b[0m",
            "\u001b[0;31mNameError\u001b[0m                                 Traceback (most recent call last)",
            "\u001b[0;32m<ipython-input-16-190bcb2c693a>\u001b[0m in \u001b[0;36m<cell line: 0>\u001b[0;34m()\u001b[0m\n\u001b[1;32m     15\u001b[0m \u001b[0;32mfor\u001b[0m \u001b[0mdf\u001b[0m\u001b[0;34m,\u001b[0m \u001b[0mfile_name\u001b[0m \u001b[0;32min\u001b[0m \u001b[0mdata_frames\u001b[0m\u001b[0;34m:\u001b[0m\u001b[0;34m\u001b[0m\u001b[0;34m\u001b[0m\u001b[0m\n\u001b[1;32m     16\u001b[0m     \u001b[0mdf\u001b[0m\u001b[0;34m.\u001b[0m\u001b[0mto_csv\u001b[0m\u001b[0;34m(\u001b[0m\u001b[0mfile_name\u001b[0m\u001b[0;34m,\u001b[0m \u001b[0mindex\u001b[0m\u001b[0;34m=\u001b[0m\u001b[0;32mFalse\u001b[0m\u001b[0;34m)\u001b[0m  \u001b[0;31m# Save to CSV\u001b[0m\u001b[0;34m\u001b[0m\u001b[0;34m\u001b[0m\u001b[0m\n\u001b[0;32m---> 17\u001b[0;31m     \u001b[0mfiles\u001b[0m\u001b[0;34m.\u001b[0m\u001b[0mdownload\u001b[0m\u001b[0;34m(\u001b[0m\u001b[0mfile_name\u001b[0m\u001b[0;34m)\u001b[0m       \u001b[0;31m# Download the file\u001b[0m\u001b[0;34m\u001b[0m\u001b[0;34m\u001b[0m\u001b[0m\n\u001b[0m",
            "\u001b[0;31mNameError\u001b[0m: name 'files' is not defined"
          ]
        }
      ]
    },
    {
      "cell_type": "code",
      "source": [
        "aggr_trans.to_csv('aggr_trans.csv', index=False)\n",
        "aggr_user.to_csv('aggr_user.csv', index=False)\n",
        "aggr_insurance.to_csv('aggr_insurance.csv', index=False)\n",
        "map_insurance.to_csv('map_insurance.csv', index=False)\n",
        "map_user.to_csv('map_user.csv', index=False)\n",
        "map_transaction.to_csv('map_transaction.csv', index=False)\n",
        "top_insurance.to_csv('top_insurance.csv', index=False)\n",
        "top_transaction.to_csv('top_transaction.csv', index=False)\n",
        "top_user.to_csv('top_user.csv', index=False)"
      ],
      "metadata": {
        "id": "f29r-BX07Cdr"
      },
      "execution_count": 15,
      "outputs": []
    },
    {
      "cell_type": "code",
      "source": [
        "from google.colab import files"
      ],
      "metadata": {
        "id": "j7Coil4w8vZs"
      },
      "execution_count": 18,
      "outputs": []
    },
    {
      "cell_type": "code",
      "source": [
        "\n",
        "files.download('aggr_trans.csv')\n",
        "files.download('aggr_user.csv')\n",
        "files.download('aggr_insurance.csv')\n",
        "files.download('map_insurance.csv')\n",
        "files.download('map_user.csv')\n",
        "files.download('map_transaction.csv')\n",
        "files.download('top_insurance.csv')\n",
        "files.download('top_transaction.csv')\n",
        "files.download('top_user.csv')"
      ],
      "metadata": {
        "colab": {
          "base_uri": "https://localhost:8080/",
          "height": 17
        },
        "id": "xKzoUipR8sg_",
        "outputId": "ef94730e-b405-4e05-cc09-275a882ba9fd"
      },
      "execution_count": 19,
      "outputs": [
        {
          "output_type": "display_data",
          "data": {
            "text/plain": [
              "<IPython.core.display.Javascript object>"
            ],
            "application/javascript": [
              "\n",
              "    async function download(id, filename, size) {\n",
              "      if (!google.colab.kernel.accessAllowed) {\n",
              "        return;\n",
              "      }\n",
              "      const div = document.createElement('div');\n",
              "      const label = document.createElement('label');\n",
              "      label.textContent = `Downloading \"${filename}\": `;\n",
              "      div.appendChild(label);\n",
              "      const progress = document.createElement('progress');\n",
              "      progress.max = size;\n",
              "      div.appendChild(progress);\n",
              "      document.body.appendChild(div);\n",
              "\n",
              "      const buffers = [];\n",
              "      let downloaded = 0;\n",
              "\n",
              "      const channel = await google.colab.kernel.comms.open(id);\n",
              "      // Send a message to notify the kernel that we're ready.\n",
              "      channel.send({})\n",
              "\n",
              "      for await (const message of channel.messages) {\n",
              "        // Send a message to notify the kernel that we're ready.\n",
              "        channel.send({})\n",
              "        if (message.buffers) {\n",
              "          for (const buffer of message.buffers) {\n",
              "            buffers.push(buffer);\n",
              "            downloaded += buffer.byteLength;\n",
              "            progress.value = downloaded;\n",
              "          }\n",
              "        }\n",
              "      }\n",
              "      const blob = new Blob(buffers, {type: 'application/binary'});\n",
              "      const a = document.createElement('a');\n",
              "      a.href = window.URL.createObjectURL(blob);\n",
              "      a.download = filename;\n",
              "      div.appendChild(a);\n",
              "      a.click();\n",
              "      div.remove();\n",
              "    }\n",
              "  "
            ]
          },
          "metadata": {}
        },
        {
          "output_type": "display_data",
          "data": {
            "text/plain": [
              "<IPython.core.display.Javascript object>"
            ],
            "application/javascript": [
              "download(\"download_c161ffea-23a8-4a09-bb0d-0626d6cd1c5b\", \"aggr_trans.csv\", 304775)"
            ]
          },
          "metadata": {}
        },
        {
          "output_type": "display_data",
          "data": {
            "text/plain": [
              "<IPython.core.display.Javascript object>"
            ],
            "application/javascript": [
              "\n",
              "    async function download(id, filename, size) {\n",
              "      if (!google.colab.kernel.accessAllowed) {\n",
              "        return;\n",
              "      }\n",
              "      const div = document.createElement('div');\n",
              "      const label = document.createElement('label');\n",
              "      label.textContent = `Downloading \"${filename}\": `;\n",
              "      div.appendChild(label);\n",
              "      const progress = document.createElement('progress');\n",
              "      progress.max = size;\n",
              "      div.appendChild(progress);\n",
              "      document.body.appendChild(div);\n",
              "\n",
              "      const buffers = [];\n",
              "      let downloaded = 0;\n",
              "\n",
              "      const channel = await google.colab.kernel.comms.open(id);\n",
              "      // Send a message to notify the kernel that we're ready.\n",
              "      channel.send({})\n",
              "\n",
              "      for await (const message of channel.messages) {\n",
              "        // Send a message to notify the kernel that we're ready.\n",
              "        channel.send({})\n",
              "        if (message.buffers) {\n",
              "          for (const buffer of message.buffers) {\n",
              "            buffers.push(buffer);\n",
              "            downloaded += buffer.byteLength;\n",
              "            progress.value = downloaded;\n",
              "          }\n",
              "        }\n",
              "      }\n",
              "      const blob = new Blob(buffers, {type: 'application/binary'});\n",
              "      const a = document.createElement('a');\n",
              "      a.href = window.URL.createObjectURL(blob);\n",
              "      a.download = filename;\n",
              "      div.appendChild(a);\n",
              "      a.click();\n",
              "      div.remove();\n",
              "    }\n",
              "  "
            ]
          },
          "metadata": {}
        },
        {
          "output_type": "display_data",
          "data": {
            "text/plain": [
              "<IPython.core.display.Javascript object>"
            ],
            "application/javascript": [
              "download(\"download_924dfd4a-b9c8-4758-ad30-00ccccf1a68e\", \"aggr_user.csv\", 102210)"
            ]
          },
          "metadata": {}
        },
        {
          "output_type": "display_data",
          "data": {
            "text/plain": [
              "<IPython.core.display.Javascript object>"
            ],
            "application/javascript": [
              "\n",
              "    async function download(id, filename, size) {\n",
              "      if (!google.colab.kernel.accessAllowed) {\n",
              "        return;\n",
              "      }\n",
              "      const div = document.createElement('div');\n",
              "      const label = document.createElement('label');\n",
              "      label.textContent = `Downloading \"${filename}\": `;\n",
              "      div.appendChild(label);\n",
              "      const progress = document.createElement('progress');\n",
              "      progress.max = size;\n",
              "      div.appendChild(progress);\n",
              "      document.body.appendChild(div);\n",
              "\n",
              "      const buffers = [];\n",
              "      let downloaded = 0;\n",
              "\n",
              "      const channel = await google.colab.kernel.comms.open(id);\n",
              "      // Send a message to notify the kernel that we're ready.\n",
              "      channel.send({})\n",
              "\n",
              "      for await (const message of channel.messages) {\n",
              "        // Send a message to notify the kernel that we're ready.\n",
              "        channel.send({})\n",
              "        if (message.buffers) {\n",
              "          for (const buffer of message.buffers) {\n",
              "            buffers.push(buffer);\n",
              "            downloaded += buffer.byteLength;\n",
              "            progress.value = downloaded;\n",
              "          }\n",
              "        }\n",
              "      }\n",
              "      const blob = new Blob(buffers, {type: 'application/binary'});\n",
              "      const a = document.createElement('a');\n",
              "      a.href = window.URL.createObjectURL(blob);\n",
              "      a.download = filename;\n",
              "      div.appendChild(a);\n",
              "      a.click();\n",
              "      div.remove();\n",
              "    }\n",
              "  "
            ]
          },
          "metadata": {}
        },
        {
          "output_type": "display_data",
          "data": {
            "text/plain": [
              "<IPython.core.display.Javascript object>"
            ],
            "application/javascript": [
              "download(\"download_44e4d635-0cf7-4991-841d-8a52373b4a60\", \"aggr_insurance.csv\", 7817)"
            ]
          },
          "metadata": {}
        },
        {
          "output_type": "display_data",
          "data": {
            "text/plain": [
              "<IPython.core.display.Javascript object>"
            ],
            "application/javascript": [
              "\n",
              "    async function download(id, filename, size) {\n",
              "      if (!google.colab.kernel.accessAllowed) {\n",
              "        return;\n",
              "      }\n",
              "      const div = document.createElement('div');\n",
              "      const label = document.createElement('label');\n",
              "      label.textContent = `Downloading \"${filename}\": `;\n",
              "      div.appendChild(label);\n",
              "      const progress = document.createElement('progress');\n",
              "      progress.max = size;\n",
              "      div.appendChild(progress);\n",
              "      document.body.appendChild(div);\n",
              "\n",
              "      const buffers = [];\n",
              "      let downloaded = 0;\n",
              "\n",
              "      const channel = await google.colab.kernel.comms.open(id);\n",
              "      // Send a message to notify the kernel that we're ready.\n",
              "      channel.send({})\n",
              "\n",
              "      for await (const message of channel.messages) {\n",
              "        // Send a message to notify the kernel that we're ready.\n",
              "        channel.send({})\n",
              "        if (message.buffers) {\n",
              "          for (const buffer of message.buffers) {\n",
              "            buffers.push(buffer);\n",
              "            downloaded += buffer.byteLength;\n",
              "            progress.value = downloaded;\n",
              "          }\n",
              "        }\n",
              "      }\n",
              "      const blob = new Blob(buffers, {type: 'application/binary'});\n",
              "      const a = document.createElement('a');\n",
              "      a.href = window.URL.createObjectURL(blob);\n",
              "      a.download = filename;\n",
              "      div.appendChild(a);\n",
              "      a.click();\n",
              "      div.remove();\n",
              "    }\n",
              "  "
            ]
          },
          "metadata": {}
        },
        {
          "output_type": "display_data",
          "data": {
            "text/plain": [
              "<IPython.core.display.Javascript object>"
            ],
            "application/javascript": [
              "download(\"download_7d428312-2711-4df7-bee9-da83b4392200\", \"map_insurance.csv\", 7817)"
            ]
          },
          "metadata": {}
        },
        {
          "output_type": "display_data",
          "data": {
            "text/plain": [
              "<IPython.core.display.Javascript object>"
            ],
            "application/javascript": [
              "\n",
              "    async function download(id, filename, size) {\n",
              "      if (!google.colab.kernel.accessAllowed) {\n",
              "        return;\n",
              "      }\n",
              "      const div = document.createElement('div');\n",
              "      const label = document.createElement('label');\n",
              "      label.textContent = `Downloading \"${filename}\": `;\n",
              "      div.appendChild(label);\n",
              "      const progress = document.createElement('progress');\n",
              "      progress.max = size;\n",
              "      div.appendChild(progress);\n",
              "      document.body.appendChild(div);\n",
              "\n",
              "      const buffers = [];\n",
              "      let downloaded = 0;\n",
              "\n",
              "      const channel = await google.colab.kernel.comms.open(id);\n",
              "      // Send a message to notify the kernel that we're ready.\n",
              "      channel.send({})\n",
              "\n",
              "      for await (const message of channel.messages) {\n",
              "        // Send a message to notify the kernel that we're ready.\n",
              "        channel.send({})\n",
              "        if (message.buffers) {\n",
              "          for (const buffer of message.buffers) {\n",
              "            buffers.push(buffer);\n",
              "            downloaded += buffer.byteLength;\n",
              "            progress.value = downloaded;\n",
              "          }\n",
              "        }\n",
              "      }\n",
              "      const blob = new Blob(buffers, {type: 'application/binary'});\n",
              "      const a = document.createElement('a');\n",
              "      a.href = window.URL.createObjectURL(blob);\n",
              "      a.download = filename;\n",
              "      div.appendChild(a);\n",
              "      a.click();\n",
              "      div.remove();\n",
              "    }\n",
              "  "
            ]
          },
          "metadata": {}
        },
        {
          "output_type": "display_data",
          "data": {
            "text/plain": [
              "<IPython.core.display.Javascript object>"
            ],
            "application/javascript": [
              "download(\"download_f2a2a898-f5d7-4d80-933d-19ad7456e533\", \"map_user.csv\", 1038727)"
            ]
          },
          "metadata": {}
        },
        {
          "output_type": "display_data",
          "data": {
            "text/plain": [
              "<IPython.core.display.Javascript object>"
            ],
            "application/javascript": [
              "\n",
              "    async function download(id, filename, size) {\n",
              "      if (!google.colab.kernel.accessAllowed) {\n",
              "        return;\n",
              "      }\n",
              "      const div = document.createElement('div');\n",
              "      const label = document.createElement('label');\n",
              "      label.textContent = `Downloading \"${filename}\": `;\n",
              "      div.appendChild(label);\n",
              "      const progress = document.createElement('progress');\n",
              "      progress.max = size;\n",
              "      div.appendChild(progress);\n",
              "      document.body.appendChild(div);\n",
              "\n",
              "      const buffers = [];\n",
              "      let downloaded = 0;\n",
              "\n",
              "      const channel = await google.colab.kernel.comms.open(id);\n",
              "      // Send a message to notify the kernel that we're ready.\n",
              "      channel.send({})\n",
              "\n",
              "      for await (const message of channel.messages) {\n",
              "        // Send a message to notify the kernel that we're ready.\n",
              "        channel.send({})\n",
              "        if (message.buffers) {\n",
              "          for (const buffer of message.buffers) {\n",
              "            buffers.push(buffer);\n",
              "            downloaded += buffer.byteLength;\n",
              "            progress.value = downloaded;\n",
              "          }\n",
              "        }\n",
              "      }\n",
              "      const blob = new Blob(buffers, {type: 'application/binary'});\n",
              "      const a = document.createElement('a');\n",
              "      a.href = window.URL.createObjectURL(blob);\n",
              "      a.download = filename;\n",
              "      div.appendChild(a);\n",
              "      a.click();\n",
              "      div.remove();\n",
              "    }\n",
              "  "
            ]
          },
          "metadata": {}
        },
        {
          "output_type": "display_data",
          "data": {
            "text/plain": [
              "<IPython.core.display.Javascript object>"
            ],
            "application/javascript": [
              "download(\"download_167c526c-5cf4-4d33-a84e-c88cd921b33c\", \"map_transaction.csv\", 44711)"
            ]
          },
          "metadata": {}
        },
        {
          "output_type": "display_data",
          "data": {
            "text/plain": [
              "<IPython.core.display.Javascript object>"
            ],
            "application/javascript": [
              "\n",
              "    async function download(id, filename, size) {\n",
              "      if (!google.colab.kernel.accessAllowed) {\n",
              "        return;\n",
              "      }\n",
              "      const div = document.createElement('div');\n",
              "      const label = document.createElement('label');\n",
              "      label.textContent = `Downloading \"${filename}\": `;\n",
              "      div.appendChild(label);\n",
              "      const progress = document.createElement('progress');\n",
              "      progress.max = size;\n",
              "      div.appendChild(progress);\n",
              "      document.body.appendChild(div);\n",
              "\n",
              "      const buffers = [];\n",
              "      let downloaded = 0;\n",
              "\n",
              "      const channel = await google.colab.kernel.comms.open(id);\n",
              "      // Send a message to notify the kernel that we're ready.\n",
              "      channel.send({})\n",
              "\n",
              "      for await (const message of channel.messages) {\n",
              "        // Send a message to notify the kernel that we're ready.\n",
              "        channel.send({})\n",
              "        if (message.buffers) {\n",
              "          for (const buffer of message.buffers) {\n",
              "            buffers.push(buffer);\n",
              "            downloaded += buffer.byteLength;\n",
              "            progress.value = downloaded;\n",
              "          }\n",
              "        }\n",
              "      }\n",
              "      const blob = new Blob(buffers, {type: 'application/binary'});\n",
              "      const a = document.createElement('a');\n",
              "      a.href = window.URL.createObjectURL(blob);\n",
              "      a.download = filename;\n",
              "      div.appendChild(a);\n",
              "      a.click();\n",
              "      div.remove();\n",
              "    }\n",
              "  "
            ]
          },
          "metadata": {}
        },
        {
          "output_type": "display_data",
          "data": {
            "text/plain": [
              "<IPython.core.display.Javascript object>"
            ],
            "application/javascript": [
              "download(\"download_1f919cb0-ee70-4af0-b76c-6d708158094d\", \"top_insurance.csv\", 229412)"
            ]
          },
          "metadata": {}
        },
        {
          "output_type": "display_data",
          "data": {
            "text/plain": [
              "<IPython.core.display.Javascript object>"
            ],
            "application/javascript": [
              "\n",
              "    async function download(id, filename, size) {\n",
              "      if (!google.colab.kernel.accessAllowed) {\n",
              "        return;\n",
              "      }\n",
              "      const div = document.createElement('div');\n",
              "      const label = document.createElement('label');\n",
              "      label.textContent = `Downloading \"${filename}\": `;\n",
              "      div.appendChild(label);\n",
              "      const progress = document.createElement('progress');\n",
              "      progress.max = size;\n",
              "      div.appendChild(progress);\n",
              "      document.body.appendChild(div);\n",
              "\n",
              "      const buffers = [];\n",
              "      let downloaded = 0;\n",
              "\n",
              "      const channel = await google.colab.kernel.comms.open(id);\n",
              "      // Send a message to notify the kernel that we're ready.\n",
              "      channel.send({})\n",
              "\n",
              "      for await (const message of channel.messages) {\n",
              "        // Send a message to notify the kernel that we're ready.\n",
              "        channel.send({})\n",
              "        if (message.buffers) {\n",
              "          for (const buffer of message.buffers) {\n",
              "            buffers.push(buffer);\n",
              "            downloaded += buffer.byteLength;\n",
              "            progress.value = downloaded;\n",
              "          }\n",
              "        }\n",
              "      }\n",
              "      const blob = new Blob(buffers, {type: 'application/binary'});\n",
              "      const a = document.createElement('a');\n",
              "      a.href = window.URL.createObjectURL(blob);\n",
              "      a.download = filename;\n",
              "      div.appendChild(a);\n",
              "      a.click();\n",
              "      div.remove();\n",
              "    }\n",
              "  "
            ]
          },
          "metadata": {}
        },
        {
          "output_type": "display_data",
          "data": {
            "text/plain": [
              "<IPython.core.display.Javascript object>"
            ],
            "application/javascript": [
              "download(\"download_64f31c9c-5010-427e-ad09-8401f1ddd99d\", \"top_transaction.csv\", 433749)"
            ]
          },
          "metadata": {}
        },
        {
          "output_type": "display_data",
          "data": {
            "text/plain": [
              "<IPython.core.display.Javascript object>"
            ],
            "application/javascript": [
              "\n",
              "    async function download(id, filename, size) {\n",
              "      if (!google.colab.kernel.accessAllowed) {\n",
              "        return;\n",
              "      }\n",
              "      const div = document.createElement('div');\n",
              "      const label = document.createElement('label');\n",
              "      label.textContent = `Downloading \"${filename}\": `;\n",
              "      div.appendChild(label);\n",
              "      const progress = document.createElement('progress');\n",
              "      progress.max = size;\n",
              "      div.appendChild(progress);\n",
              "      document.body.appendChild(div);\n",
              "\n",
              "      const buffers = [];\n",
              "      let downloaded = 0;\n",
              "\n",
              "      const channel = await google.colab.kernel.comms.open(id);\n",
              "      // Send a message to notify the kernel that we're ready.\n",
              "      channel.send({})\n",
              "\n",
              "      for await (const message of channel.messages) {\n",
              "        // Send a message to notify the kernel that we're ready.\n",
              "        channel.send({})\n",
              "        if (message.buffers) {\n",
              "          for (const buffer of message.buffers) {\n",
              "            buffers.push(buffer);\n",
              "            downloaded += buffer.byteLength;\n",
              "            progress.value = downloaded;\n",
              "          }\n",
              "        }\n",
              "      }\n",
              "      const blob = new Blob(buffers, {type: 'application/binary'});\n",
              "      const a = document.createElement('a');\n",
              "      a.href = window.URL.createObjectURL(blob);\n",
              "      a.download = filename;\n",
              "      div.appendChild(a);\n",
              "      a.click();\n",
              "      div.remove();\n",
              "    }\n",
              "  "
            ]
          },
          "metadata": {}
        },
        {
          "output_type": "display_data",
          "data": {
            "text/plain": [
              "<IPython.core.display.Javascript object>"
            ],
            "application/javascript": [
              "download(\"download_4c7ce835-16b0-452d-9951-9b91b7321daa\", \"top_user.csv\", 285410)"
            ]
          },
          "metadata": {}
        }
      ]
    },
    {
      "cell_type": "markdown",
      "source": [
        "### Install & Import the necessary libraries"
      ],
      "metadata": {
        "id": "VDjcCzo5QYRr"
      }
    },
    {
      "cell_type": "markdown",
      "source": [
        "!pip install sqlalchemy pymysql"
      ],
      "metadata": {
        "id": "q7UN-VUQPzBM"
      }
    },
    {
      "cell_type": "markdown",
      "source": [],
      "metadata": {
        "id": "Mp1XmcaT67zX"
      }
    },
    {
      "cell_type": "markdown",
      "source": [
        "from sqlalchemy import create_engine"
      ],
      "metadata": {
        "id": "7c93V9CdPy-r"
      }
    },
    {
      "cell_type": "markdown",
      "source": [
        "## connection to SQL"
      ],
      "metadata": {
        "id": "KUeol1vMQQSp"
      }
    },
    {
      "cell_type": "markdown",
      "source": [
        "from google.colab import userdata\n",
        "\n",
        "# Connection details\n",
        "username = userdata.get(\"Sql_username\")\n",
        "password = userdata.get(\"Sql_password\")\n",
        "host = userdata.get(\"Sql_host\")\n",
        "port = 3306\n",
        "database = userdata.get(\"Sql_database\")"
      ],
      "metadata": {
        "id": "UpnyVSGERVae"
      }
    },
    {
      "cell_type": "markdown",
      "source": [
        "# Create engine for MySQL\n",
        "engine = create_engine(f\"mysql+pymysql://{username}:{password}@{host}:{port}/{database}\")"
      ],
      "metadata": {
        "id": "q73NjwlpPy7x"
      }
    },
    {
      "cell_type": "markdown",
      "source": [
        "## Store the DataFrame into SQL table"
      ],
      "metadata": {
        "id": "xJp2YwfTU2Z8"
      }
    },
    {
      "cell_type": "markdown",
      "source": [
        "# Store each DataFrame into its respective SQL table\n",
        "aggr_trans.to_sql('aggr_trans_data', con=engine, if_exists='replace', index=False)\n",
        "aggr_user.to_sql('aggr_user_data', con=engine, if_exists='replace', index=False)\n",
        "aggr_insurance.to_sql('aggr_insurance_data', con=engine, if_exists='replace', index=False)\n",
        "map_insurance.to_sql('map_insurance_data', con=engine, if_exists='replace', index=False)\n",
        "map_user.to_sql('map_user_data', con=engine, if_exists='replace', index=False)\n",
        "map_transaction.to_sql('map_transaction_data', con=engine, if_exists='replace', index=False)\n",
        "top_insurance.to_sql('top_insurance_data', con=engine, if_exists='replace', index=False)\n",
        "top_transaction.to_sql('top_transaction_data', con=engine, if_exists='replace', index=False)\n",
        "top_user.to_sql('top_user_data', con=engine, if_exists='replace', index=False)\n",
        "\n",
        "print(\"✅ All data inserted successfully into the MySQL database.\")"
      ],
      "metadata": {
        "id": "LNMsZI0DPy5I"
      }
    }
  ]
}