{
  "nbformat": 4,
  "nbformat_minor": 0,
  "metadata": {
    "colab": {
      "provenance": [],
      "authorship_tag": "ABX9TyO1deP2K9cka6OsY4LEFAYd",
      "include_colab_link": true
    },
    "kernelspec": {
      "name": "python3",
      "display_name": "Python 3"
    },
    "language_info": {
      "name": "python"
    }
  },
  "cells": [
    {
      "cell_type": "markdown",
      "metadata": {
        "id": "view-in-github",
        "colab_type": "text"
      },
      "source": [
        "<a href=\"https://colab.research.google.com/github/SankarSivan/Guvi_DSC_Case-study/blob/Phonepe_Pulse/tosql.ipynb\" target=\"_parent\"><img src=\"https://colab.research.google.com/assets/colab-badge.svg\" alt=\"Open In Colab\"/></a>"
      ]
    },
    {
      "cell_type": "code",
      "execution_count": null,
      "metadata": {
        "id": "hzMqL-ScJRpp"
      },
      "outputs": [],
      "source": [
        "# store data into sql server,\n",
        "# data is code is there in other colab file"
      ]
    },
    {
      "cell_type": "code",
      "source": [],
      "metadata": {
        "id": "8n806pFiJ9Gw"
      },
      "execution_count": null,
      "outputs": []
    }
  ]
}