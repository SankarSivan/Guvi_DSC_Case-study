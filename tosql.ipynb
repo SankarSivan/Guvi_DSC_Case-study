{
  "nbformat": 4,
  "nbformat_minor": 0,
  "metadata": {
    "colab": {
      "provenance": [],
      "authorship_tag": "ABX9TyMhvf9NBCxh9gwd+tTU0gOp",
      "include_colab_link": true
    },
    "kernelspec": {
      "name": "python3",
      "display_name": "Python 3"
    },
    "language_info": {
      "name": "python"
    }
  },
  "cells": [
    {
      "cell_type": "markdown",
      "metadata": {
        "id": "view-in-github",
        "colab_type": "text"
      },
      "source": [
        "<a href=\"https://colab.research.google.com/github/SankarSivan/Guvi_DSC_Case-study/blob/main/tosql.ipynb\" target=\"_parent\"><img src=\"https://colab.research.google.com/assets/colab-badge.svg\" alt=\"Open In Colab\"/></a>"
      ]
    },
    {
      "cell_type": "code",
      "execution_count": 1,
      "metadata": {
        "id": "hzMqL-ScJRpp"
      },
      "outputs": [],
      "source": [
        "# store data into sql server,\n",
        "# data is code is there in other colab file"
      ]
    },
    {
      "cell_type": "code",
      "source": [
        "!pip install pandas sqlalchemy pymysql"
      ],
      "metadata": {
        "id": "8n806pFiJ9Gw",
        "colab": {
          "base_uri": "https://localhost:8080/"
        },
        "outputId": "16ecb862-4aca-4ddb-9dc8-0b8d9fc87409"
      },
      "execution_count": 2,
      "outputs": [
        {
          "output_type": "stream",
          "name": "stdout",
          "text": [
            "Requirement already satisfied: pandas in /usr/local/lib/python3.11/dist-packages (2.2.2)\n",
            "Requirement already satisfied: sqlalchemy in /usr/local/lib/python3.11/dist-packages (2.0.40)\n",
            "Requirement already satisfied: pymysql in /usr/local/lib/python3.11/dist-packages (1.1.1)\n",
            "Requirement already satisfied: numpy>=1.23.2 in /usr/local/lib/python3.11/dist-packages (from pandas) (2.0.2)\n",
            "Requirement already satisfied: python-dateutil>=2.8.2 in /usr/local/lib/python3.11/dist-packages (from pandas) (2.8.2)\n",
            "Requirement already satisfied: pytz>=2020.1 in /usr/local/lib/python3.11/dist-packages (from pandas) (2025.2)\n",
            "Requirement already satisfied: tzdata>=2022.7 in /usr/local/lib/python3.11/dist-packages (from pandas) (2025.2)\n",
            "Requirement already satisfied: greenlet>=1 in /usr/local/lib/python3.11/dist-packages (from sqlalchemy) (3.1.1)\n",
            "Requirement already satisfied: typing-extensions>=4.6.0 in /usr/local/lib/python3.11/dist-packages (from sqlalchemy) (4.13.1)\n",
            "Requirement already satisfied: six>=1.5 in /usr/local/lib/python3.11/dist-packages (from python-dateutil>=2.8.2->pandas) (1.17.0)\n"
          ]
        }
      ]
    },
    {
      "cell_type": "code",
      "source": [
        "import pandas as pd\n",
        "from sqlalchemy import create_engine\n",
        "from sqlalchemy import inspect\n",
        "from google.colab import userdata"
      ],
      "metadata": {
        "id": "UvAiYbtMXSKh"
      },
      "execution_count": 3,
      "outputs": []
    },
    {
      "cell_type": "code",
      "source": [
        "# @title SQL Connection\n",
        "from google.colab import userdata\n",
        "\n",
        "# Connection details\n",
        "username = userdata.get(\"Sql_username\")\n",
        "password = userdata.get(\"Sql_password\")\n",
        "host = \"sql12.freesqldatabase.com\"\n",
        "port = 3306\n",
        "database = userdata.get(\"Sql_database\")\n",
        "\n",
        "# Create SQLAlchemy engine\n",
        "engine = create_engine(f\"mysql+pymysql://{username}:{password}@{host}:{port}/{database}\")"
      ],
      "metadata": {
        "id": "el1i_D-nXYvD"
      },
      "execution_count": 15,
      "outputs": []
    },
    {
      "cell_type": "code",
      "source": [
        "# Create inspector from the engine\n",
        "inspector = inspect(engine)"
      ],
      "metadata": {
        "id": "HH6dsNBTY6xL"
      },
      "execution_count": 16,
      "outputs": []
    },
    {
      "cell_type": "code",
      "source": [
        "# Get all table names\n",
        "table_names = inspector.get_table_names()\n",
        "print(\"✅ Available tables:\", table_names)"
      ],
      "metadata": {
        "colab": {
          "base_uri": "https://localhost:8080/"
        },
        "id": "Vb2ffhxhY9f5",
        "outputId": "a909466a-d821-48ee-d490-d91208068e48"
      },
      "execution_count": 17,
      "outputs": [
        {
          "output_type": "stream",
          "name": "stdout",
          "text": [
            "✅ Available tables: ['aggr_insurance_data', 'aggr_trans_data', 'aggr_user_data', 'map_insurance_data', 'map_transaction_data', 'map_user_data', 'top_insurance_data', 'top_transaction_data', 'top_user_data']\n"
          ]
        }
      ]
    },
    {
      "cell_type": "code",
      "source": [
        "for i in table_names:\n",
        "    df = pd.read_sql_table(i, con = engine)\n",
        "     # Print table name\n",
        "    print(f\"Table: {i}\")\n",
        "      # Print unique values count for each column in the table\n",
        "    print(f\"Unique counts for {i}: \\n{df.nunique()}\\n\")"
      ],
      "metadata": {
        "collapsed": true,
        "colab": {
          "base_uri": "https://localhost:8080/"
        },
        "id": "eH4VdCrqaDTW",
        "outputId": "791aa6ef-0f3c-4300-edd5-99084af1e38d"
      },
      "execution_count": 18,
      "outputs": [
        {
          "output_type": "stream",
          "name": "stdout",
          "text": [
            "Table: aggr_insurance_data\n",
            "Unique counts for aggr_insurance_data: \n",
            "state      36\n",
            "year        5\n",
            "quater      2\n",
            "name        1\n",
            "count     179\n",
            "amount    180\n",
            "dtype: int64\n",
            "\n",
            "Table: aggr_trans_data\n",
            "Unique counts for aggr_trans_data: \n",
            "state                   36\n",
            "year                     7\n",
            "quater                   4\n",
            "transaction_type         5\n",
            "transaction_count     4966\n",
            "transaction_amount    5034\n",
            "dtype: int64\n",
            "\n",
            "Table: aggr_user_data\n",
            "Unique counts for aggr_user_data: \n",
            "state                36\n",
            "year                  5\n",
            "quater                1\n",
            "User_Brand           20\n",
            "User_count         1955\n",
            "User_percentage    1977\n",
            "dtype: int64\n",
            "\n",
            "Table: map_insurance_data\n",
            "Unique counts for map_insurance_data: \n",
            "state      36\n",
            "year        5\n",
            "quater      2\n",
            "name        1\n",
            "count     179\n",
            "amount    180\n",
            "dtype: int64\n",
            "\n",
            "Table: map_transaction_data\n",
            "Unique counts for map_transaction_data: \n",
            "state                   36\n",
            "year                     7\n",
            "quater                   4\n",
            "transaction_count     1008\n",
            "transaction_amount    1008\n",
            "dtype: int64\n",
            "\n",
            "Table: map_user_data\n",
            "Unique counts for map_user_data: \n",
            "state                  36\n",
            "year                    7\n",
            "quarter                 4\n",
            "district              843\n",
            "registered_users    20170\n",
            "app_opens           16943\n",
            "dtype: int64\n",
            "\n",
            "Table: top_insurance_data\n",
            "Unique counts for top_insurance_data: \n",
            "state                      36\n",
            "year                        5\n",
            "quater                      4\n",
            "district/pincode         1311\n",
            "top_insurance_count      3085\n",
            "top_insurance_amount    12008\n",
            "dtype: int64\n",
            "\n",
            "Table: top_transaction_data\n",
            "Unique counts for top_transaction_data: \n",
            "state                        36\n",
            "year                          7\n",
            "quater                        4\n",
            "district/pincode           1245\n",
            "top_transaction_count     18120\n",
            "top_transaction_amount    18273\n",
            "dtype: int64\n",
            "\n",
            "Table: top_user_data\n",
            "Unique counts for top_user_data: \n",
            "state                  36\n",
            "year                    7\n",
            "quater                  4\n",
            "district/pincode      863\n",
            "top_user_count      17550\n",
            "dtype: int64\n",
            "\n"
          ]
        }
      ]
    }
  ]
}